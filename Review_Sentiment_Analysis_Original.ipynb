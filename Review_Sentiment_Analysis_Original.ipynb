{
  "cells": [
    {
      "cell_type": "markdown",
      "metadata": {
        "id": "yU96yzdzO8NA"
      },
      "source": [
        "# Steam Review Classification"
      ],
      "id": "yU96yzdzO8NA"
    },
    {
      "cell_type": "markdown",
      "metadata": {
        "id": "QjJho_qTYnGq"
      },
      "source": [
        "INDEX:\n",
        "- Problem Statement\n",
        "- Dataset\n",
        "- Exploratory Data Analysis\n",
        "- Model selection\n",
        "  - Standard Machine Learning Approach\n",
        "  - LSTM + GloVe embeddings\n",
        "  - Transformer Pretrained model\n",
        "  - Fine Tune pretrained model\n",
        "\n",
        "- Train best model on more Data\n",
        "- Results\n",
        "- Reference (bibliography)"
      ],
      "id": "QjJho_qTYnGq"
    },
    {
      "cell_type": "markdown",
      "metadata": {
        "id": "N2HRBdFePBNd"
      },
      "source": [
        "## Problem Statement:\n",
        "- The Dataset contain reviews about the games in the steam videogame platform with corresponding sentiment label (-1 = Negative, 1 = Positive)\n",
        "- Type of problem: Text Classification: Sentiment Analysis"
      ],
      "id": "N2HRBdFePBNd"
    },
    {
      "cell_type": "markdown",
      "metadata": {
        "id": "Ko9ERBzZPtfH"
      },
      "source": [
        "# Dataset\n",
        "- The Steam Review Dataset is available on Kaggle  and is composed by 6+ milions rows and 5 columns where the Target Variable is: 'review_score’\n",
        "\n",
        " link: https://www.kaggle.com/datasets/andrewmvd/steam-reviews"
      ],
      "id": "Ko9ERBzZPtfH"
    },
    {
      "cell_type": "markdown",
      "metadata": {
        "id": "d7b23320"
      },
      "source": [
        "# Dependencies"
      ],
      "id": "d7b23320"
    },
    {
      "cell_type": "code",
      "execution_count": null,
      "metadata": {
        "colab": {
          "background_save": true,
          "base_uri": "https://localhost:8080/"
        },
        "id": "288920ef",
        "outputId": "92d94fcd-d80e-493c-f27b-b3276c0709fc"
      },
      "outputs": [
        {
          "name": "stdout",
          "output_type": "stream",
          "text": [
            "Requirement already satisfied: WordCloud in /usr/local/lib/python3.10/dist-packages (1.9.2)\n",
            "Requirement already satisfied: numpy>=1.6.1 in /usr/local/lib/python3.10/dist-packages (from WordCloud) (1.23.5)\n",
            "Requirement already satisfied: pillow in /usr/local/lib/python3.10/dist-packages (from WordCloud) (9.4.0)\n",
            "Requirement already satisfied: matplotlib in /usr/local/lib/python3.10/dist-packages (from WordCloud) (3.7.1)\n",
            "Requirement already satisfied: contourpy>=1.0.1 in /usr/local/lib/python3.10/dist-packages (from matplotlib->WordCloud) (1.1.1)\n",
            "Requirement already satisfied: cycler>=0.10 in /usr/local/lib/python3.10/dist-packages (from matplotlib->WordCloud) (0.12.1)\n",
            "Requirement already satisfied: fonttools>=4.22.0 in /usr/local/lib/python3.10/dist-packages (from matplotlib->WordCloud) (4.43.1)\n",
            "Requirement already satisfied: kiwisolver>=1.0.1 in /usr/local/lib/python3.10/dist-packages (from matplotlib->WordCloud) (1.4.5)\n",
            "Requirement already satisfied: packaging>=20.0 in /usr/local/lib/python3.10/dist-packages (from matplotlib->WordCloud) (23.2)\n",
            "Requirement already satisfied: pyparsing>=2.3.1 in /usr/local/lib/python3.10/dist-packages (from matplotlib->WordCloud) (3.1.1)\n",
            "Requirement already satisfied: python-dateutil>=2.7 in /usr/local/lib/python3.10/dist-packages (from matplotlib->WordCloud) (2.8.2)\n",
            "Requirement already satisfied: six>=1.5 in /usr/local/lib/python3.10/dist-packages (from python-dateutil>=2.7->matplotlib->WordCloud) (1.16.0)\n",
            "Collecting emoji\n",
            "  Downloading emoji-2.8.0-py2.py3-none-any.whl (358 kB)\n",
            "\u001b[2K     \u001b[90m━━━━━━━━━━━━━━━━━━━━━━━━━━━━━━━━━━━━━━━━\u001b[0m \u001b[32m358.9/358.9 kB\u001b[0m \u001b[31m3.8 MB/s\u001b[0m eta \u001b[36m0:00:00\u001b[0m\n",
            "\u001b[?25hInstalling collected packages: emoji\n",
            "Successfully installed emoji-2.8.0\n",
            "Collecting transformers\n",
            "  Downloading transformers-4.34.1-py3-none-any.whl (7.7 MB)\n",
            "\u001b[2K     \u001b[90m━━━━━━━━━━━━━━━━━━━━━━━━━━━━━━━━━━━━━━━━\u001b[0m \u001b[32m7.7/7.7 MB\u001b[0m \u001b[31m51.7 MB/s\u001b[0m eta \u001b[36m0:00:00\u001b[0m\n",
            "\u001b[?25hRequirement already satisfied: filelock in /usr/local/lib/python3.10/dist-packages (from transformers) (3.12.4)\n",
            "Collecting huggingface-hub<1.0,>=0.16.4 (from transformers)\n",
            "  Downloading huggingface_hub-0.18.0-py3-none-any.whl (301 kB)\n",
            "\u001b[2K     \u001b[90m━━━━━━━━━━━━━━━━━━━━━━━━━━━━━━━━━━━━━━━━\u001b[0m \u001b[32m302.0/302.0 kB\u001b[0m \u001b[31m27.0 MB/s\u001b[0m eta \u001b[36m0:00:00\u001b[0m\n",
            "\u001b[?25hRequirement already satisfied: numpy>=1.17 in /usr/local/lib/python3.10/dist-packages (from transformers) (1.23.5)\n",
            "Requirement already satisfied: packaging>=20.0 in /usr/local/lib/python3.10/dist-packages (from transformers) (23.2)\n",
            "Requirement already satisfied: pyyaml>=5.1 in /usr/local/lib/python3.10/dist-packages (from transformers) (6.0.1)\n",
            "Requirement already satisfied: regex!=2019.12.17 in /usr/local/lib/python3.10/dist-packages (from transformers) (2023.6.3)\n",
            "Requirement already satisfied: requests in /usr/local/lib/python3.10/dist-packages (from transformers) (2.31.0)\n",
            "Collecting tokenizers<0.15,>=0.14 (from transformers)\n",
            "  Downloading tokenizers-0.14.1-cp310-cp310-manylinux_2_17_x86_64.manylinux2014_x86_64.whl (3.8 MB)\n",
            "\u001b[2K     \u001b[90m━━━━━━━━━━━━━━━━━━━━━━━━━━━━━━━━━━━━━━━━\u001b[0m \u001b[32m3.8/3.8 MB\u001b[0m \u001b[31m36.9 MB/s\u001b[0m eta \u001b[36m0:00:00\u001b[0m\n",
            "\u001b[?25hCollecting safetensors>=0.3.1 (from transformers)\n",
            "  Downloading safetensors-0.4.0-cp310-cp310-manylinux_2_17_x86_64.manylinux2014_x86_64.whl (1.3 MB)\n",
            "\u001b[2K     \u001b[90m━━━━━━━━━━━━━━━━━━━━━━━━━━━━━━━━━━━━━━━━\u001b[0m \u001b[32m1.3/1.3 MB\u001b[0m \u001b[31m71.1 MB/s\u001b[0m eta \u001b[36m0:00:00\u001b[0m\n",
            "\u001b[?25hRequirement already satisfied: tqdm>=4.27 in /usr/local/lib/python3.10/dist-packages (from transformers) (4.66.1)\n",
            "Requirement already satisfied: fsspec>=2023.5.0 in /usr/local/lib/python3.10/dist-packages (from huggingface-hub<1.0,>=0.16.4->transformers) (2023.6.0)\n",
            "Requirement already satisfied: typing-extensions>=3.7.4.3 in /usr/local/lib/python3.10/dist-packages (from huggingface-hub<1.0,>=0.16.4->transformers) (4.5.0)\n",
            "Collecting huggingface-hub<1.0,>=0.16.4 (from transformers)\n",
            "  Downloading huggingface_hub-0.17.3-py3-none-any.whl (295 kB)\n",
            "\u001b[2K     \u001b[90m━━━━━━━━━━━━━━━━━━━━━━━━━━━━━━━━━━━━━━━━\u001b[0m \u001b[32m295.0/295.0 kB\u001b[0m \u001b[31m29.7 MB/s\u001b[0m eta \u001b[36m0:00:00\u001b[0m\n",
            "\u001b[?25hRequirement already satisfied: charset-normalizer<4,>=2 in /usr/local/lib/python3.10/dist-packages (from requests->transformers) (3.3.1)\n",
            "Requirement already satisfied: idna<4,>=2.5 in /usr/local/lib/python3.10/dist-packages (from requests->transformers) (3.4)\n",
            "Requirement already satisfied: urllib3<3,>=1.21.1 in /usr/local/lib/python3.10/dist-packages (from requests->transformers) (2.0.7)\n",
            "Requirement already satisfied: certifi>=2017.4.17 in /usr/local/lib/python3.10/dist-packages (from requests->transformers) (2023.7.22)\n",
            "Installing collected packages: safetensors, huggingface-hub, tokenizers, transformers\n",
            "Successfully installed huggingface-hub-0.17.3 safetensors-0.4.0 tokenizers-0.14.1 transformers-4.34.1\n",
            "Requirement already satisfied: tensorflow in /usr/local/lib/python3.10/dist-packages (2.14.0)\n",
            "Requirement already satisfied: absl-py>=1.0.0 in /usr/local/lib/python3.10/dist-packages (from tensorflow) (1.4.0)\n",
            "Requirement already satisfied: astunparse>=1.6.0 in /usr/local/lib/python3.10/dist-packages (from tensorflow) (1.6.3)\n",
            "Requirement already satisfied: flatbuffers>=23.5.26 in /usr/local/lib/python3.10/dist-packages (from tensorflow) (23.5.26)\n",
            "Requirement already satisfied: gast!=0.5.0,!=0.5.1,!=0.5.2,>=0.2.1 in /usr/local/lib/python3.10/dist-packages (from tensorflow) (0.5.4)\n",
            "Requirement already satisfied: google-pasta>=0.1.1 in /usr/local/lib/python3.10/dist-packages (from tensorflow) (0.2.0)\n",
            "Requirement already satisfied: h5py>=2.9.0 in /usr/local/lib/python3.10/dist-packages (from tensorflow) (3.9.0)\n",
            "Requirement already satisfied: libclang>=13.0.0 in /usr/local/lib/python3.10/dist-packages (from tensorflow) (16.0.6)\n",
            "Requirement already satisfied: ml-dtypes==0.2.0 in /usr/local/lib/python3.10/dist-packages (from tensorflow) (0.2.0)\n",
            "Requirement already satisfied: numpy>=1.23.5 in /usr/local/lib/python3.10/dist-packages (from tensorflow) (1.23.5)\n",
            "Requirement already satisfied: opt-einsum>=2.3.2 in /usr/local/lib/python3.10/dist-packages (from tensorflow) (3.3.0)\n",
            "Requirement already satisfied: packaging in /usr/local/lib/python3.10/dist-packages (from tensorflow) (23.2)\n",
            "Requirement already satisfied: protobuf!=4.21.0,!=4.21.1,!=4.21.2,!=4.21.3,!=4.21.4,!=4.21.5,<5.0.0dev,>=3.20.3 in /usr/local/lib/python3.10/dist-packages (from tensorflow) (3.20.3)\n",
            "Requirement already satisfied: setuptools in /usr/local/lib/python3.10/dist-packages (from tensorflow) (67.7.2)\n",
            "Requirement already satisfied: six>=1.12.0 in /usr/local/lib/python3.10/dist-packages (from tensorflow) (1.16.0)\n",
            "Requirement already satisfied: termcolor>=1.1.0 in /usr/local/lib/python3.10/dist-packages (from tensorflow) (2.3.0)\n",
            "Requirement already satisfied: typing-extensions>=3.6.6 in /usr/local/lib/python3.10/dist-packages (from tensorflow) (4.5.0)\n",
            "Requirement already satisfied: wrapt<1.15,>=1.11.0 in /usr/local/lib/python3.10/dist-packages (from tensorflow) (1.14.1)\n",
            "Requirement already satisfied: tensorflow-io-gcs-filesystem>=0.23.1 in /usr/local/lib/python3.10/dist-packages (from tensorflow) (0.34.0)\n",
            "Requirement already satisfied: grpcio<2.0,>=1.24.3 in /usr/local/lib/python3.10/dist-packages (from tensorflow) (1.59.0)\n",
            "Requirement already satisfied: tensorboard<2.15,>=2.14 in /usr/local/lib/python3.10/dist-packages (from tensorflow) (2.14.1)\n",
            "Requirement already satisfied: tensorflow-estimator<2.15,>=2.14.0 in /usr/local/lib/python3.10/dist-packages (from tensorflow) (2.14.0)\n",
            "Requirement already satisfied: keras<2.15,>=2.14.0 in /usr/local/lib/python3.10/dist-packages (from tensorflow) (2.14.0)\n",
            "Requirement already satisfied: wheel<1.0,>=0.23.0 in /usr/local/lib/python3.10/dist-packages (from astunparse>=1.6.0->tensorflow) (0.41.2)\n",
            "Requirement already satisfied: google-auth<3,>=1.6.3 in /usr/local/lib/python3.10/dist-packages (from tensorboard<2.15,>=2.14->tensorflow) (2.17.3)\n",
            "Requirement already satisfied: google-auth-oauthlib<1.1,>=0.5 in /usr/local/lib/python3.10/dist-packages (from tensorboard<2.15,>=2.14->tensorflow) (1.0.0)\n",
            "Requirement already satisfied: markdown>=2.6.8 in /usr/local/lib/python3.10/dist-packages (from tensorboard<2.15,>=2.14->tensorflow) (3.5)\n",
            "Requirement already satisfied: requests<3,>=2.21.0 in /usr/local/lib/python3.10/dist-packages (from tensorboard<2.15,>=2.14->tensorflow) (2.31.0)\n",
            "Requirement already satisfied: tensorboard-data-server<0.8.0,>=0.7.0 in /usr/local/lib/python3.10/dist-packages (from tensorboard<2.15,>=2.14->tensorflow) (0.7.2)\n",
            "Requirement already satisfied: werkzeug>=1.0.1 in /usr/local/lib/python3.10/dist-packages (from tensorboard<2.15,>=2.14->tensorflow) (3.0.1)\n",
            "Requirement already satisfied: cachetools<6.0,>=2.0.0 in /usr/local/lib/python3.10/dist-packages (from google-auth<3,>=1.6.3->tensorboard<2.15,>=2.14->tensorflow) (5.3.2)\n",
            "Requirement already satisfied: pyasn1-modules>=0.2.1 in /usr/local/lib/python3.10/dist-packages (from google-auth<3,>=1.6.3->tensorboard<2.15,>=2.14->tensorflow) (0.3.0)\n",
            "Requirement already satisfied: rsa<5,>=3.1.4 in /usr/local/lib/python3.10/dist-packages (from google-auth<3,>=1.6.3->tensorboard<2.15,>=2.14->tensorflow) (4.9)\n",
            "Requirement already satisfied: requests-oauthlib>=0.7.0 in /usr/local/lib/python3.10/dist-packages (from google-auth-oauthlib<1.1,>=0.5->tensorboard<2.15,>=2.14->tensorflow) (1.3.1)\n",
            "Requirement already satisfied: charset-normalizer<4,>=2 in /usr/local/lib/python3.10/dist-packages (from requests<3,>=2.21.0->tensorboard<2.15,>=2.14->tensorflow) (3.3.1)\n",
            "Requirement already satisfied: idna<4,>=2.5 in /usr/local/lib/python3.10/dist-packages (from requests<3,>=2.21.0->tensorboard<2.15,>=2.14->tensorflow) (3.4)\n",
            "Requirement already satisfied: urllib3<3,>=1.21.1 in /usr/local/lib/python3.10/dist-packages (from requests<3,>=2.21.0->tensorboard<2.15,>=2.14->tensorflow) (2.0.7)\n",
            "Requirement already satisfied: certifi>=2017.4.17 in /usr/local/lib/python3.10/dist-packages (from requests<3,>=2.21.0->tensorboard<2.15,>=2.14->tensorflow) (2023.7.22)\n",
            "Requirement already satisfied: MarkupSafe>=2.1.1 in /usr/local/lib/python3.10/dist-packages (from werkzeug>=1.0.1->tensorboard<2.15,>=2.14->tensorflow) (2.1.3)\n",
            "Requirement already satisfied: pyasn1<0.6.0,>=0.4.6 in /usr/local/lib/python3.10/dist-packages (from pyasn1-modules>=0.2.1->google-auth<3,>=1.6.3->tensorboard<2.15,>=2.14->tensorflow) (0.5.0)\n",
            "Requirement already satisfied: oauthlib>=3.0.0 in /usr/local/lib/python3.10/dist-packages (from requests-oauthlib>=0.7.0->google-auth-oauthlib<1.1,>=0.5->tensorboard<2.15,>=2.14->tensorflow) (3.2.2)\n",
            "Requirement already satisfied: xgboost in /usr/local/lib/python3.10/dist-packages (2.0.1)\n",
            "Requirement already satisfied: numpy in /usr/local/lib/python3.10/dist-packages (from xgboost) (1.23.5)\n",
            "Requirement already satisfied: scipy in /usr/local/lib/python3.10/dist-packages (from xgboost) (1.11.3)\n"
          ]
        }
      ],
      "source": [
        "!pip install WordCloud\n",
        "!pip install emoji\n",
        "!pip install transformers\n",
        "!pip install tensorflow\n",
        "!pip install xgboost"
      ],
      "id": "288920ef"
    },
    {
      "cell_type": "code",
      "execution_count": null,
      "metadata": {
        "colab": {
          "background_save": true
        },
        "id": "338ba259"
      },
      "outputs": [],
      "source": [
        "import pandas as pd\n",
        "import matplotlib.pyplot as plt\n",
        "from wordcloud import WordCloud\n",
        "import re\n",
        "import emoji\n",
        "import itertools\n",
        "import tensorflow as tf\n",
        "import numpy as np\n",
        "\n",
        "# preprocessing\n",
        "from sklearn.feature_extraction.text import TfidfVectorizer, CountVectorizer\n",
        "from keras.preprocessing.text import Tokenizer\n",
        "from imblearn.pipeline import Pipeline as ImbPipeline\n",
        "\n",
        "import nltk\n",
        "from nltk.corpus import stopwords\n",
        "from nltk.stem import WordNetLemmatizer\n",
        "from nltk.tokenize import word_tokenize\n",
        "\n",
        "# models\n",
        "from sklearn.linear_model import LogisticRegression\n",
        "from sklearn.ensemble import RandomForestClassifier\n",
        "from xgboost import XGBClassifier\n",
        "from sklearn.svm import SVC\n",
        "\n",
        "from keras.models import Sequential\n",
        "from keras.layers import Embedding, LSTM, Dense, Dropout\n",
        "from tensorflow.keras.preprocessing.sequence import pad_sequences\n",
        "from tensorflow.keras import layers, models, optimizers\n",
        "from tensorflow.keras.optimizers import Adam\n",
        "from keras.callbacks import EarlyStopping\n",
        "\n",
        "from transformers import BertTokenizer, TFBertForSequenceClassification, RobertaTokenizer, TFRobertaForSequenceClassification\n",
        "\n",
        "# split\n",
        "from sklearn.model_selection import train_test_split\n",
        "\n",
        "#metrics\n",
        "from sklearn.metrics import accuracy_score, classification_report, make_scorer, f1_score, roc_auc_score, roc_curve, precision_score, recall_score\n",
        "\n",
        "# search\n",
        "from sklearn.model_selection import GridSearchCV, RandomizedSearchCV, cross_validate\n",
        "from sklearn.pipeline import Pipeline\n",
        "from imblearn.under_sampling import RandomUnderSampler\n",
        "from imblearn.over_sampling import SMOTE\n"
      ],
      "id": "338ba259"
    },
    {
      "cell_type": "code",
      "execution_count": null,
      "metadata": {
        "colab": {
          "background_save": true,
          "base_uri": "https://localhost:8080/"
        },
        "id": "n49x0ufGQIpG",
        "outputId": "c4323314-319f-4f4b-fd48-165467b73cf9"
      },
      "outputs": [
        {
          "name": "stderr",
          "output_type": "stream",
          "text": [
            "[nltk_data] Downloading package stopwords to /root/nltk_data...\n",
            "[nltk_data]   Unzipping corpora/stopwords.zip.\n",
            "[nltk_data] Downloading package wordnet to /root/nltk_data...\n",
            "[nltk_data] Downloading package omw-1.4 to /root/nltk_data...\n",
            "[nltk_data] Downloading package punkt to /root/nltk_data...\n",
            "[nltk_data]   Unzipping tokenizers/punkt.zip.\n"
          ]
        },
        {
          "data": {
            "text/plain": [
              "True"
            ]
          },
          "execution_count": 3,
          "metadata": {},
          "output_type": "execute_result"
        }
      ],
      "source": [
        "nltk.download('stopwords')\n",
        "nltk.download('wordnet')\n",
        "nltk.download('omw-1.4')\n",
        "nltk.download('punkt')"
      ],
      "id": "n49x0ufGQIpG"
    },
    {
      "cell_type": "code",
      "execution_count": null,
      "metadata": {
        "colab": {
          "base_uri": "https://localhost:8080/"
        },
        "id": "FFPIYXRr3YRn",
        "outputId": "0b0ad1c7-f6b2-4249-cb85-907e71034ad5"
      },
      "outputs": [
        {
          "name": "stdout",
          "output_type": "stream",
          "text": [
            "Mounted at /content/drive\n"
          ]
        }
      ],
      "source": [
        "# mount if needed\n",
        "from google.colab import drive\n",
        "drive.mount('/content/drive')\n",
        "\n"
      ],
      "id": "FFPIYXRr3YRn"
    },
    {
      "cell_type": "markdown",
      "metadata": {
        "id": "7eb26542"
      },
      "source": [
        "# Load Datasets\n",
        "- put your specific path of the dataset\n",
        "\n",
        "\n"
      ],
      "id": "7eb26542"
    },
    {
      "cell_type": "code",
      "execution_count": null,
      "metadata": {
        "colab": {
          "background_save": true
        },
        "id": "8jBY4PwEbdpv"
      },
      "outputs": [],
      "source": [
        "# Take a sample of 100k rows of the steam Dataset (put your specific path of the dataset)\n",
        "path_100k_sample = \"df_sample_100k__dataset.csv\""
      ],
      "id": "8jBY4PwEbdpv"
    },
    {
      "cell_type": "code",
      "execution_count": null,
      "metadata": {
        "id": "kj5blR_17UNu"
      },
      "outputs": [],
      "source": [
        "# Create Dataset\n",
        "df = pd.read_csv(path_100k_sample)"
      ],
      "id": "kj5blR_17UNu"
    },
    {
      "cell_type": "code",
      "execution_count": null,
      "metadata": {
        "colab": {
          "base_uri": "https://localhost:8080/",
          "height": 363
        },
        "id": "7e6e03f5",
        "outputId": "2837c50e-e830-42de-c5b7-863b37299e36"
      },
      "outputs": [
        {
          "data": {
            "text/html": [
              "\n",
              "\n",
              "  <div id=\"df-80f1a3aa-d22e-4d74-ad06-23b1b0b80b36\">\n",
              "    <div class=\"colab-df-container\">\n",
              "      <div>\n",
              "<style scoped>\n",
              "    .dataframe tbody tr th:only-of-type {\n",
              "        vertical-align: middle;\n",
              "    }\n",
              "\n",
              "    .dataframe tbody tr th {\n",
              "        vertical-align: top;\n",
              "    }\n",
              "\n",
              "    .dataframe thead th {\n",
              "        text-align: right;\n",
              "    }\n",
              "</style>\n",
              "<table border=\"1\" class=\"dataframe\">\n",
              "  <thead>\n",
              "    <tr style=\"text-align: right;\">\n",
              "      <th></th>\n",
              "      <th>app_id</th>\n",
              "      <th>app_name</th>\n",
              "      <th>review_text</th>\n",
              "      <th>review_score</th>\n",
              "      <th>review_votes</th>\n",
              "    </tr>\n",
              "  </thead>\n",
              "  <tbody>\n",
              "    <tr>\n",
              "      <th>0</th>\n",
              "      <td>221100</td>\n",
              "      <td>DayZ</td>\n",
              "      <td>Early Access Review</td>\n",
              "      <td>1</td>\n",
              "      <td>0</td>\n",
              "    </tr>\n",
              "    <tr>\n",
              "      <th>1</th>\n",
              "      <td>322330</td>\n",
              "      <td>Don't Starve Together</td>\n",
              "      <td>Early Access Review</td>\n",
              "      <td>-1</td>\n",
              "      <td>1</td>\n",
              "    </tr>\n",
              "    <tr>\n",
              "      <th>2</th>\n",
              "      <td>272060</td>\n",
              "      <td>Serena</td>\n",
              "      <td>it has only one pop up scare</td>\n",
              "      <td>1</td>\n",
              "      <td>0</td>\n",
              "    </tr>\n",
              "    <tr>\n",
              "      <th>3</th>\n",
              "      <td>298160</td>\n",
              "      <td>Eldevin</td>\n",
              "      <td>I Really Like The Game!!! Thumbs Up For Sure, ...</td>\n",
              "      <td>1</td>\n",
              "      <td>0</td>\n",
              "    </tr>\n",
              "    <tr>\n",
              "      <th>4</th>\n",
              "      <td>113400</td>\n",
              "      <td>APB Reloaded</td>\n",
              "      <td>I played this when it was in beta even though ...</td>\n",
              "      <td>1</td>\n",
              "      <td>0</td>\n",
              "    </tr>\n",
              "    <tr>\n",
              "      <th>5</th>\n",
              "      <td>8800</td>\n",
              "      <td>Sid Meier's Civilization IV: Beyond the Sword</td>\n",
              "      <td>My favourite game of all time...! The expansio...</td>\n",
              "      <td>1</td>\n",
              "      <td>0</td>\n",
              "    </tr>\n",
              "    <tr>\n",
              "      <th>6</th>\n",
              "      <td>433850</td>\n",
              "      <td>Z1 Battle Royale</td>\n",
              "      <td>Early Access Review</td>\n",
              "      <td>-1</td>\n",
              "      <td>0</td>\n",
              "    </tr>\n",
              "    <tr>\n",
              "      <th>7</th>\n",
              "      <td>289650</td>\n",
              "      <td>Assassin's Creed Unity</td>\n",
              "      <td>It is a big failure but i am still hoping that...</td>\n",
              "      <td>-1</td>\n",
              "      <td>0</td>\n",
              "    </tr>\n",
              "    <tr>\n",
              "      <th>8</th>\n",
              "      <td>238090</td>\n",
              "      <td>Sniper Elite 3</td>\n",
              "      <td>i want to back this game</td>\n",
              "      <td>1</td>\n",
              "      <td>1</td>\n",
              "    </tr>\n",
              "    <tr>\n",
              "      <th>9</th>\n",
              "      <td>223710</td>\n",
              "      <td>Cry of Fear</td>\n",
              "      <td>♥♥♥♥ you ♥♥♥♥ing nigs go eat juice box cans, ♥...</td>\n",
              "      <td>1</td>\n",
              "      <td>0</td>\n",
              "    </tr>\n",
              "  </tbody>\n",
              "</table>\n",
              "</div>\n",
              "      <button class=\"colab-df-convert\" onclick=\"convertToInteractive('df-80f1a3aa-d22e-4d74-ad06-23b1b0b80b36')\"\n",
              "              title=\"Convert this dataframe to an interactive table.\"\n",
              "              style=\"display:none;\">\n",
              "\n",
              "  <svg xmlns=\"http://www.w3.org/2000/svg\" height=\"24px\"viewBox=\"0 0 24 24\"\n",
              "       width=\"24px\">\n",
              "    <path d=\"M0 0h24v24H0V0z\" fill=\"none\"/>\n",
              "    <path d=\"M18.56 5.44l.94 2.06.94-2.06 2.06-.94-2.06-.94-.94-2.06-.94 2.06-2.06.94zm-11 1L8.5 8.5l.94-2.06 2.06-.94-2.06-.94L8.5 2.5l-.94 2.06-2.06.94zm10 10l.94 2.06.94-2.06 2.06-.94-2.06-.94-.94-2.06-.94 2.06-2.06.94z\"/><path d=\"M17.41 7.96l-1.37-1.37c-.4-.4-.92-.59-1.43-.59-.52 0-1.04.2-1.43.59L10.3 9.45l-7.72 7.72c-.78.78-.78 2.05 0 2.83L4 21.41c.39.39.9.59 1.41.59.51 0 1.02-.2 1.41-.59l7.78-7.78 2.81-2.81c.8-.78.8-2.07 0-2.86zM5.41 20L4 18.59l7.72-7.72 1.47 1.35L5.41 20z\"/>\n",
              "  </svg>\n",
              "      </button>\n",
              "\n",
              "\n",
              "\n",
              "    <div id=\"df-2ddc3951-0325-42f2-a1e3-c4c5ad3c1309\">\n",
              "      <button class=\"colab-df-quickchart\" onclick=\"quickchart('df-2ddc3951-0325-42f2-a1e3-c4c5ad3c1309')\"\n",
              "              title=\"Suggest charts.\"\n",
              "              style=\"display:none;\">\n",
              "\n",
              "<svg xmlns=\"http://www.w3.org/2000/svg\" height=\"24px\"viewBox=\"0 0 24 24\"\n",
              "     width=\"24px\">\n",
              "    <g>\n",
              "        <path d=\"M19 3H5c-1.1 0-2 .9-2 2v14c0 1.1.9 2 2 2h14c1.1 0 2-.9 2-2V5c0-1.1-.9-2-2-2zM9 17H7v-7h2v7zm4 0h-2V7h2v10zm4 0h-2v-4h2v4z\"/>\n",
              "    </g>\n",
              "</svg>\n",
              "      </button>\n",
              "    </div>\n",
              "\n",
              "<style>\n",
              "  .colab-df-quickchart {\n",
              "    background-color: #E8F0FE;\n",
              "    border: none;\n",
              "    border-radius: 50%;\n",
              "    cursor: pointer;\n",
              "    display: none;\n",
              "    fill: #1967D2;\n",
              "    height: 32px;\n",
              "    padding: 0 0 0 0;\n",
              "    width: 32px;\n",
              "  }\n",
              "\n",
              "  .colab-df-quickchart:hover {\n",
              "    background-color: #E2EBFA;\n",
              "    box-shadow: 0px 1px 2px rgba(60, 64, 67, 0.3), 0px 1px 3px 1px rgba(60, 64, 67, 0.15);\n",
              "    fill: #174EA6;\n",
              "  }\n",
              "\n",
              "  [theme=dark] .colab-df-quickchart {\n",
              "    background-color: #3B4455;\n",
              "    fill: #D2E3FC;\n",
              "  }\n",
              "\n",
              "  [theme=dark] .colab-df-quickchart:hover {\n",
              "    background-color: #434B5C;\n",
              "    box-shadow: 0px 1px 3px 1px rgba(0, 0, 0, 0.15);\n",
              "    filter: drop-shadow(0px 1px 2px rgba(0, 0, 0, 0.3));\n",
              "    fill: #FFFFFF;\n",
              "  }\n",
              "</style>\n",
              "\n",
              "    <script>\n",
              "      async function quickchart(key) {\n",
              "        const containerElement = document.querySelector('#' + key);\n",
              "        const charts = await google.colab.kernel.invokeFunction(\n",
              "            'suggestCharts', [key], {});\n",
              "      }\n",
              "    </script>\n",
              "\n",
              "      <script>\n",
              "\n",
              "function displayQuickchartButton(domScope) {\n",
              "  let quickchartButtonEl =\n",
              "    domScope.querySelector('#df-2ddc3951-0325-42f2-a1e3-c4c5ad3c1309 button.colab-df-quickchart');\n",
              "  quickchartButtonEl.style.display =\n",
              "    google.colab.kernel.accessAllowed ? 'block' : 'none';\n",
              "}\n",
              "\n",
              "        displayQuickchartButton(document);\n",
              "      </script>\n",
              "      <style>\n",
              "    .colab-df-container {\n",
              "      display:flex;\n",
              "      flex-wrap:wrap;\n",
              "      gap: 12px;\n",
              "    }\n",
              "\n",
              "    .colab-df-convert {\n",
              "      background-color: #E8F0FE;\n",
              "      border: none;\n",
              "      border-radius: 50%;\n",
              "      cursor: pointer;\n",
              "      display: none;\n",
              "      fill: #1967D2;\n",
              "      height: 32px;\n",
              "      padding: 0 0 0 0;\n",
              "      width: 32px;\n",
              "    }\n",
              "\n",
              "    .colab-df-convert:hover {\n",
              "      background-color: #E2EBFA;\n",
              "      box-shadow: 0px 1px 2px rgba(60, 64, 67, 0.3), 0px 1px 3px 1px rgba(60, 64, 67, 0.15);\n",
              "      fill: #174EA6;\n",
              "    }\n",
              "\n",
              "    [theme=dark] .colab-df-convert {\n",
              "      background-color: #3B4455;\n",
              "      fill: #D2E3FC;\n",
              "    }\n",
              "\n",
              "    [theme=dark] .colab-df-convert:hover {\n",
              "      background-color: #434B5C;\n",
              "      box-shadow: 0px 1px 3px 1px rgba(0, 0, 0, 0.15);\n",
              "      filter: drop-shadow(0px 1px 2px rgba(0, 0, 0, 0.3));\n",
              "      fill: #FFFFFF;\n",
              "    }\n",
              "  </style>\n",
              "\n",
              "      <script>\n",
              "        const buttonEl =\n",
              "          document.querySelector('#df-80f1a3aa-d22e-4d74-ad06-23b1b0b80b36 button.colab-df-convert');\n",
              "        buttonEl.style.display =\n",
              "          google.colab.kernel.accessAllowed ? 'block' : 'none';\n",
              "\n",
              "        async function convertToInteractive(key) {\n",
              "          const element = document.querySelector('#df-80f1a3aa-d22e-4d74-ad06-23b1b0b80b36');\n",
              "          const dataTable =\n",
              "            await google.colab.kernel.invokeFunction('convertToInteractive',\n",
              "                                                     [key], {});\n",
              "          if (!dataTable) return;\n",
              "\n",
              "          const docLinkHtml = 'Like what you see? Visit the ' +\n",
              "            '<a target=\"_blank\" href=https://colab.research.google.com/notebooks/data_table.ipynb>data table notebook</a>'\n",
              "            + ' to learn more about interactive tables.';\n",
              "          element.innerHTML = '';\n",
              "          dataTable['output_type'] = 'display_data';\n",
              "          await google.colab.output.renderOutput(dataTable, element);\n",
              "          const docLink = document.createElement('div');\n",
              "          docLink.innerHTML = docLinkHtml;\n",
              "          element.appendChild(docLink);\n",
              "        }\n",
              "      </script>\n",
              "    </div>\n",
              "  </div>\n"
            ],
            "text/plain": [
              "   app_id                                       app_name  \\\n",
              "0  221100                                           DayZ   \n",
              "1  322330                          Don't Starve Together   \n",
              "2  272060                                         Serena   \n",
              "3  298160                                        Eldevin   \n",
              "4  113400                                   APB Reloaded   \n",
              "5    8800  Sid Meier's Civilization IV: Beyond the Sword   \n",
              "6  433850                               Z1 Battle Royale   \n",
              "7  289650                         Assassin's Creed Unity   \n",
              "8  238090                                 Sniper Elite 3   \n",
              "9  223710                                    Cry of Fear   \n",
              "\n",
              "                                         review_text  review_score  \\\n",
              "0                                Early Access Review             1   \n",
              "1                                Early Access Review            -1   \n",
              "2                      it has only one pop up scare              1   \n",
              "3  I Really Like The Game!!! Thumbs Up For Sure, ...             1   \n",
              "4  I played this when it was in beta even though ...             1   \n",
              "5  My favourite game of all time...! The expansio...             1   \n",
              "6                                Early Access Review            -1   \n",
              "7  It is a big failure but i am still hoping that...            -1   \n",
              "8                          i want to back this game              1   \n",
              "9  ♥♥♥♥ you ♥♥♥♥ing nigs go eat juice box cans, ♥...             1   \n",
              "\n",
              "   review_votes  \n",
              "0             0  \n",
              "1             1  \n",
              "2             0  \n",
              "3             0  \n",
              "4             0  \n",
              "5             0  \n",
              "6             0  \n",
              "7             0  \n",
              "8             1  \n",
              "9             0  "
            ]
          },
          "execution_count": 6,
          "metadata": {},
          "output_type": "execute_result"
        }
      ],
      "source": [
        "# look at some rows\n",
        "df.head(10)"
      ],
      "id": "7e6e03f5"
    },
    {
      "cell_type": "markdown",
      "metadata": {
        "id": "283cd61f"
      },
      "source": [
        "# Exploratory Data Analysis"
      ],
      "id": "283cd61f"
    },
    {
      "cell_type": "markdown",
      "metadata": {
        "id": "XxTO4ZRjJf59"
      },
      "source": [
        "CONSIDERATION:\n",
        "- Dataset contain:\n",
        "   - imbalance classes => eventually handle using sampling strategy\n",
        "   - duplicate review => delete them\n",
        "   - null rows => delete them\n"
      ],
      "id": "XxTO4ZRjJf59"
    },
    {
      "cell_type": "code",
      "execution_count": null,
      "metadata": {
        "colab": {
          "base_uri": "https://localhost:8080/"
        },
        "id": "1b9xMc-DQZQP",
        "outputId": "49c3c495-8e8e-4726-a11b-d51a0ac69a23"
      },
      "outputs": [
        {
          "data": {
            "text/plain": [
              "(100000, 5)"
            ]
          },
          "execution_count": 9,
          "metadata": {},
          "output_type": "execute_result"
        }
      ],
      "source": [
        "# check if the shape of the Dataset is as expected\n",
        "df.shape"
      ],
      "id": "1b9xMc-DQZQP"
    },
    {
      "cell_type": "code",
      "execution_count": null,
      "metadata": {
        "id": "05bd261c"
      },
      "outputs": [],
      "source": [
        "# Shuffle the dataset\n",
        "df = df.sample(frac=1, random_state=42)"
      ],
      "id": "05bd261c"
    },
    {
      "cell_type": "code",
      "execution_count": null,
      "metadata": {
        "colab": {
          "base_uri": "https://localhost:8080/",
          "height": 206
        },
        "id": "7326dd7a",
        "outputId": "c4ab8583-4d5e-477a-c854-aa07501fdb0c"
      },
      "outputs": [
        {
          "data": {
            "text/html": [
              "\n",
              "\n",
              "  <div id=\"df-9f6d1400-2061-4e50-8373-765bd35b567c\">\n",
              "    <div class=\"colab-df-container\">\n",
              "      <div>\n",
              "<style scoped>\n",
              "    .dataframe tbody tr th:only-of-type {\n",
              "        vertical-align: middle;\n",
              "    }\n",
              "\n",
              "    .dataframe tbody tr th {\n",
              "        vertical-align: top;\n",
              "    }\n",
              "\n",
              "    .dataframe thead th {\n",
              "        text-align: right;\n",
              "    }\n",
              "</style>\n",
              "<table border=\"1\" class=\"dataframe\">\n",
              "  <thead>\n",
              "    <tr style=\"text-align: right;\">\n",
              "      <th></th>\n",
              "      <th>app_id</th>\n",
              "      <th>app_name</th>\n",
              "      <th>review_text</th>\n",
              "      <th>review_score</th>\n",
              "      <th>review_votes</th>\n",
              "    </tr>\n",
              "  </thead>\n",
              "  <tbody>\n",
              "    <tr>\n",
              "      <th>75721</th>\n",
              "      <td>496810</td>\n",
              "      <td>MegaTagmension Blanc + Neptune VS Zombies</td>\n",
              "      <td>I'm Nep fans, I see it, I like it. . .  This i...</td>\n",
              "      <td>1</td>\n",
              "      <td>0</td>\n",
              "    </tr>\n",
              "    <tr>\n",
              "      <th>80184</th>\n",
              "      <td>426790</td>\n",
              "      <td>Grow Up</td>\n",
              "      <td>Actual game time 1 hour. Finding final ♥♥♥♥ing...</td>\n",
              "      <td>1</td>\n",
              "      <td>0</td>\n",
              "    </tr>\n",
              "    <tr>\n",
              "      <th>19864</th>\n",
              "      <td>448280</td>\n",
              "      <td>Job Simulator</td>\n",
              "      <td>This game isn't bad. It's just that it feels l...</td>\n",
              "      <td>-1</td>\n",
              "      <td>0</td>\n",
              "    </tr>\n",
              "    <tr>\n",
              "      <th>76699</th>\n",
              "      <td>8870</td>\n",
              "      <td>BioShock Infinite</td>\n",
              "      <td>pretty good game</td>\n",
              "      <td>1</td>\n",
              "      <td>0</td>\n",
              "    </tr>\n",
              "    <tr>\n",
              "      <th>92991</th>\n",
              "      <td>253330</td>\n",
              "      <td>Neverending Nightmares</td>\n",
              "      <td>Good, scary &amp;amp; artistic but Short too :-/</td>\n",
              "      <td>1</td>\n",
              "      <td>0</td>\n",
              "    </tr>\n",
              "  </tbody>\n",
              "</table>\n",
              "</div>\n",
              "      <button class=\"colab-df-convert\" onclick=\"convertToInteractive('df-9f6d1400-2061-4e50-8373-765bd35b567c')\"\n",
              "              title=\"Convert this dataframe to an interactive table.\"\n",
              "              style=\"display:none;\">\n",
              "\n",
              "  <svg xmlns=\"http://www.w3.org/2000/svg\" height=\"24px\"viewBox=\"0 0 24 24\"\n",
              "       width=\"24px\">\n",
              "    <path d=\"M0 0h24v24H0V0z\" fill=\"none\"/>\n",
              "    <path d=\"M18.56 5.44l.94 2.06.94-2.06 2.06-.94-2.06-.94-.94-2.06-.94 2.06-2.06.94zm-11 1L8.5 8.5l.94-2.06 2.06-.94-2.06-.94L8.5 2.5l-.94 2.06-2.06.94zm10 10l.94 2.06.94-2.06 2.06-.94-2.06-.94-.94-2.06-.94 2.06-2.06.94z\"/><path d=\"M17.41 7.96l-1.37-1.37c-.4-.4-.92-.59-1.43-.59-.52 0-1.04.2-1.43.59L10.3 9.45l-7.72 7.72c-.78.78-.78 2.05 0 2.83L4 21.41c.39.39.9.59 1.41.59.51 0 1.02-.2 1.41-.59l7.78-7.78 2.81-2.81c.8-.78.8-2.07 0-2.86zM5.41 20L4 18.59l7.72-7.72 1.47 1.35L5.41 20z\"/>\n",
              "  </svg>\n",
              "      </button>\n",
              "\n",
              "\n",
              "\n",
              "    <div id=\"df-c0b9024b-f392-40f0-8815-fa9517268c60\">\n",
              "      <button class=\"colab-df-quickchart\" onclick=\"quickchart('df-c0b9024b-f392-40f0-8815-fa9517268c60')\"\n",
              "              title=\"Suggest charts.\"\n",
              "              style=\"display:none;\">\n",
              "\n",
              "<svg xmlns=\"http://www.w3.org/2000/svg\" height=\"24px\"viewBox=\"0 0 24 24\"\n",
              "     width=\"24px\">\n",
              "    <g>\n",
              "        <path d=\"M19 3H5c-1.1 0-2 .9-2 2v14c0 1.1.9 2 2 2h14c1.1 0 2-.9 2-2V5c0-1.1-.9-2-2-2zM9 17H7v-7h2v7zm4 0h-2V7h2v10zm4 0h-2v-4h2v4z\"/>\n",
              "    </g>\n",
              "</svg>\n",
              "      </button>\n",
              "    </div>\n",
              "\n",
              "<style>\n",
              "  .colab-df-quickchart {\n",
              "    background-color: #E8F0FE;\n",
              "    border: none;\n",
              "    border-radius: 50%;\n",
              "    cursor: pointer;\n",
              "    display: none;\n",
              "    fill: #1967D2;\n",
              "    height: 32px;\n",
              "    padding: 0 0 0 0;\n",
              "    width: 32px;\n",
              "  }\n",
              "\n",
              "  .colab-df-quickchart:hover {\n",
              "    background-color: #E2EBFA;\n",
              "    box-shadow: 0px 1px 2px rgba(60, 64, 67, 0.3), 0px 1px 3px 1px rgba(60, 64, 67, 0.15);\n",
              "    fill: #174EA6;\n",
              "  }\n",
              "\n",
              "  [theme=dark] .colab-df-quickchart {\n",
              "    background-color: #3B4455;\n",
              "    fill: #D2E3FC;\n",
              "  }\n",
              "\n",
              "  [theme=dark] .colab-df-quickchart:hover {\n",
              "    background-color: #434B5C;\n",
              "    box-shadow: 0px 1px 3px 1px rgba(0, 0, 0, 0.15);\n",
              "    filter: drop-shadow(0px 1px 2px rgba(0, 0, 0, 0.3));\n",
              "    fill: #FFFFFF;\n",
              "  }\n",
              "</style>\n",
              "\n",
              "    <script>\n",
              "      async function quickchart(key) {\n",
              "        const containerElement = document.querySelector('#' + key);\n",
              "        const charts = await google.colab.kernel.invokeFunction(\n",
              "            'suggestCharts', [key], {});\n",
              "      }\n",
              "    </script>\n",
              "\n",
              "      <script>\n",
              "\n",
              "function displayQuickchartButton(domScope) {\n",
              "  let quickchartButtonEl =\n",
              "    domScope.querySelector('#df-c0b9024b-f392-40f0-8815-fa9517268c60 button.colab-df-quickchart');\n",
              "  quickchartButtonEl.style.display =\n",
              "    google.colab.kernel.accessAllowed ? 'block' : 'none';\n",
              "}\n",
              "\n",
              "        displayQuickchartButton(document);\n",
              "      </script>\n",
              "      <style>\n",
              "    .colab-df-container {\n",
              "      display:flex;\n",
              "      flex-wrap:wrap;\n",
              "      gap: 12px;\n",
              "    }\n",
              "\n",
              "    .colab-df-convert {\n",
              "      background-color: #E8F0FE;\n",
              "      border: none;\n",
              "      border-radius: 50%;\n",
              "      cursor: pointer;\n",
              "      display: none;\n",
              "      fill: #1967D2;\n",
              "      height: 32px;\n",
              "      padding: 0 0 0 0;\n",
              "      width: 32px;\n",
              "    }\n",
              "\n",
              "    .colab-df-convert:hover {\n",
              "      background-color: #E2EBFA;\n",
              "      box-shadow: 0px 1px 2px rgba(60, 64, 67, 0.3), 0px 1px 3px 1px rgba(60, 64, 67, 0.15);\n",
              "      fill: #174EA6;\n",
              "    }\n",
              "\n",
              "    [theme=dark] .colab-df-convert {\n",
              "      background-color: #3B4455;\n",
              "      fill: #D2E3FC;\n",
              "    }\n",
              "\n",
              "    [theme=dark] .colab-df-convert:hover {\n",
              "      background-color: #434B5C;\n",
              "      box-shadow: 0px 1px 3px 1px rgba(0, 0, 0, 0.15);\n",
              "      filter: drop-shadow(0px 1px 2px rgba(0, 0, 0, 0.3));\n",
              "      fill: #FFFFFF;\n",
              "    }\n",
              "  </style>\n",
              "\n",
              "      <script>\n",
              "        const buttonEl =\n",
              "          document.querySelector('#df-9f6d1400-2061-4e50-8373-765bd35b567c button.colab-df-convert');\n",
              "        buttonEl.style.display =\n",
              "          google.colab.kernel.accessAllowed ? 'block' : 'none';\n",
              "\n",
              "        async function convertToInteractive(key) {\n",
              "          const element = document.querySelector('#df-9f6d1400-2061-4e50-8373-765bd35b567c');\n",
              "          const dataTable =\n",
              "            await google.colab.kernel.invokeFunction('convertToInteractive',\n",
              "                                                     [key], {});\n",
              "          if (!dataTable) return;\n",
              "\n",
              "          const docLinkHtml = 'Like what you see? Visit the ' +\n",
              "            '<a target=\"_blank\" href=https://colab.research.google.com/notebooks/data_table.ipynb>data table notebook</a>'\n",
              "            + ' to learn more about interactive tables.';\n",
              "          element.innerHTML = '';\n",
              "          dataTable['output_type'] = 'display_data';\n",
              "          await google.colab.output.renderOutput(dataTable, element);\n",
              "          const docLink = document.createElement('div');\n",
              "          docLink.innerHTML = docLinkHtml;\n",
              "          element.appendChild(docLink);\n",
              "        }\n",
              "      </script>\n",
              "    </div>\n",
              "  </div>\n"
            ],
            "text/plain": [
              "       app_id                                   app_name  \\\n",
              "75721  496810  MegaTagmension Blanc + Neptune VS Zombies   \n",
              "80184  426790                                    Grow Up   \n",
              "19864  448280                              Job Simulator   \n",
              "76699    8870                          BioShock Infinite   \n",
              "92991  253330                     Neverending Nightmares   \n",
              "\n",
              "                                             review_text  review_score  \\\n",
              "75721  I'm Nep fans, I see it, I like it. . .  This i...             1   \n",
              "80184  Actual game time 1 hour. Finding final ♥♥♥♥ing...             1   \n",
              "19864  This game isn't bad. It's just that it feels l...            -1   \n",
              "76699                                   pretty good game             1   \n",
              "92991       Good, scary &amp; artistic but Short too :-/             1   \n",
              "\n",
              "       review_votes  \n",
              "75721             0  \n",
              "80184             0  \n",
              "19864             0  \n",
              "76699             0  \n",
              "92991             0  "
            ]
          },
          "execution_count": 11,
          "metadata": {},
          "output_type": "execute_result"
        }
      ],
      "source": [
        "\n",
        "df.head()"
      ],
      "id": "7326dd7a"
    },
    {
      "cell_type": "code",
      "execution_count": null,
      "metadata": {
        "colab": {
          "base_uri": "https://localhost:8080/",
          "height": 206
        },
        "id": "KD8EytEmQgTU",
        "outputId": "8c31e665-ef57-4a6b-a7c7-85722ab655d0"
      },
      "outputs": [
        {
          "data": {
            "text/html": [
              "\n",
              "\n",
              "  <div id=\"df-11e28843-7979-435c-99c7-ea1ede858b02\">\n",
              "    <div class=\"colab-df-container\">\n",
              "      <div>\n",
              "<style scoped>\n",
              "    .dataframe tbody tr th:only-of-type {\n",
              "        vertical-align: middle;\n",
              "    }\n",
              "\n",
              "    .dataframe tbody tr th {\n",
              "        vertical-align: top;\n",
              "    }\n",
              "\n",
              "    .dataframe thead th {\n",
              "        text-align: right;\n",
              "    }\n",
              "</style>\n",
              "<table border=\"1\" class=\"dataframe\">\n",
              "  <thead>\n",
              "    <tr style=\"text-align: right;\">\n",
              "      <th></th>\n",
              "      <th>app_id</th>\n",
              "      <th>app_name</th>\n",
              "      <th>review_text</th>\n",
              "      <th>review_score</th>\n",
              "      <th>review_votes</th>\n",
              "    </tr>\n",
              "  </thead>\n",
              "  <tbody>\n",
              "    <tr>\n",
              "      <th>6265</th>\n",
              "      <td>4500</td>\n",
              "      <td>S.T.A.L.K.E.R.: Shadow of Chernobyl</td>\n",
              "      <td>UPDATED After playing this game for a few more...</td>\n",
              "      <td>1</td>\n",
              "      <td>0</td>\n",
              "    </tr>\n",
              "    <tr>\n",
              "      <th>54886</th>\n",
              "      <td>218230</td>\n",
              "      <td>PlanetSide 2</td>\n",
              "      <td>Planetside 2 is a good game in my opinion, but...</td>\n",
              "      <td>1</td>\n",
              "      <td>0</td>\n",
              "    </tr>\n",
              "    <tr>\n",
              "      <th>76820</th>\n",
              "      <td>57300</td>\n",
              "      <td>Amnesia: The Dark Descent</td>\n",
              "      <td>One of the best horror games I have ever playe...</td>\n",
              "      <td>1</td>\n",
              "      <td>0</td>\n",
              "    </tr>\n",
              "    <tr>\n",
              "      <th>860</th>\n",
              "      <td>4000</td>\n",
              "      <td>Garry's Mod</td>\n",
              "      <td>this game is absolutely abysmal because the ma...</td>\n",
              "      <td>-1</td>\n",
              "      <td>0</td>\n",
              "    </tr>\n",
              "    <tr>\n",
              "      <th>15795</th>\n",
              "      <td>57740</td>\n",
              "      <td>Jagged Alliance - Back in Action</td>\n",
              "      <td>Especially from version 1.13 on this game brin...</td>\n",
              "      <td>1</td>\n",
              "      <td>0</td>\n",
              "    </tr>\n",
              "  </tbody>\n",
              "</table>\n",
              "</div>\n",
              "      <button class=\"colab-df-convert\" onclick=\"convertToInteractive('df-11e28843-7979-435c-99c7-ea1ede858b02')\"\n",
              "              title=\"Convert this dataframe to an interactive table.\"\n",
              "              style=\"display:none;\">\n",
              "\n",
              "  <svg xmlns=\"http://www.w3.org/2000/svg\" height=\"24px\"viewBox=\"0 0 24 24\"\n",
              "       width=\"24px\">\n",
              "    <path d=\"M0 0h24v24H0V0z\" fill=\"none\"/>\n",
              "    <path d=\"M18.56 5.44l.94 2.06.94-2.06 2.06-.94-2.06-.94-.94-2.06-.94 2.06-2.06.94zm-11 1L8.5 8.5l.94-2.06 2.06-.94-2.06-.94L8.5 2.5l-.94 2.06-2.06.94zm10 10l.94 2.06.94-2.06 2.06-.94-2.06-.94-.94-2.06-.94 2.06-2.06.94z\"/><path d=\"M17.41 7.96l-1.37-1.37c-.4-.4-.92-.59-1.43-.59-.52 0-1.04.2-1.43.59L10.3 9.45l-7.72 7.72c-.78.78-.78 2.05 0 2.83L4 21.41c.39.39.9.59 1.41.59.51 0 1.02-.2 1.41-.59l7.78-7.78 2.81-2.81c.8-.78.8-2.07 0-2.86zM5.41 20L4 18.59l7.72-7.72 1.47 1.35L5.41 20z\"/>\n",
              "  </svg>\n",
              "      </button>\n",
              "\n",
              "\n",
              "\n",
              "    <div id=\"df-f0945ba6-b150-40dd-ab33-9a2144f394a9\">\n",
              "      <button class=\"colab-df-quickchart\" onclick=\"quickchart('df-f0945ba6-b150-40dd-ab33-9a2144f394a9')\"\n",
              "              title=\"Suggest charts.\"\n",
              "              style=\"display:none;\">\n",
              "\n",
              "<svg xmlns=\"http://www.w3.org/2000/svg\" height=\"24px\"viewBox=\"0 0 24 24\"\n",
              "     width=\"24px\">\n",
              "    <g>\n",
              "        <path d=\"M19 3H5c-1.1 0-2 .9-2 2v14c0 1.1.9 2 2 2h14c1.1 0 2-.9 2-2V5c0-1.1-.9-2-2-2zM9 17H7v-7h2v7zm4 0h-2V7h2v10zm4 0h-2v-4h2v4z\"/>\n",
              "    </g>\n",
              "</svg>\n",
              "      </button>\n",
              "    </div>\n",
              "\n",
              "<style>\n",
              "  .colab-df-quickchart {\n",
              "    background-color: #E8F0FE;\n",
              "    border: none;\n",
              "    border-radius: 50%;\n",
              "    cursor: pointer;\n",
              "    display: none;\n",
              "    fill: #1967D2;\n",
              "    height: 32px;\n",
              "    padding: 0 0 0 0;\n",
              "    width: 32px;\n",
              "  }\n",
              "\n",
              "  .colab-df-quickchart:hover {\n",
              "    background-color: #E2EBFA;\n",
              "    box-shadow: 0px 1px 2px rgba(60, 64, 67, 0.3), 0px 1px 3px 1px rgba(60, 64, 67, 0.15);\n",
              "    fill: #174EA6;\n",
              "  }\n",
              "\n",
              "  [theme=dark] .colab-df-quickchart {\n",
              "    background-color: #3B4455;\n",
              "    fill: #D2E3FC;\n",
              "  }\n",
              "\n",
              "  [theme=dark] .colab-df-quickchart:hover {\n",
              "    background-color: #434B5C;\n",
              "    box-shadow: 0px 1px 3px 1px rgba(0, 0, 0, 0.15);\n",
              "    filter: drop-shadow(0px 1px 2px rgba(0, 0, 0, 0.3));\n",
              "    fill: #FFFFFF;\n",
              "  }\n",
              "</style>\n",
              "\n",
              "    <script>\n",
              "      async function quickchart(key) {\n",
              "        const containerElement = document.querySelector('#' + key);\n",
              "        const charts = await google.colab.kernel.invokeFunction(\n",
              "            'suggestCharts', [key], {});\n",
              "      }\n",
              "    </script>\n",
              "\n",
              "      <script>\n",
              "\n",
              "function displayQuickchartButton(domScope) {\n",
              "  let quickchartButtonEl =\n",
              "    domScope.querySelector('#df-f0945ba6-b150-40dd-ab33-9a2144f394a9 button.colab-df-quickchart');\n",
              "  quickchartButtonEl.style.display =\n",
              "    google.colab.kernel.accessAllowed ? 'block' : 'none';\n",
              "}\n",
              "\n",
              "        displayQuickchartButton(document);\n",
              "      </script>\n",
              "      <style>\n",
              "    .colab-df-container {\n",
              "      display:flex;\n",
              "      flex-wrap:wrap;\n",
              "      gap: 12px;\n",
              "    }\n",
              "\n",
              "    .colab-df-convert {\n",
              "      background-color: #E8F0FE;\n",
              "      border: none;\n",
              "      border-radius: 50%;\n",
              "      cursor: pointer;\n",
              "      display: none;\n",
              "      fill: #1967D2;\n",
              "      height: 32px;\n",
              "      padding: 0 0 0 0;\n",
              "      width: 32px;\n",
              "    }\n",
              "\n",
              "    .colab-df-convert:hover {\n",
              "      background-color: #E2EBFA;\n",
              "      box-shadow: 0px 1px 2px rgba(60, 64, 67, 0.3), 0px 1px 3px 1px rgba(60, 64, 67, 0.15);\n",
              "      fill: #174EA6;\n",
              "    }\n",
              "\n",
              "    [theme=dark] .colab-df-convert {\n",
              "      background-color: #3B4455;\n",
              "      fill: #D2E3FC;\n",
              "    }\n",
              "\n",
              "    [theme=dark] .colab-df-convert:hover {\n",
              "      background-color: #434B5C;\n",
              "      box-shadow: 0px 1px 3px 1px rgba(0, 0, 0, 0.15);\n",
              "      filter: drop-shadow(0px 1px 2px rgba(0, 0, 0, 0.3));\n",
              "      fill: #FFFFFF;\n",
              "    }\n",
              "  </style>\n",
              "\n",
              "      <script>\n",
              "        const buttonEl =\n",
              "          document.querySelector('#df-11e28843-7979-435c-99c7-ea1ede858b02 button.colab-df-convert');\n",
              "        buttonEl.style.display =\n",
              "          google.colab.kernel.accessAllowed ? 'block' : 'none';\n",
              "\n",
              "        async function convertToInteractive(key) {\n",
              "          const element = document.querySelector('#df-11e28843-7979-435c-99c7-ea1ede858b02');\n",
              "          const dataTable =\n",
              "            await google.colab.kernel.invokeFunction('convertToInteractive',\n",
              "                                                     [key], {});\n",
              "          if (!dataTable) return;\n",
              "\n",
              "          const docLinkHtml = 'Like what you see? Visit the ' +\n",
              "            '<a target=\"_blank\" href=https://colab.research.google.com/notebooks/data_table.ipynb>data table notebook</a>'\n",
              "            + ' to learn more about interactive tables.';\n",
              "          element.innerHTML = '';\n",
              "          dataTable['output_type'] = 'display_data';\n",
              "          await google.colab.output.renderOutput(dataTable, element);\n",
              "          const docLink = document.createElement('div');\n",
              "          docLink.innerHTML = docLinkHtml;\n",
              "          element.appendChild(docLink);\n",
              "        }\n",
              "      </script>\n",
              "    </div>\n",
              "  </div>\n"
            ],
            "text/plain": [
              "       app_id                             app_name  \\\n",
              "6265     4500  S.T.A.L.K.E.R.: Shadow of Chernobyl   \n",
              "54886  218230                         PlanetSide 2   \n",
              "76820   57300            Amnesia: The Dark Descent   \n",
              "860      4000                          Garry's Mod   \n",
              "15795   57740     Jagged Alliance - Back in Action   \n",
              "\n",
              "                                             review_text  review_score  \\\n",
              "6265   UPDATED After playing this game for a few more...             1   \n",
              "54886  Planetside 2 is a good game in my opinion, but...             1   \n",
              "76820  One of the best horror games I have ever playe...             1   \n",
              "860    this game is absolutely abysmal because the ma...            -1   \n",
              "15795  Especially from version 1.13 on this game brin...             1   \n",
              "\n",
              "       review_votes  \n",
              "6265              0  \n",
              "54886             0  \n",
              "76820             0  \n",
              "860               0  \n",
              "15795             0  "
            ]
          },
          "execution_count": 12,
          "metadata": {},
          "output_type": "execute_result"
        }
      ],
      "source": [
        "df.tail()"
      ],
      "id": "KD8EytEmQgTU"
    },
    {
      "cell_type": "code",
      "execution_count": null,
      "metadata": {
        "id": "015c5e36"
      },
      "outputs": [],
      "source": [
        "# Maintain only the relevant colums (reviews and sentient)\n",
        "df = df[['review_text', 'review_score']]"
      ],
      "id": "015c5e36"
    },
    {
      "cell_type": "code",
      "execution_count": null,
      "metadata": {
        "colab": {
          "base_uri": "https://localhost:8080/"
        },
        "id": "PW7K8GdBQtTg",
        "outputId": "b1dcf528-d81b-4e00-dcab-e55741a14b03"
      },
      "outputs": [
        {
          "name": "stdout",
          "output_type": "stream",
          "text": [
            "<class 'pandas.core.frame.DataFrame'>\n",
            "Int64Index: 100000 entries, 75721 to 15795\n",
            "Data columns (total 2 columns):\n",
            " #   Column        Non-Null Count   Dtype \n",
            "---  ------        --------------   ----- \n",
            " 0   review_text   99867 non-null   object\n",
            " 1   review_score  100000 non-null  int64 \n",
            "dtypes: int64(1), object(1)\n",
            "memory usage: 2.3+ MB\n"
          ]
        }
      ],
      "source": [
        "# check for missing value\n",
        "df.info()"
      ],
      "id": "PW7K8GdBQtTg"
    },
    {
      "cell_type": "code",
      "execution_count": null,
      "metadata": {
        "id": "2698b1ca"
      },
      "outputs": [],
      "source": [
        "# percentage missing values\n",
        "df.isnull().sum(axis=0)/df.shape[0]\n",
        "\n",
        "# Drop null rows\n",
        "df.dropna(inplace = True)"
      ],
      "id": "2698b1ca"
    },
    {
      "cell_type": "code",
      "execution_count": null,
      "metadata": {
        "colab": {
          "base_uri": "https://localhost:8080/"
        },
        "id": "c75c1ed3",
        "outputId": "e7ade68c-ee36-42c5-8e5c-111c7e999763"
      },
      "outputs": [
        {
          "data": {
            "text/plain": [
              "(99867, 2)"
            ]
          },
          "execution_count": 16,
          "metadata": {},
          "output_type": "execute_result"
        }
      ],
      "source": [
        "# check new shape\n",
        "df.shape"
      ],
      "id": "c75c1ed3"
    },
    {
      "cell_type": "code",
      "execution_count": null,
      "metadata": {
        "id": "4efeb606"
      },
      "outputs": [],
      "source": [
        "# eliminate duplicate reviews\n",
        "df.drop_duplicates(inplace=True)"
      ],
      "id": "4efeb606"
    },
    {
      "cell_type": "code",
      "execution_count": null,
      "metadata": {
        "colab": {
          "base_uri": "https://localhost:8080/"
        },
        "id": "k_mS2e1fE9bg",
        "outputId": "7537dd06-58e7-4a4b-c921-fd4d444b4d83"
      },
      "outputs": [
        {
          "data": {
            "text/plain": [
              "(82281, 2)"
            ]
          },
          "execution_count": 18,
          "metadata": {},
          "output_type": "execute_result"
        }
      ],
      "source": [
        "df.shape"
      ],
      "id": "k_mS2e1fE9bg"
    },
    {
      "cell_type": "code",
      "execution_count": null,
      "metadata": {
        "colab": {
          "base_uri": "https://localhost:8080/"
        },
        "id": "096a99d5",
        "outputId": "498db937-5a0c-4427-86e2-1f6e49bae377"
      },
      "outputs": [
        {
          "name": "stdout",
          "output_type": "stream",
          "text": [
            "Positive Review: 15140    THIS GAME IS AMAZING\n",
            "11586            Recommended!\n",
            "Name: review_text, dtype: object\n",
            "------\n",
            "Negative Review: 16572    to buggy unbarable to play cant belive i spent...\n",
            "49501                    Most worst game ever i've played.\n",
            "Name: review_text, dtype: object\n"
          ]
        }
      ],
      "source": [
        "# Visualize Some example of positive and negative review to understand better the data\n",
        "\n",
        "# Separete positive and negative sentiment\n",
        "positive_reviews = df[df['review_score'] == 1]\n",
        "negative_reviews = df[df['review_score'] == -1]\n",
        "\n",
        "# Select two random positive reviews\n",
        "random_positive_reviews = positive_reviews.sample(n=2, random_state=42)\n",
        "\n",
        "# Select two random negative reviews\n",
        "random_negative_reviews = negative_reviews.sample(n=2, random_state=42)\n",
        "\n",
        "print(\"Positive Review:\", random_positive_reviews[\"review_text\"])\n",
        "print(\"------\")\n",
        "print(\"Negative Review:\", random_negative_reviews[\"review_text\"])"
      ],
      "id": "096a99d5"
    },
    {
      "cell_type": "markdown",
      "metadata": {
        "id": "UY7bkYKEJPdc"
      },
      "source": [
        "- Check if dataset presents imbalance classes"
      ],
      "id": "UY7bkYKEJPdc"
    },
    {
      "cell_type": "code",
      "execution_count": null,
      "metadata": {
        "colab": {
          "base_uri": "https://localhost:8080/",
          "height": 472
        },
        "id": "10283469",
        "outputId": "ca6389c4-e5ef-4880-8e4d-9a391ab48149"
      },
      "outputs": [
        {
          "data": {
            "image/png": "[encoded data removed]",
            "text/plain": [
              "<Figure size 640x480 with 1 Axes>"
            ]
          },
          "metadata": {},
          "output_type": "display_data"
        }
      ],
      "source": [
        "# Check if dataset presents imbalance classes\n",
        "\n",
        "# Visualize histograms for positive and negative sentiment\n",
        "plt.hist(positive_reviews['review_score'], bins=2, edgecolor='black', color='green', label='Positive')\n",
        "plt.hist(negative_reviews['review_score'], bins=2, edgecolor='black', color='red', label='Negative')\n",
        "\n",
        "# title for the histogram\n",
        "plt.xlabel('Review Score')\n",
        "plt.ylabel('Frequency')\n",
        "plt.title('Histogram of Review Scores by Sentiment')\n",
        "\n",
        "# legend\n",
        "plt.legend()\n",
        "\n",
        "# percentage of positive and negative sentiment\n",
        "total_count = len(df['review_score'])\n",
        "positive_percentage = len(positive_reviews) / total_count * 100\n",
        "negative_percentage = len(negative_reviews) / total_count * 100\n",
        "\n",
        "# Add percentage text annotations to the plot\n",
        "plt.text(0.5, max(plt.ylim()) * 0.9, f'Positive: {positive_percentage:.2f}%', ha='center')\n",
        "plt.text(0.5, max(plt.ylim()) * 0.8, f'Negative: {negative_percentage:.2f}%', ha='center')\n",
        "\n",
        "# Add a legend to differentiate positive and negative sentiment\n",
        "plt.legend()\n",
        "\n",
        "# Display the histogram\n",
        "plt.show()"
      ],
      "id": "10283469"
    },
    {
      "cell_type": "markdown",
      "metadata": {
        "id": "_OEJ00VZVw7Z"
      },
      "source": [
        "- WordCloud of Review"
      ],
      "id": "_OEJ00VZVw7Z"
    },
    {
      "cell_type": "code",
      "execution_count": null,
      "metadata": {
        "colab": {
          "base_uri": "https://localhost:8080/",
          "height": 721
        },
        "id": "8e53b262",
        "outputId": "94c1573e-1b01-4487-86c1-ec76f7b67735"
      },
      "outputs": [
        {
          "data": {
            "image/png": "[encoded data removed]",
            "text/plain": [
              "<Figure size 800x600 with 1 Axes>"
            ]
          },
          "metadata": {},
          "output_type": "display_data"
        },
        {
          "data": {
            "image/png": "[encoded data removed]",
            "text/plain": [
              "<Figure size 800x600 with 1 Axes>"
            ]
          },
          "metadata": {},
          "output_type": "display_data"
        }
      ],
      "source": [
        "# Reference: 1) (in section 'Reference')\n",
        "\n",
        "# sample size\n",
        "sample_size = 20\n",
        "\n",
        "# Randomly select a sample of positive reviews\n",
        "positive_reviews_sample =positive_reviews['review_text'].sample(n=sample_size, random_state=42)\n",
        "\n",
        "# Randomly select a sample of negative reviews\n",
        "negative_reviews_sample = negative_reviews['review_text'].sample(n=sample_size, random_state=42)\n",
        "\n",
        "# word cloud for positive reviews sample\n",
        "positive_wordcloud = WordCloud().generate(' '.join(positive_reviews_sample))\n",
        "\n",
        "# word cloud for negative reviews sample\n",
        "negative_wordcloud = WordCloud().generate(' '.join(negative_reviews_sample))\n",
        "\n",
        "# Plot the positive word cloud\n",
        "plt.figure(figsize=(8, 6))\n",
        "plt.imshow(positive_wordcloud)\n",
        "plt.title('Word Cloud - Positive Reviews')\n",
        "plt.axis('off')\n",
        "plt.show()\n",
        "\n",
        "# Plot the negative word cloud\n",
        "plt.figure(figsize=(8, 6))\n",
        "plt.imshow(negative_wordcloud, interpolation='bilinear')\n",
        "plt.title('Word Cloud - Negative Reviews')\n",
        "plt.axis('off')\n",
        "plt.show()"
      ],
      "id": "8e53b262"
    },
    {
      "cell_type": "code",
      "execution_count": null,
      "metadata": {
        "id": "4665ebc5"
      },
      "outputs": [],
      "source": [
        "# Rename the columns to 'X' and 'y'\n",
        "df = df.rename(columns={'review_text': 'X', 'review_score': 'y'})\n",
        "\n",
        "# replace -1 with 0\n",
        "df[\"y\"] = df[\"y\"].replace(-1, 0)"
      ],
      "id": "4665ebc5"
    },
    {
      "cell_type": "code",
      "execution_count": null,
      "metadata": {
        "colab": {
          "base_uri": "https://localhost:8080/",
          "height": 206
        },
        "id": "3bbfffb2",
        "outputId": "b24a9ee5-b926-480c-f324-54fbcdd75f53"
      },
      "outputs": [
        {
          "data": {
            "text/html": [
              "\n",
              "\n",
              "  <div id=\"df-2a6bffdd-88ed-4f6f-ac61-1dc5a052c183\">\n",
              "    <div class=\"colab-df-container\">\n",
              "      <div>\n",
              "<style scoped>\n",
              "    .dataframe tbody tr th:only-of-type {\n",
              "        vertical-align: middle;\n",
              "    }\n",
              "\n",
              "    .dataframe tbody tr th {\n",
              "        vertical-align: top;\n",
              "    }\n",
              "\n",
              "    .dataframe thead th {\n",
              "        text-align: right;\n",
              "    }\n",
              "</style>\n",
              "<table border=\"1\" class=\"dataframe\">\n",
              "  <thead>\n",
              "    <tr style=\"text-align: right;\">\n",
              "      <th></th>\n",
              "      <th>X</th>\n",
              "      <th>y</th>\n",
              "    </tr>\n",
              "  </thead>\n",
              "  <tbody>\n",
              "    <tr>\n",
              "      <th>75721</th>\n",
              "      <td>I'm Nep fans, I see it, I like it. . .  This i...</td>\n",
              "      <td>1</td>\n",
              "    </tr>\n",
              "    <tr>\n",
              "      <th>80184</th>\n",
              "      <td>Actual game time 1 hour. Finding final ♥♥♥♥ing...</td>\n",
              "      <td>1</td>\n",
              "    </tr>\n",
              "    <tr>\n",
              "      <th>19864</th>\n",
              "      <td>This game isn't bad. It's just that it feels l...</td>\n",
              "      <td>0</td>\n",
              "    </tr>\n",
              "    <tr>\n",
              "      <th>76699</th>\n",
              "      <td>pretty good game</td>\n",
              "      <td>1</td>\n",
              "    </tr>\n",
              "    <tr>\n",
              "      <th>92991</th>\n",
              "      <td>Good, scary &amp;amp; artistic but Short too :-/</td>\n",
              "      <td>1</td>\n",
              "    </tr>\n",
              "  </tbody>\n",
              "</table>\n",
              "</div>\n",
              "      <button class=\"colab-df-convert\" onclick=\"convertToInteractive('df-2a6bffdd-88ed-4f6f-ac61-1dc5a052c183')\"\n",
              "              title=\"Convert this dataframe to an interactive table.\"\n",
              "              style=\"display:none;\">\n",
              "\n",
              "  <svg xmlns=\"http://www.w3.org/2000/svg\" height=\"24px\"viewBox=\"0 0 24 24\"\n",
              "       width=\"24px\">\n",
              "    <path d=\"M0 0h24v24H0V0z\" fill=\"none\"/>\n",
              "    <path d=\"M18.56 5.44l.94 2.06.94-2.06 2.06-.94-2.06-.94-.94-2.06-.94 2.06-2.06.94zm-11 1L8.5 8.5l.94-2.06 2.06-.94-2.06-.94L8.5 2.5l-.94 2.06-2.06.94zm10 10l.94 2.06.94-2.06 2.06-.94-2.06-.94-.94-2.06-.94 2.06-2.06.94z\"/><path d=\"M17.41 7.96l-1.37-1.37c-.4-.4-.92-.59-1.43-.59-.52 0-1.04.2-1.43.59L10.3 9.45l-7.72 7.72c-.78.78-.78 2.05 0 2.83L4 21.41c.39.39.9.59 1.41.59.51 0 1.02-.2 1.41-.59l7.78-7.78 2.81-2.81c.8-.78.8-2.07 0-2.86zM5.41 20L4 18.59l7.72-7.72 1.47 1.35L5.41 20z\"/>\n",
              "  </svg>\n",
              "      </button>\n",
              "\n",
              "\n",
              "\n",
              "    <div id=\"df-67f842ea-5761-4f25-a9b9-c5553316a601\">\n",
              "      <button class=\"colab-df-quickchart\" onclick=\"quickchart('df-67f842ea-5761-4f25-a9b9-c5553316a601')\"\n",
              "              title=\"Suggest charts.\"\n",
              "              style=\"display:none;\">\n",
              "\n",
              "<svg xmlns=\"http://www.w3.org/2000/svg\" height=\"24px\"viewBox=\"0 0 24 24\"\n",
              "     width=\"24px\">\n",
              "    <g>\n",
              "        <path d=\"M19 3H5c-1.1 0-2 .9-2 2v14c0 1.1.9 2 2 2h14c1.1 0 2-.9 2-2V5c0-1.1-.9-2-2-2zM9 17H7v-7h2v7zm4 0h-2V7h2v10zm4 0h-2v-4h2v4z\"/>\n",
              "    </g>\n",
              "</svg>\n",
              "      </button>\n",
              "    </div>\n",
              "\n",
              "<style>\n",
              "  .colab-df-quickchart {\n",
              "    background-color: #E8F0FE;\n",
              "    border: none;\n",
              "    border-radius: 50%;\n",
              "    cursor: pointer;\n",
              "    display: none;\n",
              "    fill: #1967D2;\n",
              "    height: 32px;\n",
              "    padding: 0 0 0 0;\n",
              "    width: 32px;\n",
              "  }\n",
              "\n",
              "  .colab-df-quickchart:hover {\n",
              "    background-color: #E2EBFA;\n",
              "    box-shadow: 0px 1px 2px rgba(60, 64, 67, 0.3), 0px 1px 3px 1px rgba(60, 64, 67, 0.15);\n",
              "    fill: #174EA6;\n",
              "  }\n",
              "\n",
              "  [theme=dark] .colab-df-quickchart {\n",
              "    background-color: #3B4455;\n",
              "    fill: #D2E3FC;\n",
              "  }\n",
              "\n",
              "  [theme=dark] .colab-df-quickchart:hover {\n",
              "    background-color: #434B5C;\n",
              "    box-shadow: 0px 1px 3px 1px rgba(0, 0, 0, 0.15);\n",
              "    filter: drop-shadow(0px 1px 2px rgba(0, 0, 0, 0.3));\n",
              "    fill: #FFFFFF;\n",
              "  }\n",
              "</style>\n",
              "\n",
              "    <script>\n",
              "      async function quickchart(key) {\n",
              "        const containerElement = document.querySelector('#' + key);\n",
              "        const charts = await google.colab.kernel.invokeFunction(\n",
              "            'suggestCharts', [key], {});\n",
              "      }\n",
              "    </script>\n",
              "\n",
              "      <script>\n",
              "\n",
              "function displayQuickchartButton(domScope) {\n",
              "  let quickchartButtonEl =\n",
              "    domScope.querySelector('#df-67f842ea-5761-4f25-a9b9-c5553316a601 button.colab-df-quickchart');\n",
              "  quickchartButtonEl.style.display =\n",
              "    google.colab.kernel.accessAllowed ? 'block' : 'none';\n",
              "}\n",
              "\n",
              "        displayQuickchartButton(document);\n",
              "      </script>\n",
              "      <style>\n",
              "    .colab-df-container {\n",
              "      display:flex;\n",
              "      flex-wrap:wrap;\n",
              "      gap: 12px;\n",
              "    }\n",
              "\n",
              "    .colab-df-convert {\n",
              "      background-color: #E8F0FE;\n",
              "      border: none;\n",
              "      border-radius: 50%;\n",
              "      cursor: pointer;\n",
              "      display: none;\n",
              "      fill: #1967D2;\n",
              "      height: 32px;\n",
              "      padding: 0 0 0 0;\n",
              "      width: 32px;\n",
              "    }\n",
              "\n",
              "    .colab-df-convert:hover {\n",
              "      background-color: #E2EBFA;\n",
              "      box-shadow: 0px 1px 2px rgba(60, 64, 67, 0.3), 0px 1px 3px 1px rgba(60, 64, 67, 0.15);\n",
              "      fill: #174EA6;\n",
              "    }\n",
              "\n",
              "    [theme=dark] .colab-df-convert {\n",
              "      background-color: #3B4455;\n",
              "      fill: #D2E3FC;\n",
              "    }\n",
              "\n",
              "    [theme=dark] .colab-df-convert:hover {\n",
              "      background-color: #434B5C;\n",
              "      box-shadow: 0px 1px 3px 1px rgba(0, 0, 0, 0.15);\n",
              "      filter: drop-shadow(0px 1px 2px rgba(0, 0, 0, 0.3));\n",
              "      fill: #FFFFFF;\n",
              "    }\n",
              "  </style>\n",
              "\n",
              "      <script>\n",
              "        const buttonEl =\n",
              "          document.querySelector('#df-2a6bffdd-88ed-4f6f-ac61-1dc5a052c183 button.colab-df-convert');\n",
              "        buttonEl.style.display =\n",
              "          google.colab.kernel.accessAllowed ? 'block' : 'none';\n",
              "\n",
              "        async function convertToInteractive(key) {\n",
              "          const element = document.querySelector('#df-2a6bffdd-88ed-4f6f-ac61-1dc5a052c183');\n",
              "          const dataTable =\n",
              "            await google.colab.kernel.invokeFunction('convertToInteractive',\n",
              "                                                     [key], {});\n",
              "          if (!dataTable) return;\n",
              "\n",
              "          const docLinkHtml = 'Like what you see? Visit the ' +\n",
              "            '<a target=\"_blank\" href=https://colab.research.google.com/notebooks/data_table.ipynb>data table notebook</a>'\n",
              "            + ' to learn more about interactive tables.';\n",
              "          element.innerHTML = '';\n",
              "          dataTable['output_type'] = 'display_data';\n",
              "          await google.colab.output.renderOutput(dataTable, element);\n",
              "          const docLink = document.createElement('div');\n",
              "          docLink.innerHTML = docLinkHtml;\n",
              "          element.appendChild(docLink);\n",
              "        }\n",
              "      </script>\n",
              "    </div>\n",
              "  </div>\n"
            ],
            "text/plain": [
              "                                                       X  y\n",
              "75721  I'm Nep fans, I see it, I like it. . .  This i...  1\n",
              "80184  Actual game time 1 hour. Finding final ♥♥♥♥ing...  1\n",
              "19864  This game isn't bad. It's just that it feels l...  0\n",
              "76699                                   pretty good game  1\n",
              "92991       Good, scary &amp; artistic but Short too :-/  1"
            ]
          },
          "execution_count": 22,
          "metadata": {},
          "output_type": "execute_result"
        }
      ],
      "source": [
        "df.head()"
      ],
      "id": "3bbfffb2"
    },
    {
      "cell_type": "markdown",
      "metadata": {
        "id": "b379601d"
      },
      "source": [
        "# Text Preprocessing"
      ],
      "id": "b379601d"
    },
    {
      "cell_type": "markdown",
      "metadata": {
        "id": "9eac2901"
      },
      "source": [
        "CONSIDERATIONS:\n",
        "- The harts emoji represent swear words\n",
        "- I tried different approach for preprocessing (like non using stopwords,   encode differently emoji, use stem instead of lemmatizer etc) but more or less performance where similar (not in notebook aince lot of reduntant code)\n",
        "- Using all stopwords might create problem on sentiment classification\n",
        "  - Using no stopwords got bad result\n",
        "  - Using a space ' ' instead of harts got bad results\n",
        "\n",
        "PREPROCESSING STEPS:\n",
        "\n",
        "  - Lowercase the text\n",
        "\n",
        "  - replace the harts with \"swear\"\n",
        "    \n",
        "  - Remove special characters and punctuations\n",
        "\n",
        "  - remove digits\n",
        "   \n",
        "  - remove multiple spaces\n",
        "  \n",
        "  - remove emoji\n",
        "\n",
        "  - Remove some stopwords\n",
        "\n",
        "  - Lemmatize the words"
      ],
      "id": "9eac2901"
    },
    {
      "cell_type": "code",
      "execution_count": null,
      "metadata": {
        "colab": {
          "base_uri": "https://localhost:8080/"
        },
        "id": "vAr-vPO4h4Sv",
        "outputId": "076cd4e5-9ff9-47da-9120-30080ee626de"
      },
      "outputs": [
        {
          "name": "stdout",
          "output_type": "stream",
          "text": [
            "Actual game time 1 hour. Finding final ♥♥♥♥ing crystal 13 hours.\n",
            "-----\n",
            "So a friend of mine, Naytinn to be exact, gave me this game as a joke. I decided to play it. Worst mistake I have ever made, and ever will make. First off, if you couldn't tell by the pictures they give you, the graphics are ♥♥♥♥. And the tutoral barely teaches you anything. I was stuck on level 2 for 4 minutes trying to figure out how to complete the level. It just left me in the dark. Also, the soundtrack (along from the menu music) is the same track, repeated over and over.        Did I mention this game was gory? I swear, the cats you kill have more blood than [insert clever joke here]. And beleive me, I'm okay with blood and gore, but this is just too much. It's just torturing cats. Plus, the 'lungs' rat is probably one of the worst concepts ever.    Do not buy this game. Not even as a joke, not to someone else. DO NOT BUY IT. So it's less than a dollar, SO WHAT. Don't. Buy It. End of story.                                                         Also, Naytinn, remind me to kill you later.\n",
            "-----\n",
            "It's a neat game but I don't recommend this buggy piece of ♥♥♥♥. Devs need to get their ♥♥♥♥ together. Steam needs to quit letting so many people hock garbage on their platform.\n",
            "-----\n",
            "This game is the ♥♥♥♥...\n",
            "-----\n",
            "Honestly, I loved Payday 2. But with what Overkill is doing to the game, I can no longer bring myself to support the game by buying their DLC every 2-3 weeks, and I will no longer be recommending the game to my friends. Since the beginning, Overkill has stated they will not add microtransactions, instead opting to have small content packs every couple weeks for $5, which I was wary of at first, but I found actually worked well. However, Overkill, in a recent community event, the Crimefest, has added microtransactions for safes and drills, AKA CS:GO Cases and Keys. Now, if these just had cosmetics, I would still be ♥♥♥♥♥♥ off, but no, these rare drops from cases actually give stat boosts. This is after a history of Overkill saying they won't be adding microtransactions to the game, as well as a statement that Crimefest would be completely free content akin to one of their DLC content packs. And what do they do on the first day of the Crimefest event? Add in microtransactions for what is essentially gambling for stat boosts.\n",
            "-----\n",
            "This game wasn't as good as the other Arkham games. Since it was made by another studio I can see why. I was made by the ♥♥♥♥♥♥♥ who made Brink. The games story is good but when it comes to gameplay and cut scenes its nothing compared to the other Arkham games. With Batman being my favorite super hero I going to rate this game a 7.4/10.\n",
            "-----\n",
            "THis game is amazing i would suck its ♥♥♥♥ if it was a guy but i would take it out on a date first\n",
            "-----\n",
            "Beautiful game ruined by meh gameplay. Gameplay is heavily scripted and fairly shallow. To make things worse, it abuses some of the worst boss tropes from gaming. Most sinful of such being invulnerability phases. You're going to spend a lot of time just sitting around letting the AI do it's thing because they're orange and that means it's nap time. As if that wasn't bad enough, most fights/phases boil down to trying to figure out what you're 'supposed' to do. And your punishment for not figuring out whatever arbitrary tactic the devs had in mind is being forced to slowly play through the previous pathetically easy phases of the fight. It feels like the game is hell bent on wasting as much of your time as possible instead of challenging you. An example of this is a boss early on who has an entire phase devoted to teleporting behind you and attacking. So you parry like a sensible person. And then the parry animation happens with you smacking them around while you sit there doing nothing. Then they vanish and do it again. And again. Until that phase is over.  This isn't like Bayonetta or DMC. The spectacle is there, but the fighting is not. Your most complex combo is x-x-x-x, ffs.  I even wanted to like it too. I love spectacle fighters, bullet hells, and challenging games. I even kinda like the ♥♥♥♥♥♥ college film student-esque story. But the gameplay is just too irritating to deal with.\n",
            "-----\n",
            "Fan-♥♥♥♥en-tastic...\n",
            "-----\n",
            "Ok. Listen. I'm not that into rhythm games. I love music, but I just don't have the hand-eye coordination (or whatever it takes to play a rhythm game) to play games like guitar hero and games such as that. But this game is different. It's simpler to play. You see, I play a lot of games that use wasd, so my hands are used to being on those 4 buttons, though in the higher diffculties you do need to use the arrow keys and wasd, but whatever.   Of course, simplicity isn't the only thing that won me over. Another aspect is you can use your own music. Honestly, in a lot of rhythm games, I never really pay attention to the music. Why? Usually, It's not really a song I want to listen to. 'But I thought you liked music.' I never said I love every song in existence. I judge my music very harshly (also I'm a ♥♥♥♥♥♥♥♥♥ but I digress). So that's another thing.   Huh? Audiosurf lets you do the same things as this game? Not quite. Not for me. There is one more aspect that I almost forgot to mention (&lt;&lt;&lt;&lt;I'm lying). This game is actually pretty nostalgic. How? Well when I was a small child that wanted to be a power ranger (I mean, what kid didn't) I had a tendancy to look out the windows on bus rides home. I would always imagine a person running alongside the bus jumping over stuff and, basically, being a badass. Who would have thought having music play while watching the person run alongside the bus would be absolutely amazing?   I could probably continue talking about why I like this game for a few more hours, but that sounds boring, and I'd much rather be playing this game than typing. Bye.\n",
            "-----\n",
            "  ~ Top 10 Reasons Why It's The Worst game ever ~  1. No plot= Boring AF 2. Worst Freaking NPC EVER 3. Only 9 levels = about 1-2 Hours of gameplay 4. Why it can take 1-2 hours to finish? Couse it takes about 3 SECONDS to reload your weapon = Hard gameplay 5. Graphics are ♥♥♥♥♥♥ 6. Map is ♥♥♥♥♥♥ 7. The game is just boring and slow, and it feels like you played it for 10 hours.. 8. This game acctually cost money to play! 9. I got this game for free and i want my money back 10. Play this game, get cancer, quit, play roblox, get double cancer~Profit  ~only thing i got from this game was the cards and cancer ~ 1/10\n",
            "-----\n",
            "♥♥♥♥ed me up fam\n",
            "-----\n",
            "This is the best game I've played in donkeys. The story has so much depth and is so rich; the characters feel like people you've known for years, they just feel real. Geralt is my favourite character ever; his sarcasm is too much to comprehend it hurts, 'Thanks bunches'. The world is HUGE, and not an empty huge like Just Cause, but a huge rich with detail and atmosphere it's worth journeying around the world to see it all. Side quests feel like main story missions, with interesting characters and stories that could have their own game; they aren't repetitive and tedious by having you consistently go to this place and that place fetching this or clearing that place put for a ♥♥♥♥ group (like the Minutemen, sorry Fallout 4 I still love you). Gameplay is tight, with a lot of depth, like applying certain oils to your swords making it easier to kill certain monsters and what not. You will spend hours crafting armour and swords, theres so much depth to it. I spend 6 hours trying to gather the resources to craft my Witcher gear to Mastercrafted. It was worth it cause I was ballin'. Seriously, BUY THIS GAME EVEN IF YOUR PC CAN'T HANDLE IT IT IS WORTH IT\n",
            "-----\n",
            "This game is overlooked as ♥♥♥♥.  I love the atmosphere, I guess i'm a bit bias because I love D&amp;D, but still, this game.  I played as an ewok  There was some old grandma  And some hipster, too.\n",
            "-----\n",
            "♥♥♥♥ing ♥♥♥♥, don't pay $80 for this ♥♥♥♥\n",
            "-----\n",
            "I was a fan of the first Crackdown, and this game is a lot like that just with with 100% more floppy rubber ♥♥♥♥♥. So if you like the first Crackdown, and giant floppy rubber ♥♥♥♥♥, this game is for you.\n",
            "-----\n",
            "I've only played it twice so far, and jesus christ I haven't focused so hard on not dying in a game since Dark Souls.  It could do with a little more content, and I feel 21 days is a little too short, but overall I'm really liking it so far, especially for the low cost. People are saying its easy, but I have no idea what they're talking about. I guess it depends on your goal. I bought this game with the goal of getting the diamond ♥♥♥♥ trophy and right now it feels impossible, but I am determined!\n",
            "-----\n",
            "Its kinda ♥♥♥♥ but its playable...just\n",
            "-----\n",
            "This is a really good game just make sure you have a good computer or it will lag a little i know because i tried to play this on a older computer so i had to wait another 4 hours to download it on my good computer. my internet is ♥♥♥♥.\n",
            "-----\n",
            "  Alien Rage   plays like a mix between  Gears of War  and  Unreal Tournament , and it's a horrible, headache-inducing mess. The graphics are bright, brash, and nauseating, and the enemies move across the screen at ridiculous speeds. I'll be perfectly honest, I couldn't keep playing let alone finish for fear of vomiting. Unlike City Interactive's more recent title ( Enemy Front ), there's an FOV slider, but it didn't do much to alleviate the myriad of problems this game has to offer.  You will die and you will die a lot. You will get stuck in invisible walls. You will curse the awfully spaced checkpoints. And you will most likely ask yourself: Why, oh why, did I pick this up?  As for the story, you play the role of titular hero Generic Supersoldier No. 40 000, and it's your job to kick some serious ♥♥♥ – alien ♥♥♥. Because they took our jobs. (No, that's exactly what he says.)  To get you and your character up to speed, there's a bunch of audio logs scattered around the place – and surprise, surprise, they're not half bad! That coupled with the voice acting are probably the only highlights of the game. Apart from the pew-pew shooting. But you won't get to enjoy any of that, because thirty minutes in you too will be sick out of every orifice.  TL;DR: Don't buy this piece of crap. Instead, go have a nice lie down. I know I need one.\n",
            "-----\n"
          ]
        }
      ],
      "source": [
        "heart_reviews = df[df['X'].str.contains('♥')].head(20)\n",
        "\n",
        "# Display the 20 reviews that contain the heart emoji\n",
        "for review in heart_reviews['X']:\n",
        "    print(review)\n",
        "    print('-----')\n"
      ],
      "id": "vAr-vPO4h4Sv"
    },
    {
      "cell_type": "code",
      "execution_count": null,
      "metadata": {
        "id": "SiQk52Acfodv"
      },
      "outputs": [],
      "source": [
        "# Reference: 2)\n",
        "# Filter the DataFrame to include rows with review texts containing emojis\n",
        "emoji_pattern = re.compile(\"[\"\n",
        "                           u\"\\U0001F600-\\U0001F64F\"  # emoticons\n",
        "                           u\"\\U0001F300-\\U0001F5FF\"  # symbols & pictographs\n",
        "                           u\"\\U0001F680-\\U0001F6FF\"  # transport & map symbols\n",
        "                           u\"\\U0001F1E0-\\U0001F1FF\"  # flags (iOS)\n",
        "                           \"]+\", flags=re.UNICODE)\n",
        "\n",
        "emoji_reviews = df[df['X'].str.contains(emoji_pattern)]"
      ],
      "id": "SiQk52Acfodv"
    },
    {
      "cell_type": "code",
      "execution_count": null,
      "metadata": {
        "colab": {
          "base_uri": "https://localhost:8080/"
        },
        "id": "6ccfd8ad",
        "outputId": "8d511303-865e-4e8c-f0e9-a23383130b36"
      },
      "outputs": [
        {
          "name": "stdout",
          "output_type": "stream",
          "text": [
            "One of the best open world zombie survival game. Really loved it. :) 😂🙌👍\n",
            "-----\n",
            "🌟🌟🌟🌟🌟\n",
            "-----\n",
            "Awesome city building game. Very addictive!! 😁\n",
            "-----\n",
            "Love the co-op mode😆\n",
            "-----\n",
            "Classic 👌🏻 A True Tale From The Borderlands! 😉😉😉😂😂😂\n",
            "-----\n",
            "Just so cool , i love it 😻﻿ 💯/💯﻿ ^.^\n",
            "-----\n",
            "Love this game👍\n",
            "-----\n",
            "💔\n",
            "-----\n",
            "You will get obsessed with this game an amazing game for all SCFI fans , a Thriller story takes place on planet Shear you play either as the monster or the hunters whom become the hunted later on in the game your objective as the monster is to eat eat and when your done eat some more and evolve . Tell now only two Beasts have been introduced to us the Kraken and Goliath there one my profile picture and I look like a noob while putting it on but nevermind back to topic as you reach stage 3 (as the monster ) your objective is to distroy the power relay but it will take a long time for you to do so so killing the hunters is way easier 😈 , Please notice these notes while playing as the monsters . 1- if you sneak you will not make any foot prints behind you making it harder for the hunters to find you . 2- if you walk in water no foot prints . 3- if a trapper ( griffin) uses his harpoon gun while he is in the air he becomes your personal balloon . 4- no mater what you do never kill carnivores wild life in fact they might help you to escape or kill usually they are are hilghted red .  5- use your environment in your advantage its your planet right kick the hunters ♥♥♥.  Ok know to the hunters. 1- THE MOST IMPORTANT THING IS TEAM WORK your extremely vulnerable alone . 2- don't kill wild life it's free snack for the monster faster evolving . 3- press c to chat while in game with other teammates. 4- Never ever try to hunt the monster alone or ahead of any body why? Because it can use its semll abelety far away before you one preparing a trap for you so be careful. 5- as the medic Focus on your objective and that is to keep the team alive stay away from the monster yet near your team. 6- finally your trap jaw pet daisy is in fact a team mate so if all hunters die and daisy escapes the game will go on .   Hope that my knowledge of the game was useful to you and thank you !\n",
            "-----\n",
            "Black &amp; White Bushido in a nutshell~   https://www.youtube.com/watch?v=bmkxsQnNujI   Fun, Intense Game when playing against other players (not to mention the Challenge Mode aswell) and with the Online Multi-Player coming out this year it's definitely worth giving it a go 🎧♪♫.\n",
            "-----\n",
            "Well polished game but meh kinda storyline.  Nice reboot though.  Hard to keep your eyes off Lara's boobs at times.  8/10 👌\n",
            "-----\n",
            "👌 \n",
            "-----\n",
            "Great game and very addictive 👌👌\n",
            "-----\n",
            "👌👀👌👀👌👀👌👀👌👀 good ♥♥♥♥ go౦ԁ ♥♥♥♥👌 thats ✔ some good👌👌♥♥♥♥ right👌👌there👌👌👌 right✔there ✔✔if i do ƽaү so my self 💯 i say so 💯 thats what im talking about right there right there (chorus: ʳᶦᵍʰᵗ ᵗʰᵉʳᵉ) mMMMMᎷМ💯 👌👌 👌НO0ОଠOOOOOОଠଠOoooᵒᵒᵒᵒᵒᵒᵒᵒᵒ👌 👌👌 👌 💯 👌 👀 👀 👀 👌👌Good ♥♥♥♥\n",
            "-----\n",
            "  Great game! Full of stunning sceneries and car crashes. So much beauty. Exciting and rewarding. Realistic car crashes still number one even in 2016! It only lacks achievements 😟\n",
            "-----\n",
            "👌🏻\n",
            "-----\n",
            "Get this game!!!👍\n",
            "-----\n",
            "Nice game nice graphics some bugs are there most important is Railworks.exe stopped working and could be improved more well it's nice.😃\n",
            "-----\n",
            "At first I was like 'holy ♥♥♥♥ I'm gonna save everyone from the ♥♥♥♥ing aliens', but then I blew my ♥♥♥ off because it appeared to be a save\\load simulator.  My ♥♥♥ suffered pain 10\\10, nice game👌\n",
            "-----\n",
            "I love this game because way to give headshots better than cs go and sometimes players in the severs calling me hacker if they dead by me Imfaoo😉😘🇺🇿🙏🇺🇸\n",
            "-----\n"
          ]
        }
      ],
      "source": [
        "# Print 20 reviews containing emojis\n",
        "emoji_samples = emoji_reviews['X'].head(20)\n",
        "\n",
        "# Display the 30 examples of reviews with emojis\n",
        "for review in emoji_samples:\n",
        "    print(review)\n",
        "    print('-----')"
      ],
      "id": "6ccfd8ad"
    },
    {
      "cell_type": "code",
      "execution_count": null,
      "metadata": {
        "id": "96e65a8b"
      },
      "outputs": [],
      "source": [
        "# Function that remove emoji, Reference: 2)\n",
        "def remove_emoji(text):\n",
        "    emoji_pattern = re.compile(\"[\"\n",
        "                           u\"\\U0001F600-\\U0001F64F\"  # emoticons\n",
        "                           u\"\\U0001F300-\\U0001F5FF\"  # symbols & pictographs\n",
        "                           u\"\\U0001F680-\\U0001F6FF\"  # transport & map symbols\n",
        "                           u\"\\U0001F1E0-\\U0001F1FF\"  # flags\n",
        "                           u\"\\U00002702-\\U000027B0\"\n",
        "                           u\"\\U000024C2-\\U0001F251\"\n",
        "                           \"]+\", flags=re.UNICODE)\n",
        "    return emoji_pattern.sub(r'', text)"
      ],
      "id": "96e65a8b"
    },
    {
      "cell_type": "code",
      "execution_count": null,
      "metadata": {
        "colab": {
          "base_uri": "https://localhost:8080/"
        },
        "id": "afbee72e",
        "outputId": "44544e53-6bc8-4275-8327-db54aff7718e"
      },
      "outputs": [
        {
          "name": "stdout",
          "output_type": "stream",
          "text": [
            "{'we', \"couldn't\", 'too', 'weren', 'ours', 'wasn', 'this', 'been', 'will', 'were', 'your', 'against', \"it's\", 'mustn', 'over', 'be', 'what', 'own', 'i', 'ma', 'being', 'its', 'don', 'hadn', 'an', 'once', \"mightn't\", \"didn't\", \"she's\", \"won't\", \"shouldn't\", \"you've\", 'mightn', 'again', 's', 'a', 'to', 'very', 'haven', 'few', 't', 'if', 'ourselves', 'my', 'from', 'which', 'isn', 'after', 'should', 'him', 'while', 'in', 'those', 'his', 'herself', 'when', 'all', \"hadn't\", 'and', 'no', 'of', 'nor', 'doesn', 'our', 'have', 'themselves', \"doesn't\", 'where', 'wouldn', 'do', 'himself', 'further', 'y', 'at', 'most', 'myself', 'does', \"mustn't\", \"weren't\", \"don't\", \"wasn't\", \"you're\", 'such', 'can', 'other', 'then', 'doing', \"should've\", 'both', 'o', \"that'll\", 'but', 'll', 'having', 'same', 'any', 'are', 'there', 'itself', \"wouldn't\", \"aren't\", 'up', 'is', \"you'll\", 'until', 'her', 'off', 'only', 'than', 'why', 'not', 'couldn', 'down', 'just', 'their', 'as', 'shouldn', 'here', 'because', 'that', 'hers', 'hasn', 'had', 'theirs', 'during', 'whom', 'through', 'didn', 'the', 'am', 'into', 'before', \"shan't\", 'm', 'more', \"you'd\", 'with', 'how', 're', 'has', 'on', 'or', 'ain', 'out', 'yourself', 've', 'd', 'did', \"needn't\", 'she', 'me', 'shan', 'by', 'he', 'now', \"haven't\", \"hasn't\", 'each', 'it', 'was', 'some', 'who', 'yours', 'for', 'them', \"isn't\", 'aren', 'these', 'about', 'below', 'yourselves', 'won', 'needn', 'you', 'so', 'they', 'above', 'between', 'under'}\n"
          ]
        }
      ],
      "source": [
        "# Understand the words that are in  stopwords\n",
        "stop_words = set(stopwords.words('english'))\n",
        "print(stop_words)"
      ],
      "id": "afbee72e"
    },
    {
      "cell_type": "markdown",
      "metadata": {
        "id": "SFIzgYAzLjA_"
      },
      "source": [
        "- text preprocessing function"
      ],
      "id": "SFIzgYAzLjA_"
    },
    {
      "cell_type": "code",
      "execution_count": null,
      "metadata": {
        "id": "4b77a71c"
      },
      "outputs": [],
      "source": [
        "# preprocess text\n",
        "def preprocess_text(text):\n",
        "\n",
        "    # Lowercase the text\n",
        "    text = text.lower()\n",
        "\n",
        "    # replace the *** with swear\n",
        "    text = re.sub(r\"[♥]+\", ' swear ' ,text)\n",
        "\n",
        "    # Remove special characters and punctuations\n",
        "    text = re.sub(r'[^\\w\\s]', '', text)\n",
        "\n",
        "    #remove digits\n",
        "    text = re.sub(r'\\d+', ' ', text)\n",
        "\n",
        "    #remove multiple spaces\n",
        "    text = re.sub(r'\\s+', ' ', text)\n",
        "\n",
        "    #remove emoji\n",
        "    text = remove_emoji(text)\n",
        "\n",
        "    # Tokenize the text into words\n",
        "    tokens = word_tokenize(text)\n",
        "\n",
        "    # Remove stopwords\n",
        "    stop_words = set(stopwords.words('english'))\n",
        "    # do not remove words 'not, no'\n",
        "    stop_words -= {'not', 'no'}\n",
        "    tokens = [word for word in tokens if word not in stop_words]\n",
        "\n",
        "    # Lemmatize the words\n",
        "    lemmatizer = WordNetLemmatizer()\n",
        "    tokens = [lemmatizer.lemmatize(word) for word in tokens]\n",
        "\n",
        "    # Join the preprocessed tokens back into a single string\n",
        "    preprocessed_text = ' '.join(tokens)\n",
        "\n",
        "    return preprocessed_text\n"
      ],
      "id": "4b77a71c"
    },
    {
      "cell_type": "code",
      "execution_count": null,
      "metadata": {
        "id": "52df5f91"
      },
      "outputs": [],
      "source": [
        "# Example of a review\n",
        "example_review = \"Even better than the first game. Better puzzles, great characters, expanded soundtrack. My only gripe is that there s a skateboarding mini-game during the class trials which makes absolutely no ♥♥♥♥ing sense, even in the what-the-♥♥♥♥ world of Danganronpa. 9/10, do not want to hang ten.\""
      ],
      "id": "52df5f91"
    },
    {
      "cell_type": "code",
      "execution_count": null,
      "metadata": {
        "id": "d0683336"
      },
      "outputs": [],
      "source": [
        "#preprocess the review\n",
        "example_review_pre = preprocess_text(example_review)"
      ],
      "id": "d0683336"
    },
    {
      "cell_type": "code",
      "execution_count": null,
      "metadata": {
        "colab": {
          "base_uri": "https://localhost:8080/"
        },
        "id": "0bb12371",
        "outputId": "b7a914b5-485e-4b35-9686-f622102d6cbf"
      },
      "outputs": [
        {
          "name": "stdout",
          "output_type": "stream",
          "text": [
            "review after preprocessing:  even better first game better puzzle great character expanded soundtrack gripe skateboarding minigame class trial make absolutely no swear ing sense even whatthe swear world danganronpa not want hang ten\n"
          ]
        }
      ],
      "source": [
        "# review after  the preprocessing\n",
        "print(\"review after preprocessing: \", example_review_pre)"
      ],
      "id": "0bb12371"
    },
    {
      "cell_type": "markdown",
      "metadata": {
        "id": "a2f8a449"
      },
      "source": [
        "# Split into Training and Test set\n",
        "\n",
        "CONSIDERATIONS:\n",
        "- Use just a sample to find the best model, then train the best one on more data"
      ],
      "id": "a2f8a449"
    },
    {
      "cell_type": "code",
      "execution_count": null,
      "metadata": {
        "id": "EssphpNrekLS"
      },
      "outputs": [],
      "source": [
        "# take a sample of dataset to find best model\n",
        "df_sample = df.sample(10000)"
      ],
      "id": "EssphpNrekLS"
    },
    {
      "cell_type": "code",
      "execution_count": null,
      "metadata": {
        "id": "c129cc1d"
      },
      "outputs": [],
      "source": [
        "# Apply preprocessing on the sample dataset\n",
        "df_sample['X'] = df_sample['X'].apply(preprocess_text)"
      ],
      "id": "c129cc1d"
    },
    {
      "cell_type": "code",
      "execution_count": null,
      "metadata": {
        "colab": {
          "base_uri": "https://localhost:8080/",
          "height": 206
        },
        "id": "91efa6a5",
        "outputId": "ebf212bb-72be-427d-aaf9-e13fc55ac1a5"
      },
      "outputs": [
        {
          "data": {
            "text/html": [
              "\n",
              "\n",
              "  <div id=\"df-23515bf6-2c2c-41af-a656-1d4ad3ad6971\">\n",
              "    <div class=\"colab-df-container\">\n",
              "      <div>\n",
              "<style scoped>\n",
              "    .dataframe tbody tr th:only-of-type {\n",
              "        vertical-align: middle;\n",
              "    }\n",
              "\n",
              "    .dataframe tbody tr th {\n",
              "        vertical-align: top;\n",
              "    }\n",
              "\n",
              "    .dataframe thead th {\n",
              "        text-align: right;\n",
              "    }\n",
              "</style>\n",
              "<table border=\"1\" class=\"dataframe\">\n",
              "  <thead>\n",
              "    <tr style=\"text-align: right;\">\n",
              "      <th></th>\n",
              "      <th>X</th>\n",
              "      <th>y</th>\n",
              "    </tr>\n",
              "  </thead>\n",
              "  <tbody>\n",
              "    <tr>\n",
              "      <th>45337</th>\n",
              "      <td>shoot everything youll fine</td>\n",
              "      <td>1</td>\n",
              "    </tr>\n",
              "    <tr>\n",
              "      <th>49131</th>\n",
              "      <td>game brilliant music fantastic graphic spot pl...</td>\n",
              "      <td>1</td>\n",
              "    </tr>\n",
              "    <tr>\n",
              "      <th>86535</th>\n",
              "      <td>hey anybody pill im infec bam</td>\n",
              "      <td>1</td>\n",
              "    </tr>\n",
              "    <tr>\n",
              "      <th>46075</th>\n",
              "      <td>not recommend game leon still cant drive car a...</td>\n",
              "      <td>0</td>\n",
              "    </tr>\n",
              "    <tr>\n",
              "      <th>71732</th>\n",
              "      <td>skillful medieval melee could want</td>\n",
              "      <td>1</td>\n",
              "    </tr>\n",
              "  </tbody>\n",
              "</table>\n",
              "</div>\n",
              "      <button class=\"colab-df-convert\" onclick=\"convertToInteractive('df-23515bf6-2c2c-41af-a656-1d4ad3ad6971')\"\n",
              "              title=\"Convert this dataframe to an interactive table.\"\n",
              "              style=\"display:none;\">\n",
              "\n",
              "  <svg xmlns=\"http://www.w3.org/2000/svg\" height=\"24px\"viewBox=\"0 0 24 24\"\n",
              "       width=\"24px\">\n",
              "    <path d=\"M0 0h24v24H0V0z\" fill=\"none\"/>\n",
              "    <path d=\"M18.56 5.44l.94 2.06.94-2.06 2.06-.94-2.06-.94-.94-2.06-.94 2.06-2.06.94zm-11 1L8.5 8.5l.94-2.06 2.06-.94-2.06-.94L8.5 2.5l-.94 2.06-2.06.94zm10 10l.94 2.06.94-2.06 2.06-.94-2.06-.94-.94-2.06-.94 2.06-2.06.94z\"/><path d=\"M17.41 7.96l-1.37-1.37c-.4-.4-.92-.59-1.43-.59-.52 0-1.04.2-1.43.59L10.3 9.45l-7.72 7.72c-.78.78-.78 2.05 0 2.83L4 21.41c.39.39.9.59 1.41.59.51 0 1.02-.2 1.41-.59l7.78-7.78 2.81-2.81c.8-.78.8-2.07 0-2.86zM5.41 20L4 18.59l7.72-7.72 1.47 1.35L5.41 20z\"/>\n",
              "  </svg>\n",
              "      </button>\n",
              "\n",
              "\n",
              "\n",
              "    <div id=\"df-6beca9be-f317-4c69-b563-c0f56123299d\">\n",
              "      <button class=\"colab-df-quickchart\" onclick=\"quickchart('df-6beca9be-f317-4c69-b563-c0f56123299d')\"\n",
              "              title=\"Suggest charts.\"\n",
              "              style=\"display:none;\">\n",
              "\n",
              "<svg xmlns=\"http://www.w3.org/2000/svg\" height=\"24px\"viewBox=\"0 0 24 24\"\n",
              "     width=\"24px\">\n",
              "    <g>\n",
              "        <path d=\"M19 3H5c-1.1 0-2 .9-2 2v14c0 1.1.9 2 2 2h14c1.1 0 2-.9 2-2V5c0-1.1-.9-2-2-2zM9 17H7v-7h2v7zm4 0h-2V7h2v10zm4 0h-2v-4h2v4z\"/>\n",
              "    </g>\n",
              "</svg>\n",
              "      </button>\n",
              "    </div>\n",
              "\n",
              "<style>\n",
              "  .colab-df-quickchart {\n",
              "    background-color: #E8F0FE;\n",
              "    border: none;\n",
              "    border-radius: 50%;\n",
              "    cursor: pointer;\n",
              "    display: none;\n",
              "    fill: #1967D2;\n",
              "    height: 32px;\n",
              "    padding: 0 0 0 0;\n",
              "    width: 32px;\n",
              "  }\n",
              "\n",
              "  .colab-df-quickchart:hover {\n",
              "    background-color: #E2EBFA;\n",
              "    box-shadow: 0px 1px 2px rgba(60, 64, 67, 0.3), 0px 1px 3px 1px rgba(60, 64, 67, 0.15);\n",
              "    fill: #174EA6;\n",
              "  }\n",
              "\n",
              "  [theme=dark] .colab-df-quickchart {\n",
              "    background-color: #3B4455;\n",
              "    fill: #D2E3FC;\n",
              "  }\n",
              "\n",
              "  [theme=dark] .colab-df-quickchart:hover {\n",
              "    background-color: #434B5C;\n",
              "    box-shadow: 0px 1px 3px 1px rgba(0, 0, 0, 0.15);\n",
              "    filter: drop-shadow(0px 1px 2px rgba(0, 0, 0, 0.3));\n",
              "    fill: #FFFFFF;\n",
              "  }\n",
              "</style>\n",
              "\n",
              "    <script>\n",
              "      async function quickchart(key) {\n",
              "        const containerElement = document.querySelector('#' + key);\n",
              "        const charts = await google.colab.kernel.invokeFunction(\n",
              "            'suggestCharts', [key], {});\n",
              "      }\n",
              "    </script>\n",
              "\n",
              "      <script>\n",
              "\n",
              "function displayQuickchartButton(domScope) {\n",
              "  let quickchartButtonEl =\n",
              "    domScope.querySelector('#df-6beca9be-f317-4c69-b563-c0f56123299d button.colab-df-quickchart');\n",
              "  quickchartButtonEl.style.display =\n",
              "    google.colab.kernel.accessAllowed ? 'block' : 'none';\n",
              "}\n",
              "\n",
              "        displayQuickchartButton(document);\n",
              "      </script>\n",
              "      <style>\n",
              "    .colab-df-container {\n",
              "      display:flex;\n",
              "      flex-wrap:wrap;\n",
              "      gap: 12px;\n",
              "    }\n",
              "\n",
              "    .colab-df-convert {\n",
              "      background-color: #E8F0FE;\n",
              "      border: none;\n",
              "      border-radius: 50%;\n",
              "      cursor: pointer;\n",
              "      display: none;\n",
              "      fill: #1967D2;\n",
              "      height: 32px;\n",
              "      padding: 0 0 0 0;\n",
              "      width: 32px;\n",
              "    }\n",
              "\n",
              "    .colab-df-convert:hover {\n",
              "      background-color: #E2EBFA;\n",
              "      box-shadow: 0px 1px 2px rgba(60, 64, 67, 0.3), 0px 1px 3px 1px rgba(60, 64, 67, 0.15);\n",
              "      fill: #174EA6;\n",
              "    }\n",
              "\n",
              "    [theme=dark] .colab-df-convert {\n",
              "      background-color: #3B4455;\n",
              "      fill: #D2E3FC;\n",
              "    }\n",
              "\n",
              "    [theme=dark] .colab-df-convert:hover {\n",
              "      background-color: #434B5C;\n",
              "      box-shadow: 0px 1px 3px 1px rgba(0, 0, 0, 0.15);\n",
              "      filter: drop-shadow(0px 1px 2px rgba(0, 0, 0, 0.3));\n",
              "      fill: #FFFFFF;\n",
              "    }\n",
              "  </style>\n",
              "\n",
              "      <script>\n",
              "        const buttonEl =\n",
              "          document.querySelector('#df-23515bf6-2c2c-41af-a656-1d4ad3ad6971 button.colab-df-convert');\n",
              "        buttonEl.style.display =\n",
              "          google.colab.kernel.accessAllowed ? 'block' : 'none';\n",
              "\n",
              "        async function convertToInteractive(key) {\n",
              "          const element = document.querySelector('#df-23515bf6-2c2c-41af-a656-1d4ad3ad6971');\n",
              "          const dataTable =\n",
              "            await google.colab.kernel.invokeFunction('convertToInteractive',\n",
              "                                                     [key], {});\n",
              "          if (!dataTable) return;\n",
              "\n",
              "          const docLinkHtml = 'Like what you see? Visit the ' +\n",
              "            '<a target=\"_blank\" href=https://colab.research.google.com/notebooks/data_table.ipynb>data table notebook</a>'\n",
              "            + ' to learn more about interactive tables.';\n",
              "          element.innerHTML = '';\n",
              "          dataTable['output_type'] = 'display_data';\n",
              "          await google.colab.output.renderOutput(dataTable, element);\n",
              "          const docLink = document.createElement('div');\n",
              "          docLink.innerHTML = docLinkHtml;\n",
              "          element.appendChild(docLink);\n",
              "        }\n",
              "      </script>\n",
              "    </div>\n",
              "  </div>\n"
            ],
            "text/plain": [
              "                                                       X  y\n",
              "45337                        shoot everything youll fine  1\n",
              "49131  game brilliant music fantastic graphic spot pl...  1\n",
              "86535                      hey anybody pill im infec bam  1\n",
              "46075  not recommend game leon still cant drive car a...  0\n",
              "71732                 skillful medieval melee could want  1"
            ]
          },
          "execution_count": 35,
          "metadata": {},
          "output_type": "execute_result"
        }
      ],
      "source": [
        "df_sample.head(5)"
      ],
      "id": "91efa6a5"
    },
    {
      "cell_type": "code",
      "execution_count": null,
      "metadata": {
        "id": "1bd38a66"
      },
      "outputs": [],
      "source": [
        "#SPLITS\n",
        "\n",
        "# Split the dataset into X (features) and y (target)\n",
        "X = df_sample['X']\n",
        "y = df_sample['y']\n",
        "\n",
        "# Split the data into training and testing sets\n",
        "X_train, X_test, y_train, y_test = train_test_split(X, y, test_size=0.2, random_state=42)\n"
      ],
      "id": "1bd38a66"
    },
    {
      "cell_type": "code",
      "execution_count": null,
      "metadata": {
        "colab": {
          "base_uri": "https://localhost:8080/"
        },
        "id": "64f4238c",
        "outputId": "a81b906d-46c6-4bf4-9f4a-08a7272e6a81"
      },
      "outputs": [
        {
          "name": "stdout",
          "output_type": "stream",
          "text": [
            "8000 8000\n",
            "2000 2000\n"
          ]
        }
      ],
      "source": [
        "# visualize dimension of sample split dataset\n",
        "print(len(X_train), len(y_train))\n",
        "print(len(X_test), len(y_test))"
      ],
      "id": "64f4238c"
    },
    {
      "cell_type": "markdown",
      "metadata": {
        "id": "9fKG68lKbTZO"
      },
      "source": [
        "# MODEL SELECTION"
      ],
      "id": "9fKG68lKbTZO"
    },
    {
      "cell_type": "markdown",
      "metadata": {
        "id": "rDRVcPHsbOrw"
      },
      "source": [
        "\n",
        "TRY DIFFERENT APPROACHES:\n",
        " - Standard Machine Leanrning Algorithms\n",
        " - LSTM\n",
        " - Pretrained Transofmer\n",
        " - Fine Tune Transformer (take a lot of time)"
      ],
      "id": "rDRVcPHsbOrw"
    },
    {
      "cell_type": "markdown",
      "metadata": {
        "id": "aTlTLg88bhXv"
      },
      "source": [
        "# Machine Learning Approach:\n",
        "- Use a TFIDFTokenizer and try different models:\n",
        "  - Logistic Regression\n",
        "  - RandomForest\n",
        "  - XGBoost\n",
        "  - SVM\n",
        "- Use different configurations of hyperparameter and take in consideration the imbalnce classes\n"
      ],
      "id": "aTlTLg88bhXv"
    },
    {
      "cell_type": "markdown",
      "metadata": {
        "id": "QFvjdljxh0pO"
      },
      "source": [
        "# Find Best TFIDFVectorizer dimension (max_feature)"
      ],
      "id": "QFvjdljxh0pO"
    },
    {
      "cell_type": "markdown",
      "metadata": {
        "id": "dGf8stf8ioDV"
      },
      "source": [
        "CONSIDERATIONS:\n",
        "\n",
        "As preprocessing for the ML algorithms i will use the tfidf Vectorizer, to understand what type of hyperparameter to use (max_features) I trained a Logistic Regression model using different values.\n",
        "- Find the best hyperparameter for the tfidf Vectorizer (max_features)\n",
        "  - There are 24k different words\n",
        "  - checked without handling imbalance and got best parameter as : (max_features = 5000)\n",
        "  - check using different sampling strategy to handle imbalance and got as best hyperparameter: (max_features = 20000), i will use this one\n",
        "\n",
        "- Notice:\n",
        "  - Using SMOTE, oversampling and Undersampling does not lead to better results, might consider to not use them later to speed up training\n",
        "  - Even trying to hande imbalance we got modest results for the label 0 with respect to label 1"
      ],
      "id": "dGf8stf8ioDV"
    },
    {
      "cell_type": "code",
      "execution_count": null,
      "metadata": {
        "colab": {
          "base_uri": "https://localhost:8080/"
        },
        "id": "3N7TYIchiiUO",
        "outputId": "db85ec90-1f9b-41bb-fe78-46a4243dcd66"
      },
      "outputs": [
        {
          "name": "stdout",
          "output_type": "stream",
          "text": [
            "Number of unique words in the review corpus: 25130\n"
          ]
        }
      ],
      "source": [
        "# Find number of unique words (useful for TFIDFVectorizer later)\n",
        "reviews = df_sample['X']\n",
        "\n",
        "# Initialize the CountVectorizer\n",
        "vectorizer = CountVectorizer()\n",
        "\n",
        "# Fit and transform the review text\n",
        "X = vectorizer.fit_transform(reviews)\n",
        "\n",
        "# Get the unique words\n",
        "vocabulary = vectorizer.get_feature_names_out()\n",
        "\n",
        "# Count the number of unique words\n",
        "num_unique_words = len(vocabulary)\n",
        "\n",
        "print(\"Number of unique words in the review corpus:\", num_unique_words)"
      ],
      "id": "3N7TYIchiiUO"
    },
    {
      "cell_type": "markdown",
      "metadata": {
        "id": "zRqkto24rRtO"
      },
      "source": [
        "- Check best hyperparameter for TFIDF (without handling imabalance)"
      ],
      "id": "zRqkto24rRtO"
    },
    {
      "cell_type": "code",
      "execution_count": null,
      "metadata": {
        "colab": {
          "base_uri": "https://localhost:8080/"
        },
        "id": "-fetMno3izKO",
        "outputId": "31b64823-38fd-4dd7-844e-c4caa9146013"
      },
      "outputs": [
        {
          "name": "stdout",
          "output_type": "stream",
          "text": [
            "Best Hyperparameters: {'vectorizer__max_features': 5000}\n",
            "Accuracy: 0.873\n",
            "F1 Score: 0.9279228149829738\n",
            "Classification Report:\n",
            "              precision    recall  f1-score   support\n",
            "\n",
            "           0       0.83      0.32      0.47       343\n",
            "           1       0.88      0.99      0.93      1657\n",
            "\n",
            "    accuracy                           0.87      2000\n",
            "   macro avg       0.86      0.66      0.70      2000\n",
            "weighted avg       0.87      0.87      0.85      2000\n",
            "\n"
          ]
        }
      ],
      "source": [
        "# parameter grid\n",
        "param_grid = {'vectorizer__max_features': [5000, 10000, 20000, 25000]}\n",
        "\n",
        "# Initialize the TfidfVectorizer and LogisticRegression models\n",
        "vectorizer = TfidfVectorizer()\n",
        "model = LogisticRegression()\n",
        "\n",
        "# pipeline with the vectorizer and model\n",
        "pipeline = Pipeline([('vectorizer', vectorizer), ('model', model)])\n",
        "\n",
        "# Random Search\n",
        "search = RandomizedSearchCV(pipeline, param_grid, cv=5, n_iter=3)\n",
        "\n",
        "# Fit the search object to the training data\n",
        "search.fit(X_train, y_train)\n",
        "\n",
        "# Get the best model and its hyperparameters\n",
        "best_model = search.best_estimator_\n",
        "best_params = search.best_params_\n",
        "\n",
        "# Evaluate the best model on the test set\n",
        "y_pred = best_model.predict(X_test)\n",
        "accuracy = accuracy_score(y_test, y_pred)\n",
        "f1 = f1_score(y_test, y_pred)\n",
        "classification_rep = classification_report(y_test, y_pred)\n",
        "\n",
        "# Print the best hyperparameters and evaluation metrics\n",
        "print(\"Best Hyperparameters:\", best_params)\n",
        "print(\"Accuracy:\", accuracy)\n",
        "print(\"F1 Score:\", f1)\n",
        "print(\"Classification Report:\")\n",
        "print(classification_rep)\n"
      ],
      "id": "-fetMno3izKO"
    },
    {
      "cell_type": "markdown",
      "metadata": {
        "id": "zzTfDZeOjVMQ"
      },
      "source": [
        "- TRY MORE SAMPLING METHOD FOR THE MODEL\n"
      ],
      "id": "zzTfDZeOjVMQ"
    },
    {
      "cell_type": "code",
      "execution_count": null,
      "metadata": {
        "colab": {
          "base_uri": "https://localhost:8080/"
        },
        "id": "IAQ96gQ2MJmZ",
        "outputId": "aebc3042-7f94-40fd-f185-4170586c45db"
      },
      "outputs": [
        {
          "name": "stderr",
          "output_type": "stream",
          "text": [
            "/usr/local/lib/python3.10/dist-packages/sklearn/model_selection/_search.py:305: UserWarning: The total space of parameters 8 is smaller than n_iter=10. Running 8 iterations. For exhaustive searches, use GridSearchCV.\n",
            "  warnings.warn(\n"
          ]
        },
        {
          "name": "stdout",
          "output_type": "stream",
          "text": [
            "Best Hyperparameters: {'vectorizer__max_features': 20000, 'sampler': SMOTE()}\n",
            "Accuracy: 0.805\n",
            "F1 Score: 0.8739495798319328\n",
            "Classification Report:\n",
            "              precision    recall  f1-score   support\n",
            "\n",
            "           0       0.46      0.75      0.57       343\n",
            "           1       0.94      0.82      0.87      1657\n",
            "\n",
            "    accuracy                           0.81      2000\n",
            "   macro avg       0.70      0.78      0.72      2000\n",
            "weighted avg       0.86      0.81      0.82      2000\n",
            "\n"
          ]
        }
      ],
      "source": [
        "# Define the parameter grid for random search\n",
        "param_grid = {\n",
        "    'vectorizer__max_features': [5000, 15000, 20000, 25000],\n",
        "    'sampler': [SMOTE(), RandomUnderSampler()]\n",
        "}\n",
        "\n",
        "# Initialize the TfidfVectorizer and LogisticRegression models\n",
        "vectorizer = TfidfVectorizer()\n",
        "model = LogisticRegression()\n",
        "\n",
        "# Create a pipeline with the vectorizer, sampler, and model\n",
        "pipeline = ImbPipeline([\n",
        "    ('vectorizer', vectorizer),\n",
        "    ('sampler', SMOTE()),  # Default sampler for initial pipeline creation\n",
        "    ('model', model)\n",
        "])\n",
        "\n",
        "# Perform random search with cross-validation\n",
        "search = RandomizedSearchCV(pipeline, param_grid, cv=5, n_iter=10)\n",
        "\n",
        "# Fit the search object to the training data\n",
        "search.fit(X_train, y_train)\n",
        "\n",
        "# Get the best model and its hyperparameters\n",
        "best_model = search.best_estimator_\n",
        "best_params = search.best_params_\n",
        "\n",
        "# Evaluate the best model on the test set\n",
        "y_pred = best_model.predict(X_test)\n",
        "accuracy = accuracy_score(y_test, y_pred)\n",
        "f1 = f1_score(y_test, y_pred)\n",
        "classification_rep = classification_report(y_test, y_pred)\n",
        "\n",
        "# Print the best hyperparameters and evaluation metrics\n",
        "print(\"Best Hyperparameters:\", best_params)\n",
        "print(\"Accuracy:\", accuracy)\n",
        "print(\"F1 Score:\", f1)\n",
        "print(\"Classification Report:\")\n",
        "print(classification_rep)\n"
      ],
      "id": "IAQ96gQ2MJmZ"
    },
    {
      "cell_type": "code",
      "execution_count": null,
      "metadata": {
        "colab": {
          "base_uri": "https://localhost:8080/"
        },
        "id": "THThi1ZGsR0a",
        "outputId": "08e02a18-3c60-443f-e7e4-1dd27b94af0a"
      },
      "outputs": [
        {
          "name": "stdout",
          "output_type": "stream",
          "text": [
            "ROC AUC Score: 0.7840594984437435\n"
          ]
        }
      ],
      "source": [
        "roc_auc = roc_auc_score(y_test, y_pred)\n",
        "print(\"ROC AUC Score:\", roc_auc)"
      ],
      "id": "THThi1ZGsR0a"
    },
    {
      "cell_type": "markdown",
      "metadata": {
        "id": "VC5ugpsgpL99"
      },
      "source": [
        "RESULTS:\n",
        "- BEST HYPERPARAMETER FOR TFIDF = 20000\n"
      ],
      "id": "VC5ugpsgpL99"
    },
    {
      "cell_type": "markdown",
      "metadata": {
        "id": "m7I7_F4HnHTs"
      },
      "source": [
        "# Find best ML model (try different hyperparameter for each model)\n",
        "Find the best ML model using different Algorithm and Sampling strategy\n",
        "\n",
        "CONSIDERATIONS:\n",
        "- All ML models got good results but there is margin for improvement for handle imbalance classes\n",
        "\n"
      ],
      "id": "m7I7_F4HnHTs"
    },
    {
      "cell_type": "markdown",
      "metadata": {
        "id": "OhO6uqVZoLy2"
      },
      "source": [
        "- TRY TO HANDLE IMBALANCE WITH  SMOTE AND RANDOMUNDERSAMPLE"
      ],
      "id": "OhO6uqVZoLy2"
    },
    {
      "cell_type": "code",
      "execution_count": null,
      "metadata": {
        "colab": {
          "base_uri": "https://localhost:8080/"
        },
        "id": "it5V19HVJaVg",
        "outputId": "d95d8a73-6803-4b82-dc79-45e3e6c82014"
      },
      "outputs": [
        {
          "name": "stderr",
          "output_type": "stream",
          "text": [
            "/usr/local/lib/python3.10/dist-packages/sklearn/model_selection/_validation.py:378: FitFailedWarning: \n",
            "28 fits failed out of a total of 40.\n",
            "The score on these train-test partitions for these parameters will be set to nan.\n",
            "If these failures are not expected, you can try to debug them by setting error_score='raise'.\n",
            "\n",
            "Below are more details about the failures:\n",
            "--------------------------------------------------------------------------------\n",
            "8 fits failed with the following error:\n",
            "Traceback (most recent call last):\n",
            "  File \"/usr/local/lib/python3.10/dist-packages/sklearn/model_selection/_validation.py\", line 686, in _fit_and_score\n",
            "    estimator.fit(X_train, y_train, **fit_params)\n",
            "  File \"/usr/local/lib/python3.10/dist-packages/sklearn/pipeline.py\", line 401, in fit\n",
            "    Xt = self._fit(X, y, **fit_params_steps)\n",
            "  File \"/usr/local/lib/python3.10/dist-packages/sklearn/pipeline.py\", line 339, in _fit\n",
            "    self._validate_steps()\n",
            "  File \"/usr/local/lib/python3.10/dist-packages/sklearn/pipeline.py\", line 230, in _validate_steps\n",
            "    raise TypeError(\n",
            "TypeError: All intermediate steps should be transformers and implement fit and transform or be the string 'passthrough' 'RandomUnderSampler()' (type <class 'imblearn.under_sampling._prototype_selection._random_under_sampler.RandomUnderSampler'>) doesn't\n",
            "\n",
            "--------------------------------------------------------------------------------\n",
            "20 fits failed with the following error:\n",
            "Traceback (most recent call last):\n",
            "  File \"/usr/local/lib/python3.10/dist-packages/sklearn/model_selection/_validation.py\", line 686, in _fit_and_score\n",
            "    estimator.fit(X_train, y_train, **fit_params)\n",
            "  File \"/usr/local/lib/python3.10/dist-packages/sklearn/pipeline.py\", line 401, in fit\n",
            "    Xt = self._fit(X, y, **fit_params_steps)\n",
            "  File \"/usr/local/lib/python3.10/dist-packages/sklearn/pipeline.py\", line 339, in _fit\n",
            "    self._validate_steps()\n",
            "  File \"/usr/local/lib/python3.10/dist-packages/sklearn/pipeline.py\", line 230, in _validate_steps\n",
            "    raise TypeError(\n",
            "TypeError: All intermediate steps should be transformers and implement fit and transform or be the string 'passthrough' 'SMOTE(n_jobs=-1)' (type <class 'imblearn.over_sampling._smote.base.SMOTE'>) doesn't\n",
            "\n",
            "  warnings.warn(some_fits_failed_message, FitFailedWarning)\n",
            "/usr/local/lib/python3.10/dist-packages/sklearn/model_selection/_search.py:952: UserWarning: One or more of the test scores are non-finite: [       nan 0.853             nan 0.82616667        nan        nan\n",
            " 0.83883333        nan        nan        nan        nan        nan\n",
            "        nan 0.8385     0.83933333        nan        nan        nan\n",
            " 0.84766667        nan]\n",
            "  warnings.warn(\n",
            "/usr/local/lib/python3.10/dist-packages/sklearn/model_selection/_search.py:952: UserWarning: One or more of the test scores are non-finite: [       nan 0.9163029         nan 0.90286721        nan        nan\n",
            " 0.90413456        nan        nan        nan        nan        nan\n",
            "        nan 0.90312899 0.91067444        nan        nan        nan\n",
            " 0.91359445        nan]\n",
            "  warnings.warn(\n"
          ]
        },
        {
          "name": "stdout",
          "output_type": "stream",
          "text": [
            "[CV] END ............ accuracy: (test=0.871) f1: (test=0.925) total time= 2.3min\n"
          ]
        },
        {
          "name": "stderr",
          "output_type": "stream",
          "text": [
            "/usr/local/lib/python3.10/dist-packages/sklearn/model_selection/_validation.py:378: FitFailedWarning: \n",
            "26 fits failed out of a total of 40.\n",
            "The score on these train-test partitions for these parameters will be set to nan.\n",
            "If these failures are not expected, you can try to debug them by setting error_score='raise'.\n",
            "\n",
            "Below are more details about the failures:\n",
            "--------------------------------------------------------------------------------\n",
            "18 fits failed with the following error:\n",
            "Traceback (most recent call last):\n",
            "  File \"/usr/local/lib/python3.10/dist-packages/sklearn/model_selection/_validation.py\", line 686, in _fit_and_score\n",
            "    estimator.fit(X_train, y_train, **fit_params)\n",
            "  File \"/usr/local/lib/python3.10/dist-packages/sklearn/pipeline.py\", line 401, in fit\n",
            "    Xt = self._fit(X, y, **fit_params_steps)\n",
            "  File \"/usr/local/lib/python3.10/dist-packages/sklearn/pipeline.py\", line 339, in _fit\n",
            "    self._validate_steps()\n",
            "  File \"/usr/local/lib/python3.10/dist-packages/sklearn/pipeline.py\", line 230, in _validate_steps\n",
            "    raise TypeError(\n",
            "TypeError: All intermediate steps should be transformers and implement fit and transform or be the string 'passthrough' 'SMOTE(n_jobs=-1)' (type <class 'imblearn.over_sampling._smote.base.SMOTE'>) doesn't\n",
            "\n",
            "--------------------------------------------------------------------------------\n",
            "8 fits failed with the following error:\n",
            "Traceback (most recent call last):\n",
            "  File \"/usr/local/lib/python3.10/dist-packages/sklearn/model_selection/_validation.py\", line 686, in _fit_and_score\n",
            "    estimator.fit(X_train, y_train, **fit_params)\n",
            "  File \"/usr/local/lib/python3.10/dist-packages/sklearn/pipeline.py\", line 401, in fit\n",
            "    Xt = self._fit(X, y, **fit_params_steps)\n",
            "  File \"/usr/local/lib/python3.10/dist-packages/sklearn/pipeline.py\", line 339, in _fit\n",
            "    self._validate_steps()\n",
            "  File \"/usr/local/lib/python3.10/dist-packages/sklearn/pipeline.py\", line 230, in _validate_steps\n",
            "    raise TypeError(\n",
            "TypeError: All intermediate steps should be transformers and implement fit and transform or be the string 'passthrough' 'RandomUnderSampler()' (type <class 'imblearn.under_sampling._prototype_selection._random_under_sampler.RandomUnderSampler'>) doesn't\n",
            "\n",
            "  warnings.warn(some_fits_failed_message, FitFailedWarning)\n",
            "/usr/local/lib/python3.10/dist-packages/sklearn/model_selection/_search.py:952: UserWarning: One or more of the test scores are non-finite: [0.8415            nan 0.82266667 0.82683333 0.8345            nan\n",
            " 0.8345            nan        nan        nan        nan        nan\n",
            "        nan 0.86016667        nan        nan        nan        nan\n",
            "        nan 0.85183333]\n",
            "  warnings.warn(\n",
            "/usr/local/lib/python3.10/dist-packages/sklearn/model_selection/_search.py:952: UserWarning: One or more of the test scores are non-finite: [0.91150975        nan 0.90270666 0.90139556 0.90823437        nan\n",
            " 0.90823437        nan        nan        nan        nan        nan\n",
            "        nan 0.92002656        nan        nan        nan        nan\n",
            "        nan 0.91585283]\n",
            "  warnings.warn(\n"
          ]
        },
        {
          "name": "stdout",
          "output_type": "stream",
          "text": [
            "[CV] END ............ accuracy: (test=0.874) f1: (test=0.926) total time= 2.0min\n"
          ]
        },
        {
          "name": "stderr",
          "output_type": "stream",
          "text": [
            "/usr/local/lib/python3.10/dist-packages/sklearn/model_selection/_validation.py:378: FitFailedWarning: \n",
            "28 fits failed out of a total of 40.\n",
            "The score on these train-test partitions for these parameters will be set to nan.\n",
            "If these failures are not expected, you can try to debug them by setting error_score='raise'.\n",
            "\n",
            "Below are more details about the failures:\n",
            "--------------------------------------------------------------------------------\n",
            "12 fits failed with the following error:\n",
            "Traceback (most recent call last):\n",
            "  File \"/usr/local/lib/python3.10/dist-packages/sklearn/model_selection/_validation.py\", line 686, in _fit_and_score\n",
            "    estimator.fit(X_train, y_train, **fit_params)\n",
            "  File \"/usr/local/lib/python3.10/dist-packages/sklearn/pipeline.py\", line 401, in fit\n",
            "    Xt = self._fit(X, y, **fit_params_steps)\n",
            "  File \"/usr/local/lib/python3.10/dist-packages/sklearn/pipeline.py\", line 339, in _fit\n",
            "    self._validate_steps()\n",
            "  File \"/usr/local/lib/python3.10/dist-packages/sklearn/pipeline.py\", line 230, in _validate_steps\n",
            "    raise TypeError(\n",
            "TypeError: All intermediate steps should be transformers and implement fit and transform or be the string 'passthrough' 'RandomUnderSampler()' (type <class 'imblearn.under_sampling._prototype_selection._random_under_sampler.RandomUnderSampler'>) doesn't\n",
            "\n",
            "--------------------------------------------------------------------------------\n",
            "16 fits failed with the following error:\n",
            "Traceback (most recent call last):\n",
            "  File \"/usr/local/lib/python3.10/dist-packages/sklearn/model_selection/_validation.py\", line 686, in _fit_and_score\n",
            "    estimator.fit(X_train, y_train, **fit_params)\n",
            "  File \"/usr/local/lib/python3.10/dist-packages/sklearn/pipeline.py\", line 401, in fit\n",
            "    Xt = self._fit(X, y, **fit_params_steps)\n",
            "  File \"/usr/local/lib/python3.10/dist-packages/sklearn/pipeline.py\", line 339, in _fit\n",
            "    self._validate_steps()\n",
            "  File \"/usr/local/lib/python3.10/dist-packages/sklearn/pipeline.py\", line 230, in _validate_steps\n",
            "    raise TypeError(\n",
            "TypeError: All intermediate steps should be transformers and implement fit and transform or be the string 'passthrough' 'SMOTE(n_jobs=-1)' (type <class 'imblearn.over_sampling._smote.base.SMOTE'>) doesn't\n",
            "\n",
            "  warnings.warn(some_fits_failed_message, FitFailedWarning)\n",
            "/usr/local/lib/python3.10/dist-packages/sklearn/model_selection/_search.py:952: UserWarning: One or more of the test scores are non-finite: [       nan 0.82816667 0.83883333        nan        nan        nan\n",
            " 0.84333333 0.76566667        nan        nan        nan        nan\n",
            "        nan 0.82283333        nan 0.83216667        nan        nan\n",
            "        nan        nan]\n",
            "  warnings.warn(\n",
            "/usr/local/lib/python3.10/dist-packages/sklearn/model_selection/_search.py:952: UserWarning: One or more of the test scores are non-finite: [       nan 0.90498841 0.90363129        nan        nan        nan\n",
            " 0.91160516 0.85459675        nan        nan        nan        nan\n",
            "        nan 0.90055419        nan 0.9071469         nan        nan\n",
            "        nan        nan]\n",
            "  warnings.warn(\n"
          ]
        },
        {
          "name": "stdout",
          "output_type": "stream",
          "text": [
            "[CV] END ............ accuracy: (test=0.847) f1: (test=0.914) total time= 1.3min\n"
          ]
        },
        {
          "name": "stderr",
          "output_type": "stream",
          "text": [
            "/usr/local/lib/python3.10/dist-packages/sklearn/model_selection/_validation.py:378: FitFailedWarning: \n",
            "30 fits failed out of a total of 40.\n",
            "The score on these train-test partitions for these parameters will be set to nan.\n",
            "If these failures are not expected, you can try to debug them by setting error_score='raise'.\n",
            "\n",
            "Below are more details about the failures:\n",
            "--------------------------------------------------------------------------------\n",
            "16 fits failed with the following error:\n",
            "Traceback (most recent call last):\n",
            "  File \"/usr/local/lib/python3.10/dist-packages/sklearn/model_selection/_validation.py\", line 686, in _fit_and_score\n",
            "    estimator.fit(X_train, y_train, **fit_params)\n",
            "  File \"/usr/local/lib/python3.10/dist-packages/sklearn/pipeline.py\", line 401, in fit\n",
            "    Xt = self._fit(X, y, **fit_params_steps)\n",
            "  File \"/usr/local/lib/python3.10/dist-packages/sklearn/pipeline.py\", line 339, in _fit\n",
            "    self._validate_steps()\n",
            "  File \"/usr/local/lib/python3.10/dist-packages/sklearn/pipeline.py\", line 230, in _validate_steps\n",
            "    raise TypeError(\n",
            "TypeError: All intermediate steps should be transformers and implement fit and transform or be the string 'passthrough' 'SMOTE(n_jobs=-1)' (type <class 'imblearn.over_sampling._smote.base.SMOTE'>) doesn't\n",
            "\n",
            "--------------------------------------------------------------------------------\n",
            "14 fits failed with the following error:\n",
            "Traceback (most recent call last):\n",
            "  File \"/usr/local/lib/python3.10/dist-packages/sklearn/model_selection/_validation.py\", line 686, in _fit_and_score\n",
            "    estimator.fit(X_train, y_train, **fit_params)\n",
            "  File \"/usr/local/lib/python3.10/dist-packages/sklearn/pipeline.py\", line 401, in fit\n",
            "    Xt = self._fit(X, y, **fit_params_steps)\n",
            "  File \"/usr/local/lib/python3.10/dist-packages/sklearn/pipeline.py\", line 339, in _fit\n",
            "    self._validate_steps()\n",
            "  File \"/usr/local/lib/python3.10/dist-packages/sklearn/pipeline.py\", line 230, in _validate_steps\n",
            "    raise TypeError(\n",
            "TypeError: All intermediate steps should be transformers and implement fit and transform or be the string 'passthrough' 'RandomUnderSampler()' (type <class 'imblearn.under_sampling._prototype_selection._random_under_sampler.RandomUnderSampler'>) doesn't\n",
            "\n",
            "  warnings.warn(some_fits_failed_message, FitFailedWarning)\n",
            "/usr/local/lib/python3.10/dist-packages/sklearn/model_selection/_search.py:952: UserWarning: One or more of the test scores are non-finite: [       nan        nan        nan 0.83216667        nan        nan\n",
            "        nan        nan        nan        nan        nan        nan\n",
            "        nan 0.80483333        nan        nan 0.82983333        nan\n",
            " 0.859      0.8325    ]\n",
            "  warnings.warn(\n",
            "/usr/local/lib/python3.10/dist-packages/sklearn/model_selection/_search.py:952: UserWarning: One or more of the test scores are non-finite: [       nan        nan        nan 0.90662769        nan        nan\n",
            "        nan        nan        nan        nan        nan        nan\n",
            "        nan 0.88146747        nan        nan 0.90594196        nan\n",
            " 0.91907592 0.90674626]\n",
            "  warnings.warn(\n"
          ]
        },
        {
          "name": "stdout",
          "output_type": "stream",
          "text": [
            "[CV] END ............ accuracy: (test=0.872) f1: (test=0.926) total time= 1.5min\n",
            "Model: Logistic Regression Accuracy: 0.853\n",
            "Model: Logistic Regression F1 Score: 0.9163029037768078\n",
            "\n",
            "Classification Report:\n",
            "              precision    recall  f1-score   support\n",
            "\n",
            "           0       0.75      0.43      0.55       343\n",
            "           1       0.89      0.97      0.93      1657\n",
            "\n",
            "    accuracy                           0.88      2000\n",
            "   macro avg       0.82      0.70      0.74      2000\n",
            "weighted avg       0.87      0.88      0.86      2000\n",
            "\n",
            "\n",
            "Model: Random Forest Accuracy: 0.8601666666666666\n",
            "Model: Random Forest F1 Score: 0.9200265599037041\n",
            "\n",
            "Classification Report:\n",
            "              precision    recall  f1-score   support\n",
            "\n",
            "           0       0.72      0.44      0.55       343\n",
            "           1       0.89      0.96      0.93      1657\n",
            "\n",
            "    accuracy                           0.88      2000\n",
            "   macro avg       0.81      0.70      0.74      2000\n",
            "weighted avg       0.86      0.88      0.86      2000\n",
            "\n",
            "\n",
            "Model: XGBoost Accuracy: 0.8433333333333334\n",
            "Model: XGBoost F1 Score: 0.9116051609369595\n",
            "\n",
            "Classification Report:\n",
            "              precision    recall  f1-score   support\n",
            "\n",
            "           0       0.75      0.22      0.33       343\n",
            "           1       0.86      0.98      0.92      1657\n",
            "\n",
            "    accuracy                           0.85      2000\n",
            "   macro avg       0.80      0.60      0.63      2000\n",
            "weighted avg       0.84      0.85      0.82      2000\n",
            "\n",
            "\n",
            "Model: SVM Accuracy: 0.859\n",
            "Model: SVM F1 Score: 0.9190759171578574\n",
            "\n",
            "Classification Report:\n",
            "              precision    recall  f1-score   support\n",
            "\n",
            "           0       0.72      0.44      0.55       343\n",
            "           1       0.89      0.96      0.93      1657\n",
            "\n",
            "    accuracy                           0.88      2000\n",
            "   macro avg       0.81      0.70      0.74      2000\n",
            "weighted avg       0.86      0.88      0.86      2000\n",
            "\n",
            "\n"
          ]
        }
      ],
      "source": [
        "# Define the classifier configurations\n",
        "classifier_configs = [\n",
        "    {\n",
        "        'classifier': [LogisticRegression()],\n",
        "        'classifier__max_iter': [100, 500, 1000],\n",
        "        'sampler': [None, SMOTE(n_jobs=-1), RandomUnderSampler()]\n",
        "    },\n",
        "    {\n",
        "        'classifier': [RandomForestClassifier(class_weight='balanced')],\n",
        "        'classifier__n_estimators': [10, 100, 500],\n",
        "        'classifier__max_depth': [None, 5, 10],\n",
        "        'sampler': [None, SMOTE(n_jobs=-1), RandomUnderSampler()]\n",
        "    },\n",
        "    {\n",
        "        'classifier': [XGBClassifier(objective='binary:logistic')],\n",
        "        'classifier__max_depth': [3, 5, 7],\n",
        "        'classifier__learning_rate': [0.1, 0.01, 0.001],\n",
        "        'sampler': [None, SMOTE(n_jobs=-1), RandomUnderSampler()]\n",
        "    },\n",
        "    {\n",
        "        'classifier': [SVC(probability=True)],\n",
        "        'classifier__kernel': ['linear', 'rbf'],\n",
        "        'classifier__C': [0.1, 1, 10],\n",
        "        'sampler': [None, SMOTE(n_jobs=-1), RandomUnderSampler()]\n",
        "    }\n",
        "]\n",
        "\n",
        "# model names\n",
        "model_names = ['Logistic Regression', 'Random Forest', 'XGBoost', 'SVM']\n",
        "\n",
        "# parameter grid for random search\n",
        "all_configs = [dict(itertools.chain(*(e.items() for e in configuration))) for configuration in itertools.product(classifier_configs)]\n",
        "\n",
        "# pipeline with TfidfVectorizer, sampler, and classifier\n",
        "pipeline = Pipeline([\n",
        "    ('vectorizer', TfidfVectorizer(max_features=20000)),\n",
        "    ('sampler', None),\n",
        "    ('classifier', LogisticRegression())\n",
        "])\n",
        "\n",
        "# random search with cross-validation\n",
        "rs = RandomizedSearchCV(pipeline,\n",
        "                        param_distributions=all_configs,\n",
        "                        n_iter=len(all_configs) * 5,\n",
        "                        n_jobs=-1,\n",
        "                        cv=2,\n",
        "                        scoring={\n",
        "                            'accuracy': make_scorer(accuracy_score),\n",
        "                            'f1': make_scorer(f1_score)\n",
        "                        },\n",
        "                        refit='f1'\n",
        "                        )\n",
        "\n",
        "# cross-validation with scoring\n",
        "scores = cross_validate(rs, X_train, y_train, scoring=['accuracy', 'f1'], cv=4, return_estimator=True, verbose=3, error_score='raise')\n",
        "\n",
        "for i, (model_name, estimator) in enumerate(zip(model_names, scores['estimator'])):\n",
        "    print(f\"Model: {model_name} Accuracy: {estimator.cv_results_['mean_test_accuracy'][estimator.best_index_]}\")\n",
        "    print(f\"Model: {model_name} F1 Score: {estimator.cv_results_['mean_test_f1'][estimator.best_index_]}\")\n",
        "\n",
        "    # Fit the best estimator on the training data\n",
        "    best_estimator = estimator.best_estimator_\n",
        "    best_estimator.fit(X_train, y_train)\n",
        "\n",
        "    # Predict on the test data\n",
        "    y_pred = best_estimator.predict(X_test)\n",
        "\n",
        "    # Calculate precision and recall\n",
        "    report = classification_report(y_test, y_pred)\n",
        "    print(f\"\\nClassification Report:\\n{report}\\n\")\n"
      ],
      "id": "it5V19HVJaVg"
    },
    {
      "cell_type": "code",
      "execution_count": null,
      "metadata": {
        "colab": {
          "base_uri": "https://localhost:8080/"
        },
        "id": "7IxPvy6aox-O",
        "outputId": "d9b56c83-8a5f-4d13-e9c4-e2b72b5fd1ed"
      },
      "outputs": [
        {
          "name": "stdout",
          "output_type": "stream",
          "text": [
            "Model: Logistic Regression\n",
            "Best Hyperparameters:\n",
            "sampler: None\n",
            "classifier__kernel: rbf\n",
            "classifier__C: 10\n",
            "classifier: SVC(C=10, probability=True)\n",
            "\n",
            "Model: Random Forest\n",
            "Best Hyperparameters:\n",
            "sampler: None\n",
            "classifier__kernel: linear\n",
            "classifier__C: 1\n",
            "classifier: SVC(C=1, kernel='linear', probability=True)\n",
            "\n",
            "Model: XGBoost\n",
            "Best Hyperparameters:\n",
            "sampler: None\n",
            "classifier__max_depth: 5\n",
            "classifier__learning_rate: 0.1\n",
            "classifier: XGBClassifier(base_score=None, booster=None, callbacks=None,\n",
            "              colsample_bylevel=None, colsample_bynode=None,\n",
            "              colsample_bytree=None, early_stopping_rounds=None,\n",
            "              enable_categorical=False, eval_metric=None, feature_types=None,\n",
            "              gamma=None, gpu_id=None, grow_policy=None, importance_type=None,\n",
            "              interaction_constraints=None, learning_rate=0.1, max_bin=None,\n",
            "              max_cat_threshold=None, max_cat_to_onehot=None,\n",
            "              max_delta_step=None, max_depth=5, max_leaves=None,\n",
            "              min_child_weight=None, missing=nan, monotone_constraints=None,\n",
            "              n_estimators=100, n_jobs=None, num_parallel_tree=None,\n",
            "              predictor=None, random_state=None, ...)\n",
            "\n",
            "Model: SVM\n",
            "Best Hyperparameters:\n",
            "sampler: None\n",
            "classifier__kernel: linear\n",
            "classifier__C: 1\n",
            "classifier: SVC(C=1, kernel='linear', probability=True)\n",
            "\n"
          ]
        }
      ],
      "source": [
        "# Get the best hyperparameters of the best models\n",
        "best_hyperparameters = []\n",
        "for i, (model_name, estimator) in enumerate(zip(model_names, scores['estimator'])):\n",
        "    best_params = estimator.best_params_\n",
        "    best_hyperparameters.append((model_name, best_params))\n",
        "\n",
        "# Print the best hyperparameters of the best models\n",
        "for model_name, best_params in best_hyperparameters:\n",
        "    print(f\"Model: {model_name}\")\n",
        "    print(\"Best Hyperparameters:\")\n",
        "    for param, value in best_params.items():\n",
        "        print(f\"{param}: {value}\")\n",
        "    print()\n"
      ],
      "id": "7IxPvy6aox-O"
    },
    {
      "cell_type": "markdown",
      "metadata": {
        "id": "6f95d29d"
      },
      "source": [
        "# Depp Learning and LSTM with GloVe Embeddings\n"
      ],
      "id": "6f95d29d"
    },
    {
      "cell_type": "markdown",
      "metadata": {
        "id": "UrHBv2yqokxC"
      },
      "source": [
        "Steps:\n",
        "- Load GloVe pretrained embeddings\n",
        "- Train and Evaluate a LSTM model\n",
        "- Try to Handle imbalance classes\n",
        "\n",
        "CONSIDERATIONS:\n",
        "- The model basically always predict the label 0  or 1\n",
        "- Check Section \"result\" (in the report) to see some solution to this problem"
      ],
      "id": "UrHBv2yqokxC"
    },
    {
      "cell_type": "code",
      "execution_count": null,
      "metadata": {
        "id": "_oGAFDCGmcWh"
      },
      "outputs": [],
      "source": [
        "# Reference:3\n",
        "\n",
        "# Tokenize the text and convert to sequences\n",
        "tokenizer = Tokenizer()\n",
        "tokenizer.fit_on_texts(X_train)\n",
        "X_train_seq = tokenizer.texts_to_sequences(X_train)\n",
        "X_test_seq = tokenizer.texts_to_sequences(X_test)"
      ],
      "id": "_oGAFDCGmcWh"
    },
    {
      "cell_type": "code",
      "execution_count": null,
      "metadata": {
        "colab": {
          "base_uri": "https://localhost:8080/"
        },
        "id": "B-rWYNxWmiX0",
        "outputId": "0d79314b-cb7c-441f-c9b6-d9db4ecf7f35"
      },
      "outputs": [
        {
          "data": {
            "text/plain": [
              "793"
            ]
          },
          "execution_count": 32,
          "metadata": {},
          "output_type": "execute_result"
        }
      ],
      "source": [
        "# find maximum length of a review\n",
        "max_len = max(len(seq) for seq in X_train_seq)\n",
        "max_len"
      ],
      "id": "B-rWYNxWmiX0"
    },
    {
      "cell_type": "code",
      "execution_count": null,
      "metadata": {
        "id": "5LFDPjGFmchd"
      },
      "outputs": [],
      "source": [
        "# Pad sequences to have equal length\n",
        "X_train_padded = pad_sequences(X_train_seq, maxlen=max_len, padding='post')\n",
        "X_test_padded = pad_sequences(X_test_seq, maxlen=max_len, padding='post')"
      ],
      "id": "5LFDPjGFmchd"
    },
    {
      "cell_type": "code",
      "execution_count": null,
      "metadata": {
        "colab": {
          "base_uri": "https://localhost:8080/"
        },
        "id": "VYnI9j_UwEYu",
        "outputId": "e7001114-d7ab-4262-9113-2bcfcd7fd707"
      },
      "outputs": [
        {
          "name": "stdout",
          "output_type": "stream",
          "text": [
            "Number of uniqe words: 22831\n"
          ]
        }
      ],
      "source": [
        "# Find number of unique words\n",
        "word_index = tokenizer.word_index\n",
        "print(\"Number of uniqe words:\", len(word_index))"
      ],
      "id": "VYnI9j_UwEYu"
    },
    {
      "cell_type": "markdown",
      "metadata": {
        "id": "j8-3b8HEJZUv"
      },
      "source": [
        "- Below in \"glove_f\" put your path of the glove embeddings"
      ],
      "id": "j8-3b8HEJZUv"
    },
    {
      "cell_type": "code",
      "execution_count": null,
      "metadata": {
        "colab": {
          "base_uri": "https://localhost:8080/"
        },
        "id": "ZyfVuOzWmgxy",
        "outputId": "d723899a-a969-4252-e3a2-820acef56894"
      },
      "outputs": [
        {
          "name": "stdout",
          "output_type": "stream",
          "text": [
            "Loaded 400000 word vectors.\n"
          ]
        }
      ],
      "source": [
        "#Reference: 3)\n",
        "\n",
        "#Initializing GloVe word embedding\n",
        "from numpy import asarray\n",
        "\n",
        "# Load the file with pretrained embeddings\n",
        "embeddings_index = dict()\n",
        "glove_f = open('glove.6B.100d.txt', encoding='utf-8')\n",
        "for line in glove_f:\n",
        "    values = line.split()\n",
        "    word = values[0]\n",
        "    coefs = asarray(values[1:], dtype='float32')\n",
        "    embeddings_index[word] = coefs\n",
        "glove_f.close()\n",
        "\n",
        "print('Loaded %s word vectors.' % len(embeddings_index))"
      ],
      "id": "ZyfVuOzWmgxy"
    },
    {
      "cell_type": "code",
      "execution_count": null,
      "metadata": {
        "id": "aoFyJ8s2vufm"
      },
      "outputs": [],
      "source": [
        "# Create embedding matrix\n",
        "word_index = tokenizer.word_index\n",
        "num_words = len(word_index) + 1\n",
        "embedding_matrix = np.zeros((num_words, 100))\n",
        "for word, i in tokenizer.word_index.items():\n",
        "    embedding_vector = embeddings_index.get(word)\n",
        "    if embedding_vector is not None:\n",
        "        embedding_matrix[i] = embedding_vector"
      ],
      "id": "aoFyJ8s2vufm"
    },
    {
      "cell_type": "code",
      "execution_count": null,
      "metadata": {
        "id": "2gE3DVclmg0Q"
      },
      "outputs": [],
      "source": [
        "# Define Basic LSTM model with Dropout:\n",
        "\n",
        "# embeddings dimension:\n",
        "embed_dim = 100\n",
        "\n",
        "model = Sequential()\n",
        "model.add(Embedding(num_words, embed_dim, weights=[embedding_matrix], input_length=max_len, trainable=False))\n",
        "model.add(LSTM(128, dropout=0.2))\n",
        "model.add(Dense(1, activation='sigmoid'))\n",
        "\n",
        "# Compile the model\n",
        "model.compile(optimizer='adam', loss='binary_crossentropy', metrics=[tf.keras.metrics.AUC()])\n",
        "\n",
        "# Set up early stopping\n",
        "early_stopping = EarlyStopping(patience=2, monitor='val_loss', restore_best_weights=True)\n"
      ],
      "id": "2gE3DVclmg0Q"
    },
    {
      "cell_type": "code",
      "execution_count": null,
      "metadata": {
        "colab": {
          "base_uri": "https://localhost:8080/"
        },
        "id": "gOmzhTjYmqTW",
        "outputId": "5d48c081-c38a-4c2c-f1a1-1d6902a397ad"
      },
      "outputs": [
        {
          "name": "stdout",
          "output_type": "stream",
          "text": [
            "Epoch 1/20\n",
            "141/141 [==============================] - 11s 47ms/step - loss: 0.4882 - auc_4: 0.5033 - val_loss: 0.4552 - val_auc_4: 0.5000\n",
            "Epoch 2/20\n",
            "141/141 [==============================] - 5s 39ms/step - loss: 0.4743 - auc_4: 0.5081 - val_loss: 0.4545 - val_auc_4: 0.5000\n",
            "Epoch 3/20\n",
            "141/141 [==============================] - 5s 34ms/step - loss: 0.4740 - auc_4: 0.4944 - val_loss: 0.4544 - val_auc_4: 0.5000\n",
            "Epoch 4/20\n",
            "141/141 [==============================] - 5s 35ms/step - loss: 0.4750 - auc_4: 0.5017 - val_loss: 0.4543 - val_auc_4: 0.5000\n",
            "Epoch 5/20\n",
            "141/141 [==============================] - 6s 39ms/step - loss: 0.4738 - auc_4: 0.5028 - val_loss: 0.4558 - val_auc_4: 0.5000\n",
            "Epoch 6/20\n",
            "141/141 [==============================] - 5s 35ms/step - loss: 0.4738 - auc_4: 0.4999 - val_loss: 0.4543 - val_auc_4: 0.5000\n",
            "Epoch 7/20\n",
            "141/141 [==============================] - 5s 36ms/step - loss: 0.4737 - auc_4: 0.5014 - val_loss: 0.4547 - val_auc_4: 0.5000\n",
            "Epoch 8/20\n",
            "141/141 [==============================] - 6s 41ms/step - loss: 0.4735 - auc_4: 0.5115 - val_loss: 0.4546 - val_auc_4: 0.5000\n",
            "Epoch 9/20\n",
            "141/141 [==============================] - 5s 34ms/step - loss: 0.4738 - auc_4: 0.5038 - val_loss: 0.4575 - val_auc_4: 0.5000\n"
          ]
        }
      ],
      "source": [
        "# Train the model\n",
        "history = model.fit(X_train_padded, y_train, validation_data=(X_test_padded, y_test), epochs=20, batch_size=64, callbacks=[early_stopping])"
      ],
      "id": "gOmzhTjYmqTW"
    },
    {
      "cell_type": "code",
      "execution_count": null,
      "metadata": {
        "colab": {
          "base_uri": "https://localhost:8080/"
        },
        "id": "30ASmL-vmxDY",
        "outputId": "09cb19f4-be8e-4c3a-ec69-9446e8237415"
      },
      "outputs": [
        {
          "name": "stdout",
          "output_type": "stream",
          "text": [
            "32/32 [==============================] - 1s 17ms/step\n",
            "Accuracy: 0.831\n",
            "F1 Score: 0.7542992900054615\n",
            "Recall: 0.831\n",
            "Precision: 0.6905609999999999\n",
            "Classification Report:\n",
            "              precision    recall  f1-score   support\n",
            "\n",
            "           0       0.00      0.00      0.00       169\n",
            "           1       0.83      1.00      0.91       831\n",
            "\n",
            "    accuracy                           0.83      1000\n",
            "   macro avg       0.42      0.50      0.45      1000\n",
            "weighted avg       0.69      0.83      0.75      1000\n",
            "\n"
          ]
        },
        {
          "name": "stderr",
          "output_type": "stream",
          "text": [
            "/usr/local/lib/python3.10/dist-packages/sklearn/metrics/_classification.py:1344: UndefinedMetricWarning: Precision is ill-defined and being set to 0.0 in labels with no predicted samples. Use `zero_division` parameter to control this behavior.\n",
            "  _warn_prf(average, modifier, msg_start, len(result))\n",
            "/usr/local/lib/python3.10/dist-packages/sklearn/metrics/_classification.py:1344: UndefinedMetricWarning: Precision and F-score are ill-defined and being set to 0.0 in labels with no predicted samples. Use `zero_division` parameter to control this behavior.\n",
            "  _warn_prf(average, modifier, msg_start, len(result))\n",
            "/usr/local/lib/python3.10/dist-packages/sklearn/metrics/_classification.py:1344: UndefinedMetricWarning: Precision and F-score are ill-defined and being set to 0.0 in labels with no predicted samples. Use `zero_division` parameter to control this behavior.\n",
            "  _warn_prf(average, modifier, msg_start, len(result))\n",
            "/usr/local/lib/python3.10/dist-packages/sklearn/metrics/_classification.py:1344: UndefinedMetricWarning: Precision and F-score are ill-defined and being set to 0.0 in labels with no predicted samples. Use `zero_division` parameter to control this behavior.\n",
            "  _warn_prf(average, modifier, msg_start, len(result))\n"
          ]
        }
      ],
      "source": [
        "# predictions for the test data\n",
        "y_pred = model.predict(X_test_padded)\n",
        "\n",
        "# Convert probabilities to labels\n",
        "y_pred = y_pred.round().astype(\"float\")\n",
        "\n",
        "# accuracy\n",
        "accuracy = accuracy_score(y_test, y_pred)\n",
        "\n",
        "# F1 score\n",
        "f1 = f1_score(y_test, y_pred, average='weighted')\n",
        "\n",
        "# recall\n",
        "recall = recall_score(y_test, y_pred, average='weighted')\n",
        "\n",
        "# precision\n",
        "precision = precision_score(y_test, y_pred, average='weighted')\n",
        "\n",
        "# Generate classification report\n",
        "classification_rep = classification_report(y_test, y_pred)\n",
        "\n",
        "print(\"Accuracy:\", accuracy)\n",
        "print(\"F1 Score:\", f1)\n",
        "print(\"Recall:\", recall)\n",
        "print(\"Precision:\", precision)\n",
        "print(\"Classification Report:\")\n",
        "print(classification_rep)\n"
      ],
      "id": "30ASmL-vmxDY"
    },
    {
      "cell_type": "code",
      "execution_count": null,
      "metadata": {
        "id": "qBp6VqFJQm8I"
      },
      "outputs": [],
      "source": [
        "# Plot the learning curves\n",
        "plt.plot(history.history['loss'], label='Training Loss')\n",
        "plt.plot(history.history['val_loss'], label='Validation Loss')\n",
        "plt.xlabel('Epochs')\n",
        "plt.ylabel('Loss')\n",
        "plt.legend()\n",
        "plt.show()"
      ],
      "id": "qBp6VqFJQm8I"
    },
    {
      "cell_type": "code",
      "execution_count": null,
      "metadata": {
        "id": "pncoworpsekw"
      },
      "outputs": [],
      "source": [
        "# save model (if needed)\n",
        "model.save('lstm_model_2.h5')"
      ],
      "id": "pncoworpsekw"
    },
    {
      "cell_type": "markdown",
      "metadata": {
        "id": "NIoeBtXFMMQ1"
      },
      "source": [
        "# LSTM WITH SMOTE"
      ],
      "id": "NIoeBtXFMMQ1"
    },
    {
      "cell_type": "code",
      "execution_count": null,
      "metadata": {
        "id": "dJH98vEANNrn"
      },
      "outputs": [],
      "source": [
        "# Tokenize the text and convert to sequences\n",
        "tokenizer = Tokenizer()\n",
        "tokenizer.fit_on_texts(X_train)\n",
        "X_train_seq = tokenizer.texts_to_sequences(X_train)\n",
        "X_test_seq = tokenizer.texts_to_sequences(X_test)\n",
        "\n",
        "\n",
        "# Pad sequences to have equal length\n",
        "X_train_padded = pad_sequences(X_train_seq, maxlen=max_len, padding='post')\n",
        "X_test_padded = pad_sequences(X_test_seq, maxlen=max_len, padding='post')\n",
        "\n",
        "# Hnaldeimbalance classes using SMOTE\n",
        "smote = SMOTE(random_state=42)\n",
        "X_train_padded_balanced, y_train_balanced = smote.fit_resample(X_train_padded, y_train)\n",
        "\n",
        "model = Sequential()\n",
        "model.add(Embedding(num_words, embed_dim, weights=[embedding_matrix], input_length=max_len, trainable=False))\n",
        "model.add(LSTM(128, dropout=0.2))\n",
        "model.add(Dense(1, activation='sigmoid'))\n",
        "\n",
        "# Compile the model\n",
        "model.compile(optimizer=Adam(learning_rate=1e-4), loss='binary_crossentropy', metrics=['accuracy'])\n",
        "\n",
        "# early stopping\n",
        "early_stopping = EarlyStopping(patience=2, monitor='val_loss', restore_best_weights=True)\n",
        "\n",
        "# Train the model with data balancing\n",
        "history = model.fit(X_train_padded_balanced, y_train_balanced, validation_data=(X_test_padded, y_test),\n",
        "                    epochs=4, batch_size=64, callbacks=[early_stopping])\n"
      ],
      "id": "dJH98vEANNrn"
    },
    {
      "cell_type": "code",
      "execution_count": null,
      "metadata": {
        "colab": {
          "base_uri": "https://localhost:8080/"
        },
        "id": "xavImTpRDcBe",
        "outputId": "6edacc0e-62b8-462b-9875-3697b5aeaf0d"
      },
      "outputs": [
        {
          "name": "stdout",
          "output_type": "stream",
          "text": [
            "32/32 [==============================] - 23s 723ms/step\n",
            "Test Accuracy: 0.169\n",
            "F1 Score: 0.0\n",
            "Classification Report:\n",
            "              precision    recall  f1-score   support\n",
            "\n",
            "           0       0.17      1.00      0.29       169\n",
            "           1       0.00      0.00      0.00       831\n",
            "\n",
            "    accuracy                           0.17      1000\n",
            "   macro avg       0.08      0.50      0.14      1000\n",
            "weighted avg       0.03      0.17      0.05      1000\n",
            "\n"
          ]
        },
        {
          "name": "stderr",
          "output_type": "stream",
          "text": [
            "/usr/local/lib/python3.10/dist-packages/sklearn/metrics/_classification.py:1344: UndefinedMetricWarning: Precision and F-score are ill-defined and being set to 0.0 in labels with no predicted samples. Use `zero_division` parameter to control this behavior.\n",
            "  _warn_prf(average, modifier, msg_start, len(result))\n",
            "/usr/local/lib/python3.10/dist-packages/sklearn/metrics/_classification.py:1344: UndefinedMetricWarning: Precision and F-score are ill-defined and being set to 0.0 in labels with no predicted samples. Use `zero_division` parameter to control this behavior.\n",
            "  _warn_prf(average, modifier, msg_start, len(result))\n",
            "/usr/local/lib/python3.10/dist-packages/sklearn/metrics/_classification.py:1344: UndefinedMetricWarning: Precision and F-score are ill-defined and being set to 0.0 in labels with no predicted samples. Use `zero_division` parameter to control this behavior.\n",
            "  _warn_prf(average, modifier, msg_start, len(result))\n"
          ]
        }
      ],
      "source": [
        "# Evaluate the model\n",
        "y_pred_probs = model.predict(X_test_padded)\n",
        "y_pred = y_pred_probs.round().astype(\"int\")  # Convert probabilities to class labels\n",
        "\n",
        "accuracy = accuracy_score(y_test, y_pred)\n",
        "f1 = f1_score(y_test, y_pred)\n",
        "\n",
        "print('Test Accuracy:', accuracy)\n",
        "print('F1 Score:', f1)\n",
        "print('Classification Report:')\n",
        "print(classification_report(y_test, y_pred))\n"
      ],
      "id": "xavImTpRDcBe"
    },
    {
      "cell_type": "markdown",
      "metadata": {
        "id": "6686d4d9"
      },
      "source": [
        "# Transformers and Pretrained Models"
      ],
      "id": "6686d4d9"
    },
    {
      "cell_type": "markdown",
      "metadata": {
        "id": "NxBMAUeaPkrD"
      },
      "source": [
        "- First use some pretrained models directly to predict sentiment then use the best one for Fine Tuning"
      ],
      "id": "NxBMAUeaPkrD"
    },
    {
      "cell_type": "markdown",
      "metadata": {
        "id": "efc3689b"
      },
      "source": [
        "# Try pretrained model directly without training on our data\n",
        "- Use models RoBERTa and BERT\n",
        "\n",
        "CONSIDERATIONS:\n",
        "- Got poor results like LSTM\n",
        "- (check section \"Result\" (in the report))\n"
      ],
      "id": "efc3689b"
    },
    {
      "cell_type": "markdown",
      "metadata": {
        "id": "9bd6b650"
      },
      "source": [
        "# ROBERTA"
      ],
      "id": "9bd6b650"
    },
    {
      "cell_type": "code",
      "execution_count": null,
      "metadata": {
        "colab": {
          "referenced_widgets": [
            "b7973968145c4b5ca671949c592403c6",
            "f9b638b637ba4b48a298f776aff56e31",
            "464577a504734d9faf5f70eab4399608",
            "ad60c2cfefff4ab9a8931e63426c0cb5"
          ]
        },
        "id": "3d143a23",
        "outputId": "10beb50a-28b2-4cb5-e173-516c8e0926bd"
      },
      "outputs": [
        {
          "data": {
            "application/vnd.jupyter.widget-view+json": {
              "model_id": "b7973968145c4b5ca671949c592403c6",
              "version_major": 2,
              "version_minor": 0
            },
            "text/plain": [
              "Downloading (…)olve/main/vocab.json:   0%|          | 0.00/899k [00:00<?, ?B/s]"
            ]
          },
          "metadata": {},
          "output_type": "display_data"
        },
        {
          "data": {
            "application/vnd.jupyter.widget-view+json": {
              "model_id": "f9b638b637ba4b48a298f776aff56e31",
              "version_major": 2,
              "version_minor": 0
            },
            "text/plain": [
              "Downloading (…)olve/main/merges.txt:   0%|          | 0.00/456k [00:00<?, ?B/s]"
            ]
          },
          "metadata": {},
          "output_type": "display_data"
        },
        {
          "data": {
            "application/vnd.jupyter.widget-view+json": {
              "model_id": "464577a504734d9faf5f70eab4399608",
              "version_major": 2,
              "version_minor": 0
            },
            "text/plain": [
              "Downloading (…)lve/main/config.json:   0%|          | 0.00/481 [00:00<?, ?B/s]"
            ]
          },
          "metadata": {},
          "output_type": "display_data"
        },
        {
          "data": {
            "application/vnd.jupyter.widget-view+json": {
              "model_id": "ad60c2cfefff4ab9a8931e63426c0cb5",
              "version_major": 2,
              "version_minor": 0
            },
            "text/plain": [
              "Downloading model.safetensors:   0%|          | 0.00/499M [00:00<?, ?B/s]"
            ]
          },
          "metadata": {},
          "output_type": "display_data"
        },
        {
          "name": "stderr",
          "output_type": "stream",
          "text": [
            "Some weights of the PyTorch model were not used when initializing the TF 2.0 model TFRobertaForSequenceClassification: ['roberta.embeddings.position_ids']\n",
            "- This IS expected if you are initializing TFRobertaForSequenceClassification from a PyTorch model trained on another task or with another architecture (e.g. initializing a TFBertForSequenceClassification model from a BertForPreTraining model).\n",
            "- This IS NOT expected if you are initializing TFRobertaForSequenceClassification from a PyTorch model that you expect to be exactly identical (e.g. initializing a TFBertForSequenceClassification model from a BertForSequenceClassification model).\n",
            "Some weights or buffers of the TF 2.0 model TFRobertaForSequenceClassification were not initialized from the PyTorch model and are newly initialized: ['classifier.dense.weight', 'classifier.dense.bias', 'classifier.out_proj.weight', 'classifier.out_proj.bias']\n",
            "You should probably TRAIN this model on a down-stream task to be able to use it for predictions and inference.\n"
          ]
        },
        {
          "name": "stdout",
          "output_type": "stream",
          "text": [
            "32/32 [==============================] - 584s 18s/step\n",
            "RoBERTa Model\n",
            "Test Accuracy: 0.729\n",
            "F1 Score: 0.8368452739313665\n",
            "Precision: 0.8373493975903614\n",
            "Recall: 0.8363417569193743\n",
            "\n"
          ]
        }
      ],
      "source": [
        "# RoBERTa, Reference: 4)\n",
        "\n",
        "# Initialize the tokenizer\n",
        "roberta_tokenizer = RobertaTokenizer.from_pretrained('roberta-base')\n",
        "\n",
        "# Tokenize the input texts\n",
        "X_train_roberta = roberta_tokenizer.batch_encode_plus(X_train.tolist(), padding=True, truncation=True, return_tensors='tf')\n",
        "X_test_roberta = roberta_tokenizer.batch_encode_plus(X_test.tolist(), padding=True, truncation=True, return_tensors='tf')\n",
        "\n",
        "# Create TensorFlow datasets\n",
        "train_dataset_roberta = tf.data.Dataset.from_tensor_slices((\n",
        "    dict(X_train_roberta),\n",
        "    y_train\n",
        ")).batch(32)\n",
        "\n",
        "test_dataset_roberta = tf.data.Dataset.from_tensor_slices((\n",
        "    dict(X_test_roberta),\n",
        "    y_test\n",
        ")).batch(32)\n",
        "\n",
        "# Load the pre-trained RoBERTa model\n",
        "roberta_model = TFRobertaForSequenceClassification.from_pretrained('roberta-base')\n",
        "\n",
        "# Compile the model\n",
        "roberta_model.compile(optimizer='adam',\n",
        "                      loss=tf.keras.losses.SparseCategoricalCrossentropy(from_logits=True),\n",
        "                      metrics=['accuracy'])\n",
        "\n",
        "# Evaluate the model\n",
        "predictions_roberta = roberta_model.predict(test_dataset_roberta)\n",
        "predicted_labels_roberta = tf.argmax(predictions_roberta.logits, axis=1)\n",
        "accuracy_roberta = accuracy_score(y_test, predicted_labels_roberta)\n",
        "f1_roberta = f1_score(y_test, predicted_labels_roberta)\n",
        "precision_roberta = precision_score(y_test, predicted_labels_roberta)\n",
        "recall_roberta = recall_score(y_test, predicted_labels_roberta)\n",
        "\n",
        "print('RoBERTa Model')\n",
        "print('Test Accuracy:', accuracy_roberta)\n",
        "print('F1 Score:', f1_roberta)\n",
        "print('Precision:', precision_roberta)\n",
        "print('Recall:', recall_roberta)\n",
        "print()\n"
      ],
      "id": "3d143a23"
    },
    {
      "cell_type": "code",
      "execution_count": null,
      "metadata": {
        "id": "YFIwoaNw_4Rv"
      },
      "outputs": [],
      "source": [
        "# Evaluate the model with classification report\n",
        "predictions_roberta = roberta_model.predict(test_dataset_roberta)\n",
        "predicted_labels_roberta = tf.argmax(predictions_roberta.logits, axis=1)\n",
        "\n",
        "classification_report_roberta = classification_report(y_test, predicted_labels_roberta, target_names=[\"Negative\", \"Positive\"])\n",
        "print('RoBERTa Model')\n",
        "print(classification_report_roberta)"
      ],
      "id": "YFIwoaNw_4Rv"
    },
    {
      "cell_type": "markdown",
      "metadata": {
        "id": "56a28577"
      },
      "source": [
        "# BERT"
      ],
      "id": "56a28577"
    },
    {
      "cell_type": "code",
      "execution_count": null,
      "metadata": {
        "colab": {
          "base_uri": "https://localhost:8080/"
        },
        "id": "954d17a7",
        "outputId": "df7acdee-d600-4762-9a54-596b135c31a0"
      },
      "outputs": [
        {
          "name": "stderr",
          "output_type": "stream",
          "text": [
            "All PyTorch model weights were used when initializing TFBertForSequenceClassification.\n",
            "\n",
            "Some weights or buffers of the TF 2.0 model TFBertForSequenceClassification were not initialized from the PyTorch model and are newly initialized: ['classifier.weight', 'classifier.bias']\n",
            "You should probably TRAIN this model on a down-stream task to be able to use it for predictions and inference.\n"
          ]
        },
        {
          "name": "stdout",
          "output_type": "stream",
          "text": [
            "157/157 [==============================] - 208s 1s/step\n",
            "BERT Model\n",
            "Test Accuracy: 0.828\n",
            "F1 Score: 0.9059080962800875\n",
            "Precision: 0.828\n",
            "Recall: 1.0\n",
            "\n"
          ]
        }
      ],
      "source": [
        "# REFERENCE: 4)\n",
        "\n",
        "# Initialize the tokenizer\n",
        "bert_tokenizer = BertTokenizer.from_pretrained('bert-base-uncased')\n",
        "\n",
        "# Tokenize the input texts\n",
        "X_train_bert = bert_tokenizer.batch_encode_plus(X_train.tolist(), padding=True, truncation=True, return_tensors='tf')\n",
        "X_test_bert = bert_tokenizer.batch_encode_plus(X_test.tolist(), padding=True, truncation=True, return_tensors='tf')\n",
        "\n",
        "# Create TensorFlow datasets\n",
        "train_dataset_bert = tf.data.Dataset.from_tensor_slices((\n",
        "    dict(X_train_bert),\n",
        "    y_train\n",
        ")).batch(32)\n",
        "\n",
        "test_dataset_bert = tf.data.Dataset.from_tensor_slices((\n",
        "    dict(X_test_bert),\n",
        "    y_test\n",
        ")).batch(32)\n",
        "\n",
        "# Load the pre-trained BERT model\n",
        "bert_model = TFBertForSequenceClassification.from_pretrained('bert-base-uncased')\n",
        "\n",
        "# Compile the model\n",
        "bert_model.compile(optimizer='adam',\n",
        "                   loss=tf.keras.losses.SparseCategoricalCrossentropy(from_logits=True),\n",
        "                   metrics=['accuracy'])\n",
        "\n",
        "# Evaluate the model\n",
        "predictions_bert = bert_model.predict(test_dataset_bert)\n",
        "predicted_labels_bert = tf.argmax(predictions_bert.logits, axis=1)\n",
        "accuracy_bert = accuracy_score(y_test, predicted_labels_bert)\n",
        "f1_bert = f1_score(y_test, predicted_labels_bert)\n",
        "precision_bert = precision_score(y_test, predicted_labels_bert)\n",
        "recall_bert = recall_score(y_test, predicted_labels_bert)\n",
        "\n",
        "print('BERT Model')\n",
        "print('Test Accuracy:', accuracy_bert)\n",
        "print('F1 Score:', f1_bert)\n",
        "print('Precision:', precision_bert)\n",
        "print('Recall:', recall_bert)\n",
        "print()"
      ],
      "id": "954d17a7"
    },
    {
      "cell_type": "code",
      "execution_count": null,
      "metadata": {
        "id": "UFFZDIsQsHar"
      },
      "outputs": [],
      "source": [
        "# Evaluate the model\n",
        "predictions_bert = bert_model.predict(test_dataset_bert)\n",
        "predicted_labels_bert = tf.argmax(predictions_bert.logits, axis=1)\n",
        "\n",
        "classification_report_bert = classification_report(y_test, predicted_labels_bert, target_names=[\"Negative\", \"Positive\"])\n",
        "print('BERT Model')\n",
        "print(classification_report_bert)\n"
      ],
      "id": "UFFZDIsQsHar"
    },
    {
      "cell_type": "markdown",
      "metadata": {
        "id": "HHmBC_RWrocF"
      },
      "source": [
        "- Try to change threshold for prediction\n",
        "  - still poor results"
      ],
      "id": "HHmBC_RWrocF"
    },
    {
      "cell_type": "code",
      "execution_count": null,
      "metadata": {
        "colab": {
          "base_uri": "https://localhost:8080/"
        },
        "id": "_CwRsqx-iim7",
        "outputId": "4b2de2de-971f-424f-edba-91183efc8820"
      },
      "outputs": [
        {
          "name": "stdout",
          "output_type": "stream",
          "text": [
            "BERT Model with Modified Threshold\n",
            "Test Accuracy: 0.5718\n",
            "F1 Score: 0.6947968638631503\n",
            "Precision: 0.8476521739130435\n",
            "Recall: 0.5886473429951691\n",
            "Classification Report for BERT Model with Modified Threshold:\n",
            "              precision    recall  f1-score   support\n",
            "\n",
            "           0       0.20      0.49      0.28       860\n",
            "           1       0.85      0.59      0.69      4140\n",
            "\n",
            "    accuracy                           0.57      5000\n",
            "   macro avg       0.52      0.54      0.49      5000\n",
            "weighted avg       0.74      0.57      0.62      5000\n",
            "\n",
            "\n"
          ]
        }
      ],
      "source": [
        "# Try to change threshold for prediction (still got poor results)\n",
        "\n",
        "# Set the threshold for label 0\n",
        "threshold = 0.66\n",
        "\n",
        "# Get predicted probabilities for each class\n",
        "predicted_probabilities_bert = tf.nn.softmax(predictions_bert.logits, axis=1)\n",
        "predicted_labels_bert = tf.cast(predicted_probabilities_bert[:, 1] > threshold, tf.int32)\n",
        "\n",
        "# Calculate metrics\n",
        "accuracy_bert = accuracy_score(y_test, predicted_labels_bert)\n",
        "f1_bert = f1_score(y_test, predicted_labels_bert)\n",
        "precision_bert = precision_score(y_test, predicted_labels_bert)\n",
        "recall_bert = recall_score(y_test, predicted_labels_bert)\n",
        "\n",
        "print('BERT Model with Modified Threshold')\n",
        "print('Test Accuracy:', accuracy_bert)\n",
        "print('F1 Score:', f1_bert)\n",
        "print('Precision:', precision_bert)\n",
        "print('Recall:', recall_bert)\n",
        "\n",
        "# Calculate classification report\n",
        "report = classification_report(y_test, predicted_labels_bert)\n",
        "print(f\"Classification Report for BERT Model with Modified Threshold:\\n{report}\\n\")\n"
      ],
      "id": "_CwRsqx-iim7"
    },
    {
      "cell_type": "markdown",
      "metadata": {
        "id": "4fc84bf7"
      },
      "source": [
        "# FINE TUNE BERT\n",
        "- Freeze all layers exept the last 2 (this number is arbitrary, i used a small value for running time reason)\n",
        "- This should be trained on more epochs (but i got hard time with time of training)"
      ],
      "id": "4fc84bf7"
    },
    {
      "cell_type": "code",
      "execution_count": null,
      "metadata": {
        "id": "w2VD7wrtPdSg"
      },
      "outputs": [],
      "source": [
        "# put here the next try"
      ],
      "id": "w2VD7wrtPdSg"
    },
    {
      "cell_type": "code",
      "execution_count": null,
      "metadata": {
        "colab": {
          "base_uri": "https://localhost:8080/"
        },
        "id": "7fb81a90",
        "outputId": "587276be-67ae-456a-b802-d36d74d6b3a8"
      },
      "outputs": [
        {
          "name": "stderr",
          "output_type": "stream",
          "text": [
            "All PyTorch model weights were used when initializing TFBertForSequenceClassification.\n",
            "\n",
            "Some weights or buffers of the TF 2.0 model TFBertForSequenceClassification were not initialized from the PyTorch model and are newly initialized: ['classifier.weight', 'classifier.bias']\n",
            "You should probably TRAIN this model on a down-stream task to be able to use it for predictions and inference.\n"
          ]
        },
        {
          "name": "stdout",
          "output_type": "stream",
          "text": [
            "2813/2813 [==============================] - 2256s 796ms/step - loss: 0.4543 - accuracy: 0.8226 - val_loss: 0.4341 - val_accuracy: 0.8280\n"
          ]
        }
      ],
      "source": [
        "# Initialize the BERT tokenizer\n",
        "tokenizer = BertTokenizer.from_pretrained('bert-base-uncased')\n",
        "\n",
        "# Tokenize the training and test texts\n",
        "train_encodings = tokenizer(list(X_train), truncation=True, padding=True)\n",
        "test_encodings = tokenizer(list(X_test), truncation=True, padding=True)\n",
        "\n",
        "# Create TensorFlow datasets\n",
        "train_dataset = tf.data.Dataset.from_tensor_slices((\n",
        "    dict(train_encodings),\n",
        "    y_train\n",
        "))\n",
        "test_dataset = tf.data.Dataset.from_tensor_slices((\n",
        "    dict(test_encodings),\n",
        "    y_test\n",
        "))\n",
        "\n",
        "# Define the model\n",
        "model = TFBertForSequenceClassification.from_pretrained('bert-base-uncased', num_labels=2)\n",
        "\n",
        "# Unfreeze 2 layers for fine-tuning\n",
        "for layer in model.layers[:-2]:\n",
        "    layer.trainable = False\n",
        "\n",
        "# Compile the model\n",
        "optimizer = tf.keras.optimizers.Adam(learning_rate=1e-4)\n",
        "model.compile(optimizer=optimizer, loss=tf.keras.losses.SparseCategoricalCrossentropy(from_logits=True), metrics=['accuracy'])\n",
        "\n",
        "# fine-tuning\n",
        "history = model.fit(\n",
        "    train_dataset.shuffle(1000).batch(16),\n",
        "    epochs=1, # increase number of epoch\n",
        "    batch_size=16,\n",
        "    validation_data=test_dataset.batch(16)\n",
        ")\n"
      ],
      "id": "7fb81a90"
    },
    {
      "cell_type": "code",
      "execution_count": null,
      "metadata": {
        "colab": {
          "base_uri": "https://localhost:8080/"
        },
        "id": "-ng1B3tPwPzH",
        "outputId": "a843fee2-ebe7-43cb-9a15-0fb343158ff1"
      },
      "outputs": [
        {
          "name": "stdout",
          "output_type": "stream",
          "text": [
            "157/157 [==============================] - 205s 1s/step\n",
            "Threshold: 0.7\n",
            "Test Accuracy: 0.179\n",
            "F1 Score: 0.01770758554678153\n",
            "Precision: 0.9487179487179487\n",
            "Recall: 0.008937198067632851\n",
            "Classification Report:\n",
            "              precision    recall  f1-score   support\n",
            "\n",
            "           0       0.17      1.00      0.29       860\n",
            "           1       0.95      0.01      0.02      4140\n",
            "\n",
            "    accuracy                           0.18      5000\n",
            "   macro avg       0.56      0.50      0.16      5000\n",
            "weighted avg       0.82      0.18      0.07      5000\n",
            "\n",
            "\n"
          ]
        }
      ],
      "source": [
        "# Get predicted probabilities for each class\n",
        "predictions_bert = bert_model.predict(test_dataset_bert)\n",
        "predicted_probabilities_bert = tf.nn.softmax(predictions_bert.logits, axis=1)\n",
        "\n",
        "# Set the threshold for label prediction\n",
        "threshold = 0.7  # Adjust as needed\n",
        "predicted_labels_bert = tf.cast(predicted_probabilities_bert[:, 1] > threshold, tf.int32)\n",
        "\n",
        "# Calculate metrics for the selected threshold\n",
        "accuracy_bert = accuracy_score(y_test, predicted_labels_bert)\n",
        "f1_bert = f1_score(y_test, predicted_labels_bert)\n",
        "precision_bert = precision_score(y_test, predicted_labels_bert)\n",
        "recall_bert = recall_score(y_test, predicted_labels_bert)\n",
        "\n",
        "print(f'Threshold: {threshold}')\n",
        "print('Test Accuracy:', accuracy_bert)\n",
        "print('F1 Score:', f1_bert)\n",
        "print('Precision:', precision_bert)\n",
        "print('Recall:', recall_bert)\n",
        "\n",
        "# Calculate classification report\n",
        "report_bert = classification_report(y_test, predicted_labels_bert)\n",
        "print(f\"Classification Report:\\n{report_bert}\\n\")\n"
      ],
      "id": "-ng1B3tPwPzH"
    },
    {
      "cell_type": "markdown",
      "metadata": {
        "id": "oi9ADiGvIYuD"
      },
      "source": [
        "# Find Best hyparameters for the model that perform better\n",
        "- The ML algorithm got almost same performance and i choosed the Logistic Regression"
      ],
      "id": "oi9ADiGvIYuD"
    },
    {
      "cell_type": "code",
      "execution_count": null,
      "metadata": {
        "colab": {
          "base_uri": "https://localhost:8080/"
        },
        "id": "J_pAlaH3caG8",
        "outputId": "5226c1a3-4424-490a-80f0-cd2531384708"
      },
      "outputs": [
        {
          "name": "stderr",
          "output_type": "stream",
          "text": [
            "/usr/local/lib/python3.10/dist-packages/sklearn/model_selection/_validation.py:378: FitFailedWarning: \n",
            "4 fits failed out of a total of 10.\n",
            "The score on these train-test partitions for these parameters will be set to nan.\n",
            "If these failures are not expected, you can try to debug them by setting error_score='raise'.\n",
            "\n",
            "Below are more details about the failures:\n",
            "--------------------------------------------------------------------------------\n",
            "4 fits failed with the following error:\n",
            "Traceback (most recent call last):\n",
            "  File \"/usr/local/lib/python3.10/dist-packages/sklearn/model_selection/_validation.py\", line 686, in _fit_and_score\n",
            "    estimator.fit(X_train, y_train, **fit_params)\n",
            "  File \"/usr/local/lib/python3.10/dist-packages/imblearn/pipeline.py\", line 297, in fit\n",
            "    self._final_estimator.fit(Xt, yt, **fit_params_last_step)\n",
            "  File \"/usr/local/lib/python3.10/dist-packages/sklearn/linear_model/_logistic.py\", line 1162, in fit\n",
            "    solver = _check_solver(self.solver, self.penalty, self.dual)\n",
            "  File \"/usr/local/lib/python3.10/dist-packages/sklearn/linear_model/_logistic.py\", line 54, in _check_solver\n",
            "    raise ValueError(\n",
            "ValueError: Solver lbfgs supports only 'l2' or 'none' penalties, got l1 penalty.\n",
            "\n",
            "  warnings.warn(some_fits_failed_message, FitFailedWarning)\n",
            "/usr/local/lib/python3.10/dist-packages/sklearn/model_selection/_search.py:952: UserWarning: One or more of the test scores are non-finite: [       nan 0.81022222        nan 0.84281481 0.80740741]\n",
            "  warnings.warn(\n",
            "/usr/local/lib/python3.10/dist-packages/sklearn/model_selection/_search.py:952: UserWarning: One or more of the test scores are non-finite: [       nan 0.87763715        nan 0.91195972 0.87572791]\n",
            "  warnings.warn(\n"
          ]
        },
        {
          "name": "stdout",
          "output_type": "stream",
          "text": [
            "[CV] END ............ accuracy: (test=0.860) f1: (test=0.920) total time=  11.2s\n"
          ]
        },
        {
          "name": "stderr",
          "output_type": "stream",
          "text": [
            "/usr/local/lib/python3.10/dist-packages/sklearn/model_selection/_validation.py:378: FitFailedWarning: \n",
            "4 fits failed out of a total of 10.\n",
            "The score on these train-test partitions for these parameters will be set to nan.\n",
            "If these failures are not expected, you can try to debug them by setting error_score='raise'.\n",
            "\n",
            "Below are more details about the failures:\n",
            "--------------------------------------------------------------------------------\n",
            "4 fits failed with the following error:\n",
            "Traceback (most recent call last):\n",
            "  File \"/usr/local/lib/python3.10/dist-packages/sklearn/model_selection/_validation.py\", line 686, in _fit_and_score\n",
            "    estimator.fit(X_train, y_train, **fit_params)\n",
            "  File \"/usr/local/lib/python3.10/dist-packages/imblearn/pipeline.py\", line 297, in fit\n",
            "    self._final_estimator.fit(Xt, yt, **fit_params_last_step)\n",
            "  File \"/usr/local/lib/python3.10/dist-packages/sklearn/linear_model/_logistic.py\", line 1162, in fit\n",
            "    solver = _check_solver(self.solver, self.penalty, self.dual)\n",
            "  File \"/usr/local/lib/python3.10/dist-packages/sklearn/linear_model/_logistic.py\", line 54, in _check_solver\n",
            "    raise ValueError(\n",
            "ValueError: Solver lbfgs supports only 'l2' or 'none' penalties, got l1 penalty.\n",
            "\n",
            "  warnings.warn(some_fits_failed_message, FitFailedWarning)\n",
            "/usr/local/lib/python3.10/dist-packages/sklearn/model_selection/_search.py:952: UserWarning: One or more of the test scores are non-finite: [0.80681481        nan        nan 0.84311111 0.776     ]\n",
            "  warnings.warn(\n",
            "/usr/local/lib/python3.10/dist-packages/sklearn/model_selection/_search.py:952: UserWarning: One or more of the test scores are non-finite: [0.87554256        nan        nan 0.91212324 0.85034113]\n",
            "  warnings.warn(\n"
          ]
        },
        {
          "name": "stdout",
          "output_type": "stream",
          "text": [
            "[CV] END ............ accuracy: (test=0.856) f1: (test=0.918) total time=   5.1s\n"
          ]
        },
        {
          "name": "stderr",
          "output_type": "stream",
          "text": [
            "/usr/local/lib/python3.10/dist-packages/sklearn/model_selection/_validation.py:378: FitFailedWarning: \n",
            "2 fits failed out of a total of 10.\n",
            "The score on these train-test partitions for these parameters will be set to nan.\n",
            "If these failures are not expected, you can try to debug them by setting error_score='raise'.\n",
            "\n",
            "Below are more details about the failures:\n",
            "--------------------------------------------------------------------------------\n",
            "2 fits failed with the following error:\n",
            "Traceback (most recent call last):\n",
            "  File \"/usr/local/lib/python3.10/dist-packages/sklearn/model_selection/_validation.py\", line 686, in _fit_and_score\n",
            "    estimator.fit(X_train, y_train, **fit_params)\n",
            "  File \"/usr/local/lib/python3.10/dist-packages/imblearn/pipeline.py\", line 297, in fit\n",
            "    self._final_estimator.fit(Xt, yt, **fit_params_last_step)\n",
            "  File \"/usr/local/lib/python3.10/dist-packages/sklearn/linear_model/_logistic.py\", line 1162, in fit\n",
            "    solver = _check_solver(self.solver, self.penalty, self.dual)\n",
            "  File \"/usr/local/lib/python3.10/dist-packages/sklearn/linear_model/_logistic.py\", line 54, in _check_solver\n",
            "    raise ValueError(\n",
            "ValueError: Solver lbfgs supports only 'l2' or 'none' penalties, got l1 penalty.\n",
            "\n",
            "  warnings.warn(some_fits_failed_message, FitFailedWarning)\n",
            "/usr/local/lib/python3.10/dist-packages/sklearn/model_selection/_search.py:952: UserWarning: One or more of the test scores are non-finite: [0.76503704        nan 0.80785185 0.76888889 0.83925926]\n",
            "  warnings.warn(\n",
            "/usr/local/lib/python3.10/dist-packages/sklearn/model_selection/_search.py:952: UserWarning: One or more of the test scores are non-finite: [0.84127169        nan 0.87645344 0.8444946  0.90986107]\n",
            "  warnings.warn(\n"
          ]
        },
        {
          "name": "stdout",
          "output_type": "stream",
          "text": [
            "[CV] END ............ accuracy: (test=0.860) f1: (test=0.920) total time=   4.4s\n"
          ]
        },
        {
          "name": "stderr",
          "output_type": "stream",
          "text": [
            "/usr/local/lib/python3.10/dist-packages/sklearn/model_selection/_validation.py:378: FitFailedWarning: \n",
            "2 fits failed out of a total of 10.\n",
            "The score on these train-test partitions for these parameters will be set to nan.\n",
            "If these failures are not expected, you can try to debug them by setting error_score='raise'.\n",
            "\n",
            "Below are more details about the failures:\n",
            "--------------------------------------------------------------------------------\n",
            "2 fits failed with the following error:\n",
            "Traceback (most recent call last):\n",
            "  File \"/usr/local/lib/python3.10/dist-packages/sklearn/model_selection/_validation.py\", line 686, in _fit_and_score\n",
            "    estimator.fit(X_train, y_train, **fit_params)\n",
            "  File \"/usr/local/lib/python3.10/dist-packages/imblearn/pipeline.py\", line 297, in fit\n",
            "    self._final_estimator.fit(Xt, yt, **fit_params_last_step)\n",
            "  File \"/usr/local/lib/python3.10/dist-packages/sklearn/linear_model/_logistic.py\", line 1162, in fit\n",
            "    solver = _check_solver(self.solver, self.penalty, self.dual)\n",
            "  File \"/usr/local/lib/python3.10/dist-packages/sklearn/linear_model/_logistic.py\", line 54, in _check_solver\n",
            "    raise ValueError(\n",
            "ValueError: Solver lbfgs supports only 'l2' or 'none' penalties, got l1 penalty.\n",
            "\n",
            "  warnings.warn(some_fits_failed_message, FitFailedWarning)\n",
            "/usr/local/lib/python3.10/dist-packages/sklearn/model_selection/_search.py:952: UserWarning: One or more of the test scores are non-finite: [       nan 0.77274074 0.81688889 0.84251852 0.8202963 ]\n",
            "  warnings.warn(\n",
            "/usr/local/lib/python3.10/dist-packages/sklearn/model_selection/_search.py:952: UserWarning: One or more of the test scores are non-finite: [       nan 0.84778736 0.88265622 0.91174799 0.88533965]\n",
            "  warnings.warn(\n"
          ]
        },
        {
          "name": "stdout",
          "output_type": "stream",
          "text": [
            "[CV] END ............ accuracy: (test=0.856) f1: (test=0.918) total time=   6.7s\n",
            "Best Estimator for Logistic Regression:\n",
            "Pipeline(steps=[('vectorizer', TfidfVectorizer(max_features=20000)),\n",
            "                ('sampler', None),\n",
            "                ('classifier', LogisticRegression(max_iter=500))])\n",
            "\n",
            "Classification Report for Logistic Regression:\n",
            "              precision    recall  f1-score   support\n",
            "\n",
            "           0       0.75      0.31      0.44       169\n",
            "           1       0.88      0.98      0.92       831\n",
            "\n",
            "    accuracy                           0.87      1000\n",
            "   macro avg       0.81      0.65      0.68      1000\n",
            "weighted avg       0.85      0.87      0.84      1000\n",
            "\n",
            "\n"
          ]
        }
      ],
      "source": [
        "# Define the classifier configurations\n",
        "classifier_configs = [\n",
        "    {\n",
        "        'classifier': [LogisticRegression()],\n",
        "        'classifier__max_iter': [100, 500, 1000],\n",
        "        'sampler': [None, SMOTE(n_jobs=-1), RandomUnderSampler()],\n",
        "        'classifier__penalty': ['l1', 'l2'],\n",
        "    }\n",
        "]\n",
        "\n",
        "# Define the model name\n",
        "model_name = 'Logistic Regression'\n",
        "\n",
        "# Define the parameter grid for random search\n",
        "all_configs = [dict(itertools.chain(*(e.items() for e in configuration))) for configuration in\n",
        "               itertools.product(classifier_configs)]\n",
        "\n",
        "# Define the pipeline with TfidfVectorizer, sampler, and classifier\n",
        "pipeline = Pipeline([\n",
        "    ('vectorizer', TfidfVectorizer(max_features=20000)),\n",
        "    ('sampler', None),\n",
        "    ('classifier', LogisticRegression())\n",
        "])\n",
        "\n",
        "# Perform random search with cross-validation\n",
        "rs = RandomizedSearchCV(pipeline,\n",
        "                        param_distributions=all_configs,\n",
        "                        n_iter=len(all_configs) * 5,\n",
        "                        n_jobs=-1,\n",
        "                        cv=2,\n",
        "                        scoring={\n",
        "                            'accuracy': make_scorer(accuracy_score),\n",
        "                            'f1': make_scorer(f1_score)\n",
        "                        },\n",
        "                        refit='f1'\n",
        "                        )\n",
        "\n",
        "# Perform cross-validation with scoring\n",
        "scores = cross_validate(rs, X_train, y_train, scoring=['accuracy', 'f1'], cv=4, return_estimator=True, verbose=3,\n",
        "                        error_score='raise')\n",
        "\n",
        "best_estimator = scores['estimator'][0].best_estimator_\n",
        "\n",
        "print(f\"Best Estimator for {model_name}:\")\n",
        "print(best_estimator)\n",
        "\n",
        "# Fit the best estimator on the training data\n",
        "best_estimator.fit(X_train, y_train)\n",
        "\n",
        "# Predict on the test data\n",
        "y_pred = best_estimator.predict(X_test)\n",
        "\n",
        "# Calculate precision, recall, and f1 score\n",
        "report = classification_report(y_test, y_pred)\n",
        "print(f\"\\nClassification Report for {model_name}:\\n{report}\\n\")\n"
      ],
      "id": "J_pAlaH3caG8"
    },
    {
      "cell_type": "markdown",
      "metadata": {
        "id": "vd5tSjNaHmyS"
      },
      "source": [
        "Best Estimator for Logistic Regression:\n",
        "Pipeline(steps=[('vectorizer', TfidfVectorizer(max_features=20000)),\n",
        "                ('sampler', None),\n",
        "                ('classifier', LogisticRegression(max_iter=500))])"
      ],
      "id": "vd5tSjNaHmyS"
    },
    {
      "cell_type": "markdown",
      "metadata": {
        "id": "WI9sZVw7HgnM"
      },
      "source": [
        "# Try on Larger Dataset\n",
        "- This improved slighly the performance\n"
      ],
      "id": "WI9sZVw7HgnM"
    },
    {
      "cell_type": "code",
      "execution_count": null,
      "metadata": {
        "colab": {
          "base_uri": "https://localhost:8080/",
          "height": 159
        },
        "id": "XuC04fQhGAQR",
        "outputId": "134590a9-7c20-4c4d-a4e1-ca00492edd76"
      },
      "outputs": [
        {
          "data": {
            "text/html": [
              "<style>#sk-container-id-1 {color: black;background-color: white;}#sk-container-id-1 pre{padding: 0;}#sk-container-id-1 div.sk-toggleable {background-color: white;}#sk-container-id-1 label.sk-toggleable__label {cursor: pointer;display: block;width: 100%;margin-bottom: 0;padding: 0.3em;box-sizing: border-box;text-align: center;}#sk-container-id-1 label.sk-toggleable__label-arrow:before {content: \"▸\";float: left;margin-right: 0.25em;color: #696969;}#sk-container-id-1 label.sk-toggleable__label-arrow:hover:before {color: black;}#sk-container-id-1 div.sk-estimator:hover label.sk-toggleable__label-arrow:before {color: black;}#sk-container-id-1 div.sk-toggleable__content {max-height: 0;max-width: 0;overflow: hidden;text-align: left;background-color: #f0f8ff;}#sk-container-id-1 div.sk-toggleable__content pre {margin: 0.2em;color: black;border-radius: 0.25em;background-color: #f0f8ff;}#sk-container-id-1 input.sk-toggleable__control:checked~div.sk-toggleable__content {max-height: 200px;max-width: 100%;overflow: auto;}#sk-container-id-1 input.sk-toggleable__control:checked~label.sk-toggleable__label-arrow:before {content: \"▾\";}#sk-container-id-1 div.sk-estimator input.sk-toggleable__control:checked~label.sk-toggleable__label {background-color: #d4ebff;}#sk-container-id-1 div.sk-label input.sk-toggleable__control:checked~label.sk-toggleable__label {background-color: #d4ebff;}#sk-container-id-1 input.sk-hidden--visually {border: 0;clip: rect(1px 1px 1px 1px);clip: rect(1px, 1px, 1px, 1px);height: 1px;margin: -1px;overflow: hidden;padding: 0;position: absolute;width: 1px;}#sk-container-id-1 div.sk-estimator {font-family: monospace;background-color: #f0f8ff;border: 1px dotted black;border-radius: 0.25em;box-sizing: border-box;margin-bottom: 0.5em;}#sk-container-id-1 div.sk-estimator:hover {background-color: #d4ebff;}#sk-container-id-1 div.sk-parallel-item::after {content: \"\";width: 100%;border-bottom: 1px solid gray;flex-grow: 1;}#sk-container-id-1 div.sk-label:hover label.sk-toggleable__label {background-color: #d4ebff;}#sk-container-id-1 div.sk-serial::before {content: \"\";position: absolute;border-left: 1px solid gray;box-sizing: border-box;top: 0;bottom: 0;left: 50%;z-index: 0;}#sk-container-id-1 div.sk-serial {display: flex;flex-direction: column;align-items: center;background-color: white;padding-right: 0.2em;padding-left: 0.2em;position: relative;}#sk-container-id-1 div.sk-item {position: relative;z-index: 1;}#sk-container-id-1 div.sk-parallel {display: flex;align-items: stretch;justify-content: center;background-color: white;position: relative;}#sk-container-id-1 div.sk-item::before, #sk-container-id-1 div.sk-parallel-item::before {content: \"\";position: absolute;border-left: 1px solid gray;box-sizing: border-box;top: 0;bottom: 0;left: 50%;z-index: -1;}#sk-container-id-1 div.sk-parallel-item {display: flex;flex-direction: column;z-index: 1;position: relative;background-color: white;}#sk-container-id-1 div.sk-parallel-item:first-child::after {align-self: flex-end;width: 50%;}#sk-container-id-1 div.sk-parallel-item:last-child::after {align-self: flex-start;width: 50%;}#sk-container-id-1 div.sk-parallel-item:only-child::after {width: 0;}#sk-container-id-1 div.sk-dashed-wrapped {border: 1px dashed gray;margin: 0 0.4em 0.5em 0.4em;box-sizing: border-box;padding-bottom: 0.4em;background-color: white;}#sk-container-id-1 div.sk-label label {font-family: monospace;font-weight: bold;display: inline-block;line-height: 1.2em;}#sk-container-id-1 div.sk-label-container {text-align: center;}#sk-container-id-1 div.sk-container {/* jupyter's `normalize.less` sets `[hidden] { display: none; }` but bootstrap.min.css set `[hidden] { display: none !important; }` so we also need the `!important` here to be able to override the default hidden behavior on the sphinx rendered scikit-learn.org. See: https://github.com/scikit-learn/scikit-learn/issues/21755 */display: inline-block !important;position: relative;}#sk-container-id-1 div.sk-text-repr-fallback {display: none;}</style><div id=\"sk-container-id-1\" class=\"sk-top-container\"><div class=\"sk-text-repr-fallback\"><pre>Pipeline(steps=[(&#x27;vectorizer&#x27;, TfidfVectorizer(max_features=20000)),\n",
              "                (&#x27;sampler&#x27;, None),\n",
              "                (&#x27;classifier&#x27;, LogisticRegression(max_iter=500))])</pre><b>In a Jupyter environment, please rerun this cell to show the HTML representation or trust the notebook. <br />On GitHub, the HTML representation is unable to render, please try loading this page with nbviewer.org.</b></div><div class=\"sk-container\" hidden><div class=\"sk-item sk-dashed-wrapped\"><div class=\"sk-label-container\"><div class=\"sk-label sk-toggleable\"><input class=\"sk-toggleable__control sk-hidden--visually\" id=\"sk-estimator-id-1\" type=\"checkbox\" ><label for=\"sk-estimator-id-1\" class=\"sk-toggleable__label sk-toggleable__label-arrow\">Pipeline</label><div class=\"sk-toggleable__content\"><pre>Pipeline(steps=[(&#x27;vectorizer&#x27;, TfidfVectorizer(max_features=20000)),\n",
              "                (&#x27;sampler&#x27;, None),\n",
              "                (&#x27;classifier&#x27;, LogisticRegression(max_iter=500))])</pre></div></div></div><div class=\"sk-serial\"><div class=\"sk-item\"><div class=\"sk-estimator sk-toggleable\"><input class=\"sk-toggleable__control sk-hidden--visually\" id=\"sk-estimator-id-2\" type=\"checkbox\" ><label for=\"sk-estimator-id-2\" class=\"sk-toggleable__label sk-toggleable__label-arrow\">TfidfVectorizer</label><div class=\"sk-toggleable__content\"><pre>TfidfVectorizer(max_features=20000)</pre></div></div></div><div class=\"sk-item\"><div class=\"sk-estimator sk-toggleable\"><input class=\"sk-toggleable__control sk-hidden--visually\" id=\"sk-estimator-id-3\" type=\"checkbox\" ><label for=\"sk-estimator-id-3\" class=\"sk-toggleable__label sk-toggleable__label-arrow\">None</label><div class=\"sk-toggleable__content\"><pre>None</pre></div></div></div><div class=\"sk-item\"><div class=\"sk-estimator sk-toggleable\"><input class=\"sk-toggleable__control sk-hidden--visually\" id=\"sk-estimator-id-4\" type=\"checkbox\" ><label for=\"sk-estimator-id-4\" class=\"sk-toggleable__label sk-toggleable__label-arrow\">LogisticRegression</label><div class=\"sk-toggleable__content\"><pre>LogisticRegression(max_iter=500)</pre></div></div></div></div></div></div></div>"
            ],
            "text/plain": [
              "Pipeline(steps=[('vectorizer', TfidfVectorizer(max_features=20000)),\n",
              "                ('sampler', None),\n",
              "                ('classifier', LogisticRegression(max_iter=500))])"
            ]
          },
          "execution_count": 22,
          "metadata": {},
          "output_type": "execute_result"
        }
      ],
      "source": [
        "# Take the sample of the hole dataset (used all the dataset that remain after the EDA and Preprocessing)\n",
        "df_sample_2 = df\n",
        "\n",
        "# Apply preprocessing on the sample dataset\n",
        "df_sample_2['X'] = df_sample_2['X'].apply(preprocess_text)\n",
        "\n",
        "#SPLITS\n",
        "\n",
        "# Split the dataset into X (features) and y (target)\n",
        "X = df_sample_2['X']\n",
        "y = df_sample_2['y']\n",
        "\n",
        "# Split the data into training and testing sets\n",
        "X_train, X_test, y_train, y_test = train_test_split(X, y, test_size=0.1, random_state=42)\n",
        "\n",
        "# Define the best estimator obtained from the random search\n",
        "best_estimator = Pipeline([\n",
        "    ('vectorizer', TfidfVectorizer(max_features=20000)),\n",
        "    ('sampler', None),\n",
        "    ('classifier', LogisticRegression(max_iter=500))\n",
        "])\n",
        "\n",
        "# Fit the best estimator on the training data\n",
        "best_estimator.fit(X_train, y_train)\n",
        "\n"
      ],
      "id": "XuC04fQhGAQR"
    },
    {
      "cell_type": "code",
      "execution_count": null,
      "metadata": {
        "colab": {
          "base_uri": "https://localhost:8080/"
        },
        "id": "LJKeax-9Kvx9",
        "outputId": "2c058266-acb3-4469-c475-513a7b348f0b"
      },
      "outputs": [
        {
          "name": "stdout",
          "output_type": "stream",
          "text": [
            "\n",
            "Classification Report for Logistic Regression :\n",
            "              precision    recall  f1-score   support\n",
            "\n",
            "           0       0.77      0.50      0.61      1463\n",
            "           1       0.90      0.97      0.93      6766\n",
            "\n",
            "    accuracy                           0.89      8229\n",
            "   macro avg       0.84      0.74      0.77      8229\n",
            "weighted avg       0.88      0.89      0.88      8229\n",
            "\n",
            "\n",
            "ROC AUC: 0.7355757719884858\n"
          ]
        }
      ],
      "source": [
        "# Predict on the test data\n",
        "y_pred = best_estimator.predict(X_test)\n",
        "\n",
        "# Calculate precision, recall, and f1 score\n",
        "report = classification_report(y_test, y_pred)\n",
        "print(f\"\\nClassification Report for Logistic Regression :\\n{report}\\n\")\n",
        "\n",
        "\n",
        "# Calculate ROC AUC\n",
        "roc_auc = roc_auc_score(y_test, y_pred)\n",
        "print(f\"ROC AUC: {roc_auc}\")\n"
      ],
      "id": "LJKeax-9Kvx9"
    },
    {
      "cell_type": "markdown",
      "metadata": {
        "id": "EcJB7j52SgyR"
      },
      "source": [
        "- Try with different threshold for labels"
      ],
      "id": "EcJB7j52SgyR"
    },
    {
      "cell_type": "code",
      "execution_count": null,
      "metadata": {
        "colab": {
          "base_uri": "https://localhost:8080/"
        },
        "id": "BjcjgEGaMg1c",
        "outputId": "c9fad7a6-27c4-4695-85db-726ea6f7bf70"
      },
      "outputs": [
        {
          "name": "stdout",
          "output_type": "stream",
          "text": [
            "\n",
            "Adjusted Classification Report for Logistic Regression:\n",
            "              precision    recall  f1-score   support\n",
            "\n",
            "           0       0.65      0.71      0.68      1463\n",
            "           1       0.94      0.92      0.93      6766\n",
            "\n",
            "    accuracy                           0.88      8229\n",
            "   macro avg       0.79      0.81      0.80      8229\n",
            "weighted avg       0.89      0.88      0.88      8229\n",
            "\n",
            "\n",
            "Adjusted Accuracy: 0.8799368088467614\n",
            "Accuracy: 0.8799368088467614\n",
            "F1 Score: 0.9261805140466228\n",
            "Precision: 0.9365367180417045\n",
            "Recall: 0.9160508424475318\n"
          ]
        }
      ],
      "source": [
        "# Predict probabilities instead of labels\n",
        "y_pred_proba = best_estimator.predict_proba(X_test)\n",
        "\n",
        "# Adjust the threshold for classifying label 0\n",
        "threshold = 0.3\n",
        "y_pred_adjusted = [0 if prob[0] > threshold else 1 for prob in y_pred_proba]\n",
        "\n",
        "# classification report\n",
        "report_adjusted = classification_report(y_test, y_pred_adjusted)\n",
        "print(f\"\\nAdjusted Classification Report for Logistic Regression:\\n{report_adjusted}\\n\")\n",
        "\n",
        "\n",
        "# accuracy\n",
        "accuracy = accuracy_score(y_test, y_pred_adjusted)\n",
        "\n",
        "# F1 score\n",
        "f1 = f1_score(y_test, y_pred_adjusted)\n",
        "\n",
        "# precision\n",
        "precision = precision_score(y_test, y_pred_adjusted)\n",
        "\n",
        "# recall\n",
        "recall = recall_score(y_test, y_pred_adjusted)\n",
        "\n",
        "print('Accuracy:', accuracy)\n",
        "print('F1 Score:', f1)\n",
        "print('Precision:', precision)\n",
        "print('Recall:', recall)\n"
      ],
      "id": "BjcjgEGaMg1c"
    },
    {
      "cell_type": "code",
      "execution_count": null,
      "metadata": {
        "id": "pBd2WPBYcf-Q"
      },
      "outputs": [],
      "source": [
        "# Calculate ROC AUC\n",
        "roc_auc = roc_auc_score(y_test, y_pred_adjusted)\n",
        "print(f\"ROC AUC: {roc_auc}\")"
      ],
      "id": "pBd2WPBYcf-Q"
    },
    {
      "cell_type": "markdown",
      "metadata": {
        "id": "lOnhrgJXS7bn"
      },
      "source": [
        "# Results:\n",
        "- Best Model: Logistic Regression (with adjusted threshold)\n",
        "- Performance on Test Set:\n",
        "\n",
        "Accuracy: 0.8799368088467614\n",
        "\n",
        "F1 Score: 0.9261805140466228\n",
        "\n",
        "Precision: 0.9365367180417045\n",
        "\n",
        "Recall: 0.9160508424475318\n",
        "\n",
        "ROC-AUC score:\n",
        "\n",
        "(results can be improved with more analysis, check result section (in the report))\n"
      ],
      "id": "lOnhrgJXS7bn"
    },
    {
      "cell_type": "markdown",
      "metadata": {
        "id": "5hfxG0vUUU8w"
      },
      "source": [
        "# Reference\n",
        "- 1) word cloud for sentiment analysis: https://towardsdatascience.com/text-analytics-101-word-cloud-and-sentiment-analysis-2c3ade81c7e8\n",
        "- 2) remove emoji function : https://gist.github.com/slowkow/7a7f61f495e3dbb7e3d767f97bd7304b\n",
        "- 3) How to load and use GloVe word embeddings for LSTM:\n",
        "  - https://www.youtube.com/watch?v=Qsmn9pL5kcU&list=PLKTZ8NY7JJMae4aipkwKnsQfNwRLePSxY&index=2\n",
        "  -  https://stackoverflow.com/questions/37793118/load-pretrained-glove-vectors-in-python\n",
        "\n",
        "- 4) How to use pretrained bert: https://www.kaggle.com/code/pegahpooya/steam-reviews-sentiment-classification#Sentiment-Classification-with-BERT\n",
        "- 5) find state of art model https://paperswithcode.com/sota/sentiment-analysis-on-imdb\n",
        "\n",
        "- Others:\n",
        "  - https://huggingface.co/\n",
        "  - GloVe embeddings citation: lglove: Jeffrey Pennington, Richard Socher, and Christopher D. Manning. 2014. GloVe: Global Vectors for Word Representation. [pdf] [bib]\n",
        "  - https://www.kaggle.com/code/pegahpooya/steam-reviews-sentiment-classification#Sentiment-Classification-with-BERT"
      ],
      "id": "5hfxG0vUUU8w"
    }
  ],
  "metadata": {
    "accelerator": "GPU",
    "colab": {
      "provenance": []
    },
    "kernelspec": {
      "display_name": "Python 3",
      "name": "python3"
    },
    "language_info": {
      "codemirror_mode": {
        "name": "ipython",
        "version": 3
      },
      "file_extension": ".py",
      "mimetype": "text/x-python",
      "name": "python",
      "nbconvert_exporter": "python",
      "pygments_lexer": "ipython3",
      "version": "3.10.9"
    }
  },
  "nbformat": 4,
  "nbformat_minor": 5
}